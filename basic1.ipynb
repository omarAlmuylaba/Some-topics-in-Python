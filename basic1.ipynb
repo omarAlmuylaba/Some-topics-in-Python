{
 "cells": [
  {
   "cell_type": "raw",
   "id": "9be63b13",
   "metadata": {},
   "source": [
    "8. Write a Python program to display the first and last colors from the following list color_list = [\"Red\",\"Green\",\"White\" ,\"Black\"]\n"
   ]
  },
  {
   "cell_type": "code",
   "execution_count": 11,
   "id": "4f03d01e",
   "metadata": {},
   "outputs": [
    {
     "name": "stdout",
     "output_type": "stream",
     "text": [
      "Red Black\n"
     ]
    }
   ],
   "source": [
    "listcolor = [\"Red\",\"Green\",\"White\",\"Black\"]\n",
    "print(listcolor[0],listcolor[3])\n"
   ]
  },
  {
   "cell_type": "raw",
   "id": "31e51626",
   "metadata": {},
   "source": [
    "9. Write a Python program to display the examination schedule. (extract the date from exam_st_date). Go to the editor\n",
    "exam_st_date = (11, 12, 2014)"
   ]
  },
  {
   "cell_type": "code",
   "execution_count": 15,
   "id": "3bd7191e",
   "metadata": {},
   "outputs": [
    {
     "name": "stdout",
     "output_type": "stream",
     "text": [
      "The examination will start from : 11 / 12 / 2014\n"
     ]
    }
   ],
   "source": [
    "exam = (11,12,2014)\n",
    "print( \"The examination will start from : %i / %i / %i\"%exam)\n"
   ]
  },
  {
   "cell_type": "raw",
   "id": "73b08f8d",
   "metadata": {},
   "source": [
    "14. Write a Python program to calculate number of days between two dates.\n",
    "Sample dates : (2014, 7, 2), (2014, 7, 11)"
   ]
  },
  {
   "cell_type": "code",
   "execution_count": 5,
   "id": "3d6f7a5a",
   "metadata": {},
   "outputs": [
    {
     "name": "stdout",
     "output_type": "stream",
     "text": [
      "9\n"
     ]
    }
   ],
   "source": [
    "from datetime import date\n",
    "f_date = date(2014,7,2)\n",
    "l_data = date(2014,7,11)\n",
    "calDate = l_data - f_date\n",
    "print(calDate.days)"
   ]
  },
  {
   "cell_type": "code",
   "execution_count": null,
   "id": "92147d17",
   "metadata": {},
   "outputs": [],
   "source": [
    "from datetime import date \n",
    "dateOfBrith = date(1997,3,9)\n",
    "recDate = date(2022,7,2)\n",
    "cla = recDate - dateOfBrith\n",
    "print(cla.days,cla.month,cal.year)"
   ]
  },
  {
   "cell_type": "raw",
   "id": "2fbfadaa",
   "metadata": {},
   "source": [
    "16. Write a Python program to get the difference between a given number and 17,\n",
    "if the number is greater than 17 return double the absolute difference. Go to the editor\n"
   ]
  },
  {
   "cell_type": "code",
   "execution_count": 12,
   "id": "bd000e43",
   "metadata": {},
   "outputs": [
    {
     "name": "stdout",
     "output_type": "stream",
     "text": [
      "6\n"
     ]
    }
   ],
   "source": [
    "def difference(n):\n",
    "    if n <= 17:\n",
    "        return 17 - n\n",
    "    else:\n",
    "        return (n - 17) * 2\n",
    "\n",
    "print(difference(20))\n",
    "print(difference(5))\n",
    "    مو مفهوم "
   ]
  },
  {
   "cell_type": "raw",
   "id": "8f559d0a",
   "metadata": {},
   "source": [
    "17. Write a Python program to test whether a number is within 100 of 1000 or 2000. Go to the editor\n"
   ]
  },
  {
   "cell_type": "code",
   "execution_count": 17,
   "id": "f2b867fe",
   "metadata": {},
   "outputs": [
    {
     "name": "stdout",
     "output_type": "stream",
     "text": [
      "False\n"
     ]
    }
   ],
   "source": [
    "def near_thousand(n):\n",
    "    return ((abs(1000 - n) <= 100) or (abs(2000 - n) <= 100))\n",
    "print(near_thousand(2000))"
   ]
  },
  {
   "cell_type": "code",
   "execution_count": 18,
   "id": "85af8c7c",
   "metadata": {},
   "outputs": [
    {
     "name": "stdout",
     "output_type": "stream",
     "text": [
      "True\n"
     ]
    }
   ],
   "source": [
    "def near_thousand(n):\n",
    "    return ((abs(1000 - n ) <= 100))\n",
    "print(near_thousand(1000))\n",
    "#يمكن وضعها اذ الفاتوره تحقق التارقت وثم يعطى خصم او يدخل في السحب#"
   ]
  },
  {
   "cell_type": "raw",
   "id": "3977c134",
   "metadata": {},
   "source": [
    "18. Write a Python program to calculate the sum of three given numbers, if the values are equal then return three times of their sum. "
   ]
  },
  {
   "cell_type": "code",
   "execution_count": 1,
   "id": "88390c67",
   "metadata": {},
   "outputs": [
    {
     "name": "stdout",
     "output_type": "stream",
     "text": [
      "9\n"
     ]
    }
   ],
   "source": [
    "def sum_thrice(x,z,y):\n",
    "    sum = x+z+y\n",
    "    if x == y == z:\n",
    "        sum = sum * 3\n",
    "        return sum \n",
    "print(sum_thrice(1,1,1))"
   ]
  },
  {
   "cell_type": "code",
   "execution_count": 22,
   "id": "648a9f3f",
   "metadata": {},
   "outputs": [
    {
     "name": "stdout",
     "output_type": "stream",
     "text": [
      "90\n"
     ]
    }
   ],
   "source": [
    "def sum_thrice(x,z,y):\n",
    "    sum = x+z+y\n",
    "    if x==y==z:\n",
    "        sum=sum*3\n",
    "        return sum \n",
    "print(sum_thrice(10,10,10))"
   ]
  },
  {
   "cell_type": "raw",
   "id": "e79c1ba6",
   "metadata": {},
   "source": [
    "19. Write a Python program to get a new string from a given string where \"Is\" has been added to the front. If the given string already begins with \"Is\" then return the string unchanged"
   ]
  },
  {
   "cell_type": "code",
   "execution_count": 36,
   "id": "35fc5db8",
   "metadata": {},
   "outputs": [
    {
     "name": "stdout",
     "output_type": "stream",
     "text": [
      "MS.omar\n"
     ]
    }
   ],
   "source": [
    "def new_string(str):\n",
    "    if len(str) >= 2 and str[:2] == \"MS.\":\n",
    "        return str \n",
    "    return \"MS.\"+str\n",
    "print(new_string(\"omar\"))"
   ]
  },
  {
   "cell_type": "raw",
   "id": "c7455df9",
   "metadata": {},
   "source": [
    "20. Write a Python program to get a string which is n (non-negative integer) copies of a given string."
   ]
  },
  {
   "cell_type": "code",
   "execution_count": 38,
   "id": "756ebc70",
   "metadata": {},
   "outputs": [
    {
     "name": "stdout",
     "output_type": "stream",
     "text": [
      "abcabcabcabcabc\n",
      ".py.py.py\n"
     ]
    }
   ],
   "source": [
    "def larger_string(str, n):\n",
    "   result = \"\"\n",
    "   for i in range(n):\n",
    "      result = result + str\n",
    "   return result\n",
    "\n",
    "print(larger_string('abc', 5))\n",
    "print(larger_string('.py', 3))\n"
   ]
  },
  {
   "cell_type": "code",
   "execution_count": 67,
   "id": "9ab75ca6",
   "metadata": {},
   "outputs": [
    {
     "ename": "IndentationError",
     "evalue": "unexpected indent (<ipython-input-67-9002822530f5>, line 3)",
     "output_type": "error",
     "traceback": [
      "\u001b[1;36m  File \u001b[1;32m\"<ipython-input-67-9002822530f5>\"\u001b[1;36m, line \u001b[1;32m3\u001b[0m\n\u001b[1;33m    for i in range(n):\u001b[0m\n\u001b[1;37m    ^\u001b[0m\n\u001b[1;31mIndentationError\u001b[0m\u001b[1;31m:\u001b[0m unexpected indent\n"
     ]
    }
   ],
   "source": [
    "def larger_string(str, n):\n",
    " result = \"\"\n",
    "     for i in range(n):\n",
    "     result = result + str\n",
    " return result\n",
    "\n",
    "\n",
    "print(larger_string('omar',5))\n",
    "        "
   ]
  },
  {
   "cell_type": "raw",
   "id": "2ffe6fb5",
   "metadata": {},
   "source": [
    "21 Write a Python program to find whether a given number (accept from the user) is even or odd, print out an appropriate message to the user. "
   ]
  },
  {
   "cell_type": "code",
   "execution_count": 71,
   "id": "c0471b3e",
   "metadata": {},
   "outputs": [
    {
     "name": "stdout",
     "output_type": "stream",
     "text": [
      "insert number:6\n",
      "This is an even number\n"
     ]
    }
   ],
   "source": [
    "mum = int(input(\"insert number:\"))\n",
    "mod = mum % 2\n",
    "if mod > 0:\n",
    "    print(\"odd number\")\n",
    "else:\n",
    "    print(\"This is an even number\")"
   ]
  },
  {
   "cell_type": "raw",
   "id": "9c75025e",
   "metadata": {},
   "source": [
    "22. Write a Python program to count the number 4 in a given list."
   ]
  },
  {
   "cell_type": "code",
   "execution_count": 77,
   "id": "63454001",
   "metadata": {},
   "outputs": [
    {
     "name": "stdout",
     "output_type": "stream",
     "text": [
      "0\n"
     ]
    }
   ],
   "source": [
    "def list_count(nsum):\n",
    "    count=0\n",
    "    for num in nsum:\n",
    "        if num ==1:\n",
    "            count = count +1\n",
    "    return count\n",
    "print(list_count([0,4,5,4,4]))\n"
   ]
  },
  {
   "cell_type": "raw",
   "id": "025444c7",
   "metadata": {},
   "source": [
    "27. Write a Python program to concatenate all elements in a list into a string and return it."
   ]
  },
  {
   "cell_type": "code",
   "execution_count": 89,
   "id": "871dd90d",
   "metadata": {},
   "outputs": [
    {
     "name": "stdout",
     "output_type": "stream",
     "text": [
      "386\n",
      "462\n",
      "418\n",
      "344\n",
      "236\n",
      "566\n",
      "978\n",
      "328\n",
      "162\n",
      "758\n",
      "918\n",
      "237\n"
     ]
    }
   ],
   "source": [
    "numbers = [    \n",
    "    386, 462, 47, 418, 907, 344, 236, 375, 823, 566, 597, 978, 328, 615, 953, 345, \n",
    "    399, 162, 758, 219, 918, 237, 412, 566, 826, 248, 866, 950, 626, 949, 687, 217, \n",
    "    815, 67, 104, 58, 512, 24, 892, 894, 767, 553, 81, 379, 843, 831, 445, 742, 717, \n",
    "    958,743, 527\n",
    "    ]\n",
    "for x in numbers:\n",
    "    if x ==237:\n",
    "        print(x)\n",
    "        break;\n",
    "    elif x % 2==0:\n",
    "        print(x)\n",
    "    "
   ]
  },
  {
   "cell_type": "raw",
   "id": "7859f867",
   "metadata": {},
   "source": [
    "29. Write a Python program to print out a set containing all the colors from color_list_1 which are not present in color_list_2."
   ]
  },
  {
   "cell_type": "code",
   "execution_count": 7,
   "id": "1f68c41e",
   "metadata": {},
   "outputs": [
    {
     "name": "stdout",
     "output_type": "stream",
     "text": [
      "Original set elements:\n",
      "{'White', 'Red', 'Black'}\n",
      "{'Red', 'Green'}\n",
      "\n",
      "Differenct of color_list_1 and color_list_2:\n",
      "{'White', 'Black'}\n",
      "\n",
      "Differenct of color_list_2 and color_list_1:\n",
      "{'Green'}\n"
     ]
    }
   ],
   "source": [
    "color_list_1 = set([\"White\", \"Black\", \"Red\"])\n",
    "color_list_2 = set([\"Red\", \"Green\"])\n",
    "print(\"Original set elements:\")\n",
    "print(color_list_1)\n",
    "print(color_list_2)\n",
    "print(\"\\nDifferenct of color_list_1 and color_list_2:\")\n",
    "print(color_list_1.difference(color_list_2))\n",
    "print(\"\\nDifferenct of color_list_2 and color_list_1:\")\n",
    "print(color_list_2.difference(color_list_1))"
   ]
  },
  {
   "cell_type": "raw",
   "id": "9c871f8b",
   "metadata": {},
   "source": [
    "34. Write a Python program to sum of two given integers. However, if the sum is between 15 to 20 it will return 20."
   ]
  },
  {
   "cell_type": "code",
   "execution_count": 13,
   "id": "05592816",
   "metadata": {},
   "outputs": [
    {
     "name": "stdout",
     "output_type": "stream",
     "text": [
      "None\n"
     ]
    }
   ],
   "source": [
    "def sum(x, y):\n",
    "    sum = x + y\n",
    "    if sum in range(15,20):\n",
    "        return 20\n",
    "    else:\n",
    "        return sum\n",
    "print(sum(10,20))"
   ]
  },
  {
   "cell_type": "raw",
   "id": "1db6bb7f",
   "metadata": {},
   "source": [
    "36. Write a Python program to add two objects if both objects are an integer type"
   ]
  },
  {
   "cell_type": "code",
   "execution_count": 15,
   "id": "0fd5c397",
   "metadata": {},
   "outputs": [
    {
     "name": "stdout",
     "output_type": "stream",
     "text": [
      "input must be intgers!\n"
     ]
    }
   ],
   "source": [
    "def add_numbers(a,b):\n",
    "    if not (isinstance(a,int) and isinstance(b,int)):\n",
    "        return \"input must be intgers!\"\n",
    "    return a+b \n",
    "print(add_numbers(10,\"10\"))"
   ]
  },
  {
   "cell_type": "code",
   "execution_count": 17,
   "id": "1f2fc199",
   "metadata": {},
   "outputs": [
    {
     "name": "stdout",
     "output_type": "stream",
     "text": [
      "1010\n"
     ]
    }
   ],
   "source": [
    "def add_numbers(a,b):\n",
    "    if not (isinstance(a,str) and isinstance(b,str)):\n",
    "        return \"input must be stringe!\"\n",
    "    return a+b \n",
    "print(add_numbers(\"10\",\"10\"))"
   ]
  },
  {
   "cell_type": "raw",
   "id": "d13c1485",
   "metadata": {},
   "source": [
    "37. Write a Python program to display your details like name, age, address in three different lines"
   ]
  },
  {
   "cell_type": "code",
   "execution_count": 24,
   "id": "91361e20",
   "metadata": {},
   "outputs": [
    {
     "name": "stdout",
     "output_type": "stream",
     "text": [
      "name:omar\n",
      " age:25\n",
      " address:kas ,renge miidenhi, alyes\n"
     ]
    }
   ],
   "source": [
    "def personl_details():\n",
    "    name= \"omar\"\n",
    "    age=25\n",
    "    address=\"kas ,renge miidenhi, alyes\"\n",
    "\n",
    "    print(\"name:{}\\n age:{}\\n address:{}\" .format(name,age,address))\n",
    "\n",
    "personl_details()\n",
    "#مكان البرنت في الديف مهم جدا #"
   ]
  },
  {
   "cell_type": "raw",
   "id": "fbaae3ab",
   "metadata": {},
   "source": [
    "38. Write a Python program to solve (x + y) * (x + y)."
   ]
  },
  {
   "cell_type": "code",
   "execution_count": 27,
   "id": "8dffd4af",
   "metadata": {},
   "outputs": [
    {
     "name": "stdout",
     "output_type": "stream",
     "text": [
      "(4+3) ^ 2 = 49\n"
     ]
    }
   ],
   "source": [
    "x,y=4,3\n",
    "result = x*x+2*x*y+y*y\n",
    "print(\"({}+{}) ^ 2 = {}\".format(x,y,result))"
   ]
  },
  {
   "cell_type": "raw",
   "id": "ab7fd63a",
   "metadata": {},
   "source": [
    "39. Write a Python program to compute the future value of a specified principal amount, rate of interest, and a number of years.\n",
    "Test Data : amt = 10000, int = 3.5, years = 7\n",
    "صيغة القيمة المستقبلية ذات الفائدة المركبة هي FV = P (1 + r / n) ^ nt.\n",
    "FV = القيمة المستقبلية ؛\n",
    "P = الأصل ؛\n",
    "r = معدل الفائدة السنوي معبرًا عنه كعدد عشري ؛\n",
    "ن = عدد المرات التي تدفع فيها الفائدة كل عام ؛\n",
    "ر = الوقت بالسنوات."
   ]
  },
  {
   "cell_type": "code",
   "execution_count": 28,
   "id": "cddabd83",
   "metadata": {},
   "outputs": [
    {
     "name": "stdout",
     "output_type": "stream",
     "text": [
      "12722.79\n"
     ]
    }
   ],
   "source": [
    "amt=10000\n",
    "int=3.5\n",
    "years=7\n",
    "future_vlaue = amt*((1+(0.01*int)) ** years)\n",
    "print(round(future_vlaue,2))"
   ]
  },
  {
   "cell_type": "raw",
   "id": "18503f46",
   "metadata": {},
   "source": [
    "41. Write a Python program to check whether a file exists"
   ]
  },
  {
   "cell_type": "code",
   "execution_count": 31,
   "id": "1423361e",
   "metadata": {},
   "outputs": [
    {
     "name": "stdout",
     "output_type": "stream",
     "text": [
      "True\n"
     ]
    }
   ],
   "source": [
    "import os.path \n",
    "print(os.path.isfile('basic1.ipynb'))"
   ]
  },
  {
   "cell_type": "code",
   "execution_count": 42,
   "id": "b94e4e06",
   "metadata": {},
   "outputs": [
    {
     "name": "stdout",
     "output_type": "stream",
     "text": [
      "flie found!\n"
     ]
    }
   ],
   "source": [
    "my_flie = open('basic1.ipynb')\n",
    "try:\n",
    "    my_flie.close()\n",
    "    print(\"flie found!\")\n",
    "except FileNotFoundError:\n",
    "    print(\"File not found!\")\n",
    "    #انتبه للنقاط المزدوجة لاسم الملف وايضا مكان الاكسبت#"
   ]
  },
  {
   "cell_type": "raw",
   "id": "664172cd",
   "metadata": {},
   "source": [
    "42. Write a Python program to determine if a Python shell is executing in 32bit or 64bit mode on OS"
   ]
  },
  {
   "cell_type": "code",
   "execution_count": 45,
   "id": "ed888b87",
   "metadata": {},
   "outputs": [
    {
     "name": "stdout",
     "output_type": "stream",
     "text": [
      "64\n"
     ]
    }
   ],
   "source": [
    "import struct \n",
    "print(struct.calcsize(\"P\")* 8)"
   ]
  },
  {
   "cell_type": "raw",
   "id": "7af1d07b",
   "metadata": {},
   "source": [
    "47. Write a Python program to find out the number of CPUs using"
   ]
  },
  {
   "cell_type": "code",
   "execution_count": 47,
   "id": "49d3994d",
   "metadata": {},
   "outputs": [
    {
     "name": "stdout",
     "output_type": "stream",
     "text": [
      "2\n"
     ]
    }
   ],
   "source": [
    "import multiprocessing\n",
    "print(multiprocessing.cpu_count())"
   ]
  },
  {
   "cell_type": "raw",
   "id": "61fa9892",
   "metadata": {},
   "source": [
    "48. Write a Python program to parse a string to Float or Integer."
   ]
  },
  {
   "cell_type": "code",
   "execution_count": 51,
   "id": "33707a78",
   "metadata": {},
   "outputs": [
    {
     "name": "stdout",
     "output_type": "stream",
     "text": [
      "246.255\n"
     ]
    },
    {
     "ename": "TypeError",
     "evalue": "'float' object is not callable",
     "output_type": "error",
     "traceback": [
      "\u001b[1;31m---------------------------------------------------------------------------\u001b[0m",
      "\u001b[1;31mTypeError\u001b[0m                                 Traceback (most recent call last)",
      "\u001b[1;32m<ipython-input-51-32908c414e53>\u001b[0m in \u001b[0;36m<module>\u001b[1;34m\u001b[0m\n\u001b[0;32m      1\u001b[0m \u001b[0mn\u001b[0m\u001b[1;33m=\u001b[0m\u001b[1;34m\"246.255\"\u001b[0m\u001b[1;33m\u001b[0m\u001b[1;33m\u001b[0m\u001b[0m\n\u001b[0;32m      2\u001b[0m \u001b[0mprint\u001b[0m\u001b[1;33m(\u001b[0m\u001b[0mfloat\u001b[0m\u001b[1;33m(\u001b[0m\u001b[0mn\u001b[0m\u001b[1;33m)\u001b[0m\u001b[1;33m)\u001b[0m\u001b[1;33m\u001b[0m\u001b[1;33m\u001b[0m\u001b[0m\n\u001b[1;32m----> 3\u001b[1;33m \u001b[0mprint\u001b[0m\u001b[1;33m(\u001b[0m\u001b[0mint\u001b[0m\u001b[1;33m(\u001b[0m\u001b[0mfloat\u001b[0m\u001b[1;33m(\u001b[0m\u001b[0mn\u001b[0m\u001b[1;33m)\u001b[0m\u001b[1;33m)\u001b[0m\u001b[1;33m)\u001b[0m\u001b[1;33m\u001b[0m\u001b[1;33m\u001b[0m\u001b[0m\n\u001b[0m\u001b[0;32m      4\u001b[0m \u001b[1;31m#تحويل عمود رواتب  او غيره #\u001b[0m\u001b[1;33m\u001b[0m\u001b[1;33m\u001b[0m\u001b[1;33m\u001b[0m\u001b[0m\n",
      "\u001b[1;31mTypeError\u001b[0m: 'float' object is not callable"
     ]
    }
   ],
   "source": [
    "n=\"246.255\"\n",
    "print(float(n))\n",
    "print(int(float(n)))\n",
    "#تحويل عمود رواتب  او غيره #"
   ]
  },
  {
   "cell_type": "code",
   "execution_count": 53,
   "id": "2b89487d",
   "metadata": {},
   "outputs": [
    {
     "name": "stdout",
     "output_type": "stream",
     "text": [
      "246.2458\n"
     ]
    },
    {
     "ename": "TypeError",
     "evalue": "'float' object is not callable",
     "output_type": "error",
     "traceback": [
      "\u001b[1;31m---------------------------------------------------------------------------\u001b[0m",
      "\u001b[1;31mTypeError\u001b[0m                                 Traceback (most recent call last)",
      "\u001b[1;32m<ipython-input-53-4b121ba73fcb>\u001b[0m in \u001b[0;36m<module>\u001b[1;34m\u001b[0m\n\u001b[0;32m      1\u001b[0m \u001b[0mn\u001b[0m \u001b[1;33m=\u001b[0m \u001b[1;34m\"246.2458\"\u001b[0m\u001b[1;33m\u001b[0m\u001b[1;33m\u001b[0m\u001b[0m\n\u001b[0;32m      2\u001b[0m \u001b[0mprint\u001b[0m\u001b[1;33m(\u001b[0m\u001b[0mfloat\u001b[0m\u001b[1;33m(\u001b[0m\u001b[0mn\u001b[0m\u001b[1;33m)\u001b[0m\u001b[1;33m)\u001b[0m\u001b[1;33m\u001b[0m\u001b[1;33m\u001b[0m\u001b[0m\n\u001b[1;32m----> 3\u001b[1;33m \u001b[0mprint\u001b[0m\u001b[1;33m(\u001b[0m\u001b[0mint\u001b[0m\u001b[1;33m(\u001b[0m\u001b[0mfloat\u001b[0m\u001b[1;33m(\u001b[0m\u001b[0mn\u001b[0m\u001b[1;33m)\u001b[0m\u001b[1;33m)\u001b[0m\u001b[1;33m)\u001b[0m\u001b[1;33m\u001b[0m\u001b[1;33m\u001b[0m\u001b[0m\n\u001b[0m",
      "\u001b[1;31mTypeError\u001b[0m: 'float' object is not callable"
     ]
    }
   ],
   "source": []
  },
  {
   "cell_type": "raw",
   "id": "248af8f1",
   "metadata": {},
   "source": [
    "54. Write a Python program to get the current username"
   ]
  },
  {
   "cell_type": "code",
   "execution_count": 1,
   "id": "8087af11",
   "metadata": {},
   "outputs": [
    {
     "name": "stdout",
     "output_type": "stream",
     "text": [
      "<function getuser at 0x000002171E79F700>\n"
     ]
    }
   ],
   "source": [
    "import getpass\n",
    "print(getpass.getuser)"
   ]
  },
  {
   "cell_type": "raw",
   "id": "8e00e11c",
   "metadata": {},
   "source": [
    "62. Write a Python program to convert all units of time into seconds"
   ]
  },
  {
   "cell_type": "code",
   "execution_count": 4,
   "id": "e17e632a",
   "metadata": {},
   "outputs": [
    {
     "name": "stdout",
     "output_type": "stream",
     "text": [
      "input dasy100\n",
      "input hours4\n",
      "input minutes40\n",
      "input seconds1\n",
      "the aomunt of seconds 8656801\n"
     ]
    }
   ],
   "source": [
    "days = int(input(\"input dasy\")) *3600*24\n",
    "hours = int(input(\"input hours\"))*3600\n",
    "minutes = int(input(\"input minutes\")) *60\n",
    "seconds = int(input(\"input seconds\"))\n",
    "\n",
    "time = days + hours + minutes + seconds\n",
    "print(\"the aomunt of seconds\",time)"
   ]
  },
  {
   "cell_type": "raw",
   "id": "c2b45538",
   "metadata": {},
   "source": [
    "63. Write a Python program to get an absolute file path."
   ]
  },
  {
   "cell_type": "code",
   "execution_count": 90,
   "id": "af8eb7a2",
   "metadata": {},
   "outputs": [
    {
     "name": "stdout",
     "output_type": "stream",
     "text": [
      "absolute file path: C:\\Users\\Un\\Documents\\ravange\\path_Fname\n"
     ]
    }
   ],
   "source": [
    "def absolute_file_path(path_Fname):\n",
    "    import os \n",
    "    return os.path.abspath('path_Fname')\n",
    "print(\"absolute file path:\",absolute_file_path('basic1.ipynb'))"
   ]
  },
  {
   "cell_type": "code",
   "execution_count": 92,
   "id": "023762dc",
   "metadata": {},
   "outputs": [
    {
     "name": "stdout",
     "output_type": "stream",
     "text": [
      "C:\\Users\\Un\\Documents\\ravange\\basic1.ipynb\n"
     ]
    }
   ],
   "source": [
    "from pathlib import Path\n",
    "p = Path('basic1.ipynb').resolve()\n",
    "print(p)\n",
    "#الخطاء الذي وقعت فيه هو ان اسم مكتبة الباث بالحرف الكبير#"
   ]
  },
  {
   "cell_type": "raw",
   "id": "ed910b97",
   "metadata": {},
   "source": [
    "64. Write a Python program to get file creation and modification date/times"
   ]
  },
  {
   "cell_type": "code",
   "execution_count": 21,
   "id": "9020c830",
   "metadata": {},
   "outputs": [
    {
     "name": "stdout",
     "output_type": "stream",
     "text": [
      "last modified Wed Jul  6 23:58:26 2022\n",
      "created Tue Jun 28 02:34:09 2022\n"
     ]
    }
   ],
   "source": [
    "import os.path,time \n",
    "print(\"last modified %s\" % time.ctime(os.path.getmtime('basic1.ipynb')))\n",
    "print(\"created %s\" % time.ctime(os.path.getctime('basic1.ipynb')))"
   ]
  },
  {
   "cell_type": "raw",
   "id": "1e17dac0",
   "metadata": {},
   "source": [
    "65. Write a Python program to convert seconds to day, hour, minutes and seconds"
   ]
  },
  {
   "cell_type": "code",
   "execution_count": 27,
   "id": "768cc2f9",
   "metadata": {},
   "outputs": [
    {
     "name": "stdout",
     "output_type": "stream",
     "text": [
      "Input time in seconds: 80000\n"
     ]
    },
    {
     "ename": "TypeError",
     "evalue": "'float' object is not callable",
     "output_type": "error",
     "traceback": [
      "\u001b[1;31m---------------------------------------------------------------------------\u001b[0m",
      "\u001b[1;31mTypeError\u001b[0m                                 Traceback (most recent call last)",
      "\u001b[1;32m<ipython-input-27-cdd8435cc15d>\u001b[0m in \u001b[0;36m<module>\u001b[1;34m\u001b[0m\n\u001b[0;32m      1\u001b[0m \u001b[0mtime\u001b[0m \u001b[1;33m=\u001b[0m \u001b[0mfloat\u001b[0m\u001b[1;33m(\u001b[0m\u001b[0minput\u001b[0m\u001b[1;33m(\u001b[0m\u001b[1;34m\"Input time in seconds: \"\u001b[0m\u001b[1;33m)\u001b[0m\u001b[1;33m)\u001b[0m\u001b[1;33m\u001b[0m\u001b[1;33m\u001b[0m\u001b[0m\n\u001b[0;32m      2\u001b[0m \u001b[0mday\u001b[0m \u001b[1;33m=\u001b[0m \u001b[0mtime\u001b[0m \u001b[1;33m//\u001b[0m\u001b[1;33m(\u001b[0m\u001b[1;36m24\u001b[0m \u001b[1;33m*\u001b[0m \u001b[1;36m3600\u001b[0m\u001b[1;33m)\u001b[0m\u001b[1;33m\u001b[0m\u001b[1;33m\u001b[0m\u001b[0m\n\u001b[1;32m----> 3\u001b[1;33m \u001b[0mtime\u001b[0m \u001b[1;33m=\u001b[0m \u001b[0mtime\u001b[0m \u001b[1;33m%\u001b[0m \u001b[0mtime\u001b[0m \u001b[1;33m(\u001b[0m\u001b[1;36m24\u001b[0m \u001b[1;33m*\u001b[0m \u001b[1;36m3600\u001b[0m\u001b[1;33m)\u001b[0m\u001b[1;33m\u001b[0m\u001b[1;33m\u001b[0m\u001b[0m\n\u001b[0m\u001b[0;32m      4\u001b[0m \u001b[0mtime\u001b[0m \u001b[1;33m%=\u001b[0m \u001b[1;36m3600\u001b[0m\u001b[1;33m\u001b[0m\u001b[1;33m\u001b[0m\u001b[0m\n\u001b[0;32m      5\u001b[0m \u001b[0mminutes\u001b[0m \u001b[1;33m=\u001b[0m \u001b[0mtime\u001b[0m \u001b[1;33m//\u001b[0m \u001b[1;36m60\u001b[0m\u001b[1;33m\u001b[0m\u001b[1;33m\u001b[0m\u001b[0m\n",
      "\u001b[1;31mTypeError\u001b[0m: 'float' object is not callable"
     ]
    }
   ],
   "source": [
    "time = float(input(\"Input time in seconds: \"))\n",
    "day = time //(24 * 3600)\n",
    "time = time % time (24 * 3600)\n",
    "time %= 3600\n",
    "minutes = time // 60\n",
    "time %= 60 \n",
    "seconds= time \n",
    "print(\"d:h:m:s-> %d:%d:%d:%d\" % (day, hour, minutes, seconds))\n",
    "#لم يحل#\n"
   ]
  },
  {
   "cell_type": "raw",
   "id": "a5f2f055",
   "metadata": {},
   "source": [
    "69. Write a Python program to sort three integers without using conditional statements and loops"
   ]
  },
  {
   "cell_type": "code",
   "execution_count": 30,
   "id": "e007f551",
   "metadata": {},
   "outputs": [
    {
     "name": "stdout",
     "output_type": "stream",
     "text": [
      "Input first number: 1\n",
      "Input second number: 2\n",
      "Input third number: 3\n",
      "Numbers in sorted order:  1 2 3\n"
     ]
    }
   ],
   "source": [
    "x = int(input(\"Input first number: \"))\n",
    "y = int(input(\"Input second number: \"))\n",
    "z = int(input(\"Input third number: \"))\n",
    "\n",
    "a1 = min(x, y, z)\n",
    "a3 = max(x, y, z)\n",
    "a2 = (x + y + z) - a1 - a3\n",
    "print(\"Numbers in sorted order: \", a1, a2, a3)"
   ]
  },
  {
   "cell_type": "raw",
   "id": "d6f52549",
   "metadata": {},
   "source": [
    "70. Write a Python program to sort files by date"
   ]
  },
  {
   "cell_type": "code",
   "execution_count": 31,
   "id": "c6896dbb",
   "metadata": {},
   "outputs": [
    {
     "name": "stdout",
     "output_type": "stream",
     "text": [
      "basic1.ipynb\n"
     ]
    }
   ],
   "source": [
    "import glob\n",
    "import os\n",
    "\n",
    "files = glob.glob(\"basic1.ipynb\")\n",
    "files.sort(key=os.path.getmtime)\n",
    "print(\"\\n\".join(files))"
   ]
  },
  {
   "cell_type": "code",
   "execution_count": null,
   "id": "ab16d75c",
   "metadata": {},
   "outputs": [],
   "source": []
  },
  {
   "cell_type": "code",
   "execution_count": 37,
   "id": "3a8896dd",
   "metadata": {},
   "outputs": [
    {
     "name": "stdout",
     "output_type": "stream",
     "text": [
      "Input the word be hashed: 5\n",
      "\n"
     ]
    }
   ],
   "source": [
    "soundex=[0,1,2,3,0,1,2,0,0,2,2,4,5,5,0,1,2,6,2,3,0,1,0,2,0,2]\n",
    " \n",
    "word=input(\"Input the word be hashed: \")\n",
    " \n",
    "word=word.upper()\n",
    " \n",
    "coded=word[0]\n",
    " \n",
    "for a in word[1:len(word)]:\n",
    "    i=65-ord(a)\n",
    "    coded=coded+str(soundex[i])\n",
    "print() "
   ]
  },
  {
   "cell_type": "raw",
   "id": "3334c5eb",
   "metadata": {},
   "source": [
    "77. Write a Python program to test whether the system is a big-endian platform or little-endian platform."
   ]
  },
  {
   "cell_type": "code",
   "execution_count": 48,
   "id": "8a0b8930",
   "metadata": {},
   "outputs": [
    {
     "name": "stdout",
     "output_type": "stream",
     "text": [
      "\n",
      "little platform\n",
      "\n"
     ]
    }
   ],
   "source": [
    "import sys\n",
    "print()\n",
    "if sys.byteorder == \"little\":\n",
    "    print(\"little platform\")\n",
    "else:\n",
    "    print(\"big platform\")\n",
    "print()\n"
   ]
  },
  {
   "cell_type": "raw",
   "id": "4ad02e0a",
   "metadata": {},
   "source": [
    "78. Write a Python program to find the available built-in modules."
   ]
  },
  {
   "cell_type": "code",
   "execution_count": 52,
   "id": "919c062c",
   "metadata": {},
   "outputs": [
    {
     "name": "stdout",
     "output_type": "stream",
     "text": [
      "_abc , _ast , _bisect , _blake2 , _codecs , _codecs_cn , _codecs_hk ,\n",
      "_codecs_iso2022 , _codecs_jp , _codecs_kr , _codecs_tw , _collections\n",
      ", _contextvars , _csv , _datetime , _functools , _heapq , _imp , _io ,\n",
      "_json , _locale , _lsprof , _md5 , _multibytecodec , _opcode ,\n",
      "_operator , _pickle , _random , _sha1 , _sha256 , _sha3 , _sha512 ,\n",
      "_signal , _sre , _stat , _statistics , _string , _struct , _symtable ,\n",
      "_thread , _tracemalloc , _warnings , _weakref , _winapi ,\n",
      "_xxsubinterpreters , array , atexit , audioop , binascii , builtins ,\n",
      "cmath , errno , faulthandler , gc , itertools , marshal , math , mmap\n",
      ", msvcrt , nt , parser , sys , time , winreg , xxsubtype , zlib\n"
     ]
    }
   ],
   "source": [
    "import sys\n",
    "import textwrap\n",
    "module_name = ' , '.join(sorted(sys.builtin_module_names))\n",
    "print(textwrap.fill(module_name,width=70))"
   ]
  },
  {
   "cell_type": "raw",
   "id": "547212df",
   "metadata": {},
   "source": [
    "80. Write a Python program to get the current value of the recursion limit."
   ]
  },
  {
   "cell_type": "code",
   "execution_count": 66,
   "id": "3da309a4",
   "metadata": {},
   "outputs": [
    {
     "name": "stdout",
     "output_type": "stream",
     "text": [
      "\n",
      " the current value of the recursion limit \n",
      "3000\n",
      "\n"
     ]
    }
   ],
   "source": [
    "import sys\n",
    "print()\n",
    "print(\" the current value of the recursion limit \")\n",
    "print(sys.getrecursionlimit())\n",
    "print()"
   ]
  },
  {
   "cell_type": "code",
   "execution_count": 65,
   "id": "2223f911",
   "metadata": {},
   "outputs": [
    {
     "name": "stdout",
     "output_type": "stream",
     "text": [
      "Call sys.getrecursionlimit() to get the current recursion limit:\n",
      "1001\n",
      "\n",
      "Call sys.setrecursionlimit(n) to change the recursion limit to n operations:\n",
      "3000\n"
     ]
    }
   ],
   "source": [
    "#لتغيير الحد#\n",
    "import sys\n",
    "print(\"Call sys.getrecursionlimit() to get the current recursion limit:\")\n",
    "recursion_limit = sys.getrecursionlimit()\n",
    "print(recursion_limit)\n",
    "print(\"\\nCall sys.setrecursionlimit(n) to change the recursion limit to n operations:\")\n",
    "sys.setrecursionlimit(3000)\n",
    "new_recursion_limit = sys.getrecursionlimit()\n",
    "print(new_recursion_limit)\n",
    "#افهم ذي الجزيئة وماهو المقصد في الحد وهل استطيع ان اتجازوه ولا هو فقط يعلمني اقصى نقطه يمكن ان اصل لها#"
   ]
  },
  {
   "cell_type": "raw",
   "id": "87c78198",
   "metadata": {},
   "source": [
    "84. Write a Python program to count the number occurrence of a specific character in a string"
   ]
  },
  {
   "cell_type": "code",
   "execution_count": 67,
   "id": "adbded35",
   "metadata": {},
   "outputs": [
    {
     "name": "stdout",
     "output_type": "stream",
     "text": [
      "1\n"
     ]
    }
   ],
   "source": [
    "s = \"The quick brown fox jumps over the lazy dog.\"  \n",
    "print(s.count(\"over\"))\n"
   ]
  },
  {
   "cell_type": "raw",
   "id": "a5901728",
   "metadata": {},
   "source": [
    "87. Write a Python program to get the size of a file."
   ]
  },
  {
   "cell_type": "code",
   "execution_count": 70,
   "id": "928eec94",
   "metadata": {},
   "outputs": [
    {
     "name": "stdout",
     "output_type": "stream",
     "text": [
      "the size of file 34814\n",
      "\n"
     ]
    }
   ],
   "source": [
    "import os\n",
    "file_size = os.path.getsize('basic1.ipynb')\n",
    "print(\"the size of file\",file_size,\"bytes\")\n"
   ]
  },
  {
   "cell_type": "raw",
   "id": "7bce715d",
   "metadata": {},
   "source": [
    "94. Write a Python program to convert a byte string to a list of integers"
   ]
  },
  {
   "cell_type": "code",
   "execution_count": 76,
   "id": "5113a062",
   "metadata": {},
   "outputs": [
    {
     "name": "stdout",
     "output_type": "stream",
     "text": [
      "\n",
      "\n",
      "Convert bytes of the said string to a list of integers:\n",
      "[65, 99, 106, 106, 106, 106, 106]\n",
      "\n"
     ]
    }
   ],
   "source": [
    "x = b'Acjjjjj'\n",
    "print()\n",
    "print(\"\\nConvert bytes of the said string to a list of integers:\")\n",
    "print(list(x))\n",
    "print()"
   ]
  },
  {
   "cell_type": "raw",
   "id": "10ff18ff",
   "metadata": {},
   "source": [
    "95. Write a Python program to check whether a string is numeric"
   ]
  },
  {
   "cell_type": "code",
   "execution_count": 79,
   "id": "90d74e42",
   "metadata": {},
   "outputs": [
    {
     "name": "stdout",
     "output_type": "stream",
     "text": [
      "\n"
     ]
    }
   ],
   "source": [
    "s=\"5\"\n",
    "try:\n",
    "    i=float(s)\n",
    "except(ValueError, TypeError):\n",
    "    print(\"not numeric\")\n",
    "print()"
   ]
  },
  {
   "cell_type": "raw",
   "id": "8f6350fd",
   "metadata": {},
   "source": [
    "97. Write a Python program to list the special variables used within the language"
   ]
  },
  {
   "cell_type": "code",
   "execution_count": 80,
   "id": "350f519b",
   "metadata": {},
   "outputs": [
    {
     "name": "stdout",
     "output_type": "stream",
     "text": [
      "\n",
      "ArithmeticError AssertionError AttributeError BaseException BlockingIOError BrokenPipeError BufferError BytesWarning\n",
      "ChildProcessError ConnectionAbortedError ConnectionError ConnectionRefusedError ConnectionResetError DeprecationWarning EOFError Ellipsis\n",
      "EnvironmentError Exception False FileExistsError FileNotFoundError FloatingPointError FutureWarning GeneratorExit\n",
      "IOError ImportError ImportWarning In IndentationError IndexError InterruptedError IsADirectoryError\n",
      "KeyError KeyboardInterrupt LookupError MemoryError ModuleNotFoundError NameError None NotADirectoryError\n",
      "NotImplemented NotImplementedError OSError Out OverflowError Path PendingDeprecationWarning PermissionError\n",
      "ProcessLookupError RecursionError ReferenceError ResourceWarning RuntimeError RuntimeWarning StopAsyncIteration StopIteration\n",
      "SyntaxError SyntaxWarning SystemError SystemExit TabError TimeoutError True TypeError\n",
      "UnboundLocalError UnicodeDecodeError UnicodeEncodeError UnicodeError UnicodeTranslateError UnicodeWarning UserWarning ValueError\n",
      "Warning WindowsError ZeroDivisionError __ __IPYTHON__ ___ __build_class__ __builtin__\n",
      "__builtins__ __debug__ __doc__ __import__ __loader__ __name__ __package__ __spec__\n",
      "_dh _i _i1 _i10 _i11 _i12 _i13 _i14\n",
      "_i15 _i16 _i17 _i18 _i19 _i2 _i20 _i21\n",
      "_i22 _i23 _i24 _i25 _i26 _i27 _i28 _i29\n",
      "_i3 _i30 _i31 _i32 _i33 _i34 _i35 _i36\n",
      "_i37 _i38 _i39 _i4 _i40 _i41 _i42 _i43\n",
      "_i44 _i45 _i47 _i48 _i49 _i5 _i50 _i51\n",
      "_i52 _i53 _i54 _i55 _i56 _i57 _i58 _i59\n",
      "_i6 _i60 _i61 _i62 _i63 _i64 _i65 _i66\n",
      "_i67 _i68 _i69 _i7 _i70 _i71 _i72 _i73\n",
      "_i74 _i75 _i76 _i77 _i78 _i79 _i8 _i80\n",
      "_i9 _ih _ii _iii _oh a1 a2 a3\n",
      "abs absolute_file_path all any ascii bin bool breakpoint\n",
      "bytearray bytes callable chr classmethod coded compile complex\n",
      "copyright credits day days delattr dict dir display\n",
      "divmod enumerate eval exec exit file_size files filter\n",
      "float format frozenset get_ipython getattr getpass glob globals\n",
      "hasattr hash help hex hours id input int\n",
      "isinstance issubclass iter len license list locals map\n",
      "math math_ls max memoryview min minutes module_name n\n",
      "new_recursion_limit next object oct open ord os p\n",
      "pow print property quit range recursion_limit repr reversed\n",
      "round s seconds set setattr slice sorted soundex\n",
      "staticmethod str sum sum_of_n_numbers super sys textwrap time\n",
      "tuple type vars word x y z zip\n",
      "\n"
     ]
    }
   ],
   "source": [
    "s_var_names = sorted((set(globals().keys()) | set(__builtins__.__dict__.keys())) - set('_ names i'.split()))\n",
    "print()\n",
    "print( '\\n'.join(' '.join(s_var_names[i:i+8]) for i in range(0, len(s_var_names), 8)) )\n",
    "print()"
   ]
  },
  {
   "cell_type": "raw",
   "id": "adc37aad",
   "metadata": {},
   "source": [
    "98. Write a Python program to get the system time."
   ]
  },
  {
   "cell_type": "code",
   "execution_count": 83,
   "id": "1277defa",
   "metadata": {},
   "outputs": [
    {
     "name": "stdout",
     "output_type": "stream",
     "text": [
      "\n",
      "Thu Jul  7 05:39:53 2022\n",
      "\n"
     ]
    }
   ],
   "source": [
    "import time \n",
    "print()\n",
    "print(time.ctime())\n",
    "print()"
   ]
  },
  {
   "cell_type": "raw",
   "id": "8257e677",
   "metadata": {},
   "source": [
    "103. Write a Python program to extract the filename from a given path"
   ]
  },
  {
   "cell_type": "code",
   "execution_count": 97,
   "id": "79b02a6d",
   "metadata": {},
   "outputs": [
    {
     "name": "stdout",
     "output_type": "stream",
     "text": [
      "\n",
      "basic1.ipynb\n",
      "\n"
     ]
    }
   ],
   "source": [
    "import os\n",
    "print()\n",
    "print(os.path.basename('C:/Users/Un/Documents/ravange/basic1.ipynb'))\n",
    "print()"
   ]
  },
  {
   "cell_type": "raw",
   "id": "f5c074bc",
   "metadata": {},
   "source": [
    "109. Write a Python program to check if a number is positive, negative or zero"
   ]
  },
  {
   "cell_type": "code",
   "execution_count": 101,
   "id": "83fae1e6",
   "metadata": {},
   "outputs": [
    {
     "name": "stdout",
     "output_type": "stream",
     "text": [
      "input number5\n",
      "positive\n"
     ]
    }
   ],
   "source": [
    "num = float(input(\"input number\"))\n",
    "if num > 0: \n",
    "    print(\"positive\")\n",
    "elif num == 0:\n",
    "    print(\"zero\")\n",
    "else:\n",
    "    print(\"negative\")"
   ]
  },
  {
   "cell_type": "raw",
   "id": "44cae4c9",
   "metadata": {},
   "source": [
    "110. Write a Python program to get numbers divisible by fifteen from a list using an anonymous function."
   ]
  },
  {
   "cell_type": "code",
   "execution_count": 3,
   "id": "30ff507e",
   "metadata": {},
   "outputs": [
    {
     "name": "stdout",
     "output_type": "stream",
     "text": [
      "the number divisible by 15 are [45, 60, 105, 255]\n"
     ]
    }
   ],
   "source": [
    "num_list = [45, 55, 60, 37, 100, 105, 220,255]\n",
    "result = list(filter(lambda x:(x % 15 == 0),num_list))\n",
    "print(\"the number divisible by 15 are\", result)"
   ]
  },
  {
   "cell_type": "raw",
   "id": "1b82550f",
   "metadata": {},
   "source": [
    "112. Write a Python program to remove the first item from a specified list."
   ]
  },
  {
   "cell_type": "code",
   "execution_count": 5,
   "id": "43d64063",
   "metadata": {},
   "outputs": [
    {
     "name": "stdout",
     "output_type": "stream",
     "text": [
      "['Red', 'Black', 'Green', 'White', 'Orange']\n",
      "['Black', 'Green', 'White', 'Orange']\n"
     ]
    }
   ],
   "source": [
    "color = [\"Red\", \"Black\", \"Green\", \"White\", \"Orange\"]\n",
    "print(color)\n",
    "del color[0]\n",
    "print(color)"
   ]
  },
  {
   "cell_type": "raw",
   "id": "e5d760fd",
   "metadata": {},
   "source": [
    "113. Write a Python program to input a number, if it is not a number generates an error message and the program works unitl its aheive"
   ]
  },
  {
   "cell_type": "code",
   "execution_count": 11,
   "id": "21fb9e90",
   "metadata": {},
   "outputs": [
    {
     "name": "stdout",
     "output_type": "stream",
     "text": [
      "input number!5\n",
      "\n"
     ]
    }
   ],
   "source": [
    "while True:\n",
    "    try:\n",
    "        a= int(input(\"input number!\"))\n",
    "        break\n",
    "    except ValueError:\n",
    "            print(\"this is not even a number try again\")\n",
    "print()"
   ]
  },
  {
   "cell_type": "code",
   "execution_count": 15,
   "id": "a5c9d81d",
   "metadata": {},
   "outputs": [
    {
     "name": "stdout",
     "output_type": "stream",
     "text": [
      "put it yor name please4\n",
      "\n"
     ]
    }
   ],
   "source": [
    "while True:\n",
    "    try:\n",
    "        name = str(input(\"put it yor name please\"))\n",
    "        break\n",
    "    except ValueError:\n",
    "            print(\"just a name without any number or a specail words\")\n",
    "print()\n",
    "#لم تضبط معانا حاولت انها تكون بس تدخل احرف ولا تقبل ارقام #"
   ]
  },
  {
   "cell_type": "raw",
   "id": "e2d81603",
   "metadata": {},
   "source": [
    "114. Write a Python program to filter the positive numbers from a list. Go"
   ]
  },
  {
   "cell_type": "code",
   "execution_count": 17,
   "id": "d734c251",
   "metadata": {},
   "outputs": [
    {
     "name": "stdout",
     "output_type": "stream",
     "text": [
      "Original numbers in the list:  [34, 1, 0, -23, 12, -88]\n",
      "Positive numbers in the said list: [34, 1, 12]\n"
     ]
    }
   ],
   "source": [
    "nums = [34, 1, 0, -23, 12, -88,-5000]\n",
    "print(\"Original numbers in the list: \",nums)\n",
    "new_nums = list(filter(lambda x: x > 0,nums))\n",
    "print(\"Positive numbers in the said list:\", new_nums)"
   ]
  },
  {
   "cell_type": "raw",
   "id": "9f8c9f15",
   "metadata": {},
   "source": [
    "115. Write a Python program to compute the product of a list of integers (without using for loop)"
   ]
  },
  {
   "cell_type": "code",
   "execution_count": 22,
   "id": "72e3b262",
   "metadata": {},
   "outputs": [
    {
     "name": "stdout",
     "output_type": "stream",
     "text": [
      "Original list numbers:\n",
      "[10, 20, 30]\n",
      "\n",
      "Product of the said numbers (without using for loop): 6000\n"
     ]
    }
   ],
   "source": [
    "from functools import reduce\n",
    "nums = [10,20,30,]\n",
    "print(\"Original list numbers:\")\n",
    "print(nums)\n",
    "nmus_prodct = reduce((lambda x, y: x*y),nums)\n",
    "print(\"\\nProduct of the said numbers (without using for loop):\",nmus_prodct)"
   ]
  },
  {
   "cell_type": "raw",
   "id": "dde50bd7",
   "metadata": {},
   "source": [
    "124. Write a Python program to check whether multiple variables have the same value"
   ]
  },
  {
   "cell_type": "code",
   "execution_count": 26,
   "id": "6887a5db",
   "metadata": {},
   "outputs": [
    {
     "name": "stdout",
     "output_type": "stream",
     "text": [
      "All variables have same value!\n"
     ]
    }
   ],
   "source": [
    "x=20\n",
    "y=20\n",
    "z=20\n",
    "if x == y ==z==20:\n",
    "     print(\"All variables have same value!\")\n",
    "else: \n",
    "     print(\"All variables have'nt same value!\")"
   ]
  },
  {
   "cell_type": "raw",
   "id": "21d389a9",
   "metadata": {},
   "source": [
    "125. Write a Python program to sum of all counts in a collections.Go to the editor\n"
   ]
  },
  {
   "cell_type": "code",
   "execution_count": 29,
   "id": "a8d28435",
   "metadata": {},
   "outputs": [
    {
     "name": "stdout",
     "output_type": "stream",
     "text": [
      "9\n"
     ]
    }
   ],
   "source": [
    "import collections\n",
    "num = [2,2,4,6,6,8,6,10,4]\n",
    "print(sum(collections.Counter(num).values()))\n",
    "#انتبه من الحرف الكبير الذي في بداية كاونتر و الفاليوز حرف الاس الاخير #"
   ]
  },
  {
   "cell_type": "code",
   "execution_count": 30,
   "id": "9834cd78",
   "metadata": {},
   "outputs": [
    {
     "name": "stdout",
     "output_type": "stream",
     "text": [
      "9\n"
     ]
    }
   ],
   "source": [
    "nums = [2,2,4,6,6,8,6,10,4]\n",
    "print(len(nums))"
   ]
  },
  {
   "cell_type": "raw",
   "id": "c5d29baf",
   "metadata": {},
   "source": [
    "128. Write a Python program to check whether lowercase letters exist in a string. Go to the editor\n"
   ]
  },
  {
   "cell_type": "code",
   "execution_count": 31,
   "id": "d4c93e1e",
   "metadata": {},
   "outputs": [
    {
     "name": "stdout",
     "output_type": "stream",
     "text": [
      "True\n"
     ]
    }
   ],
   "source": [
    "a=\" Write a Python program to check whether lowercase letters exist in a string. Go to the editor\"\n",
    "print(any(c.islower() for c in a))\n",
    "#كيف نجمع عدد الاحرف الكبيره #"
   ]
  },
  {
   "cell_type": "raw",
   "id": "1f74bc82",
   "metadata": {},
   "source": [
    "131. Write a Python program to split a variable length string into variables."
   ]
  },
  {
   "cell_type": "code",
   "execution_count": 33,
   "id": "8955cd99",
   "metadata": {},
   "outputs": [
    {
     "name": "stdout",
     "output_type": "stream",
     "text": [
      "['a', 'b', 'c', 'd', 'e']\n",
      "a b c d e\n"
     ]
    }
   ],
   "source": [
    "var_list = ['a', 'b', 'c', 'd', 'e']\n",
    "print(var_list)\n",
    "v , y , g , h , k = var_list\n",
    "print(v , y , g , h , k)"
   ]
  },
  {
   "cell_type": "raw",
   "id": "ac8ced91",
   "metadata": {},
   "source": [
    "133. Write a Python program to calculate the time runs (difference between start and current time) of a program."
   ]
  },
  {
   "cell_type": "code",
   "execution_count": 52,
   "id": "8077ee03",
   "metadata": {},
   "outputs": [
    {
     "ename": "NameError",
     "evalue": "name 'n' is not defined",
     "output_type": "error",
     "traceback": [
      "\u001b[1;31m---------------------------------------------------------------------------\u001b[0m",
      "\u001b[1;31mNameError\u001b[0m                                 Traceback (most recent call last)",
      "\u001b[1;32m<ipython-input-52-48fb7fbba1e8>\u001b[0m in \u001b[0;36m<module>\u001b[1;34m\u001b[0m\n\u001b[0;32m      2\u001b[0m \u001b[1;32mdef\u001b[0m \u001b[0mtimer\u001b[0m\u001b[1;33m(\u001b[0m\u001b[0mn\u001b[0m\u001b[1;33m)\u001b[0m\u001b[1;33m:\u001b[0m\u001b[1;33m\u001b[0m\u001b[1;33m\u001b[0m\u001b[0m\n\u001b[0;32m      3\u001b[0m       \u001b[0mstart\u001b[0m \u001b[1;33m=\u001b[0m \u001b[0mdefault_timer\u001b[0m\u001b[1;33m(\u001b[0m\u001b[1;33m)\u001b[0m\u001b[1;33m\u001b[0m\u001b[1;33m\u001b[0m\u001b[0m\n\u001b[1;32m----> 4\u001b[1;33m \u001b[1;32mfor\u001b[0m \u001b[0mrow\u001b[0m \u001b[1;32min\u001b[0m \u001b[0mrange\u001b[0m\u001b[1;33m(\u001b[0m\u001b[1;36m0\u001b[0m\u001b[1;33m,\u001b[0m\u001b[0mn\u001b[0m\u001b[1;33m)\u001b[0m\u001b[1;33m:\u001b[0m\u001b[1;33m\u001b[0m\u001b[1;33m\u001b[0m\u001b[0m\n\u001b[0m\u001b[0;32m      5\u001b[0m         \u001b[0mprint\u001b[0m\u001b[1;33m(\u001b[0m\u001b[0mrow\u001b[0m\u001b[1;33m)\u001b[0m\u001b[1;33m\u001b[0m\u001b[1;33m\u001b[0m\u001b[0m\n\u001b[0;32m      6\u001b[0m \u001b[0mprint\u001b[0m\u001b[1;33m(\u001b[0m\u001b[0mdefault_timer\u001b[0m\u001b[1;33m(\u001b[0m\u001b[1;33m)\u001b[0m\u001b[1;33m-\u001b[0m\u001b[0mstart\u001b[0m \u001b[1;33m)\u001b[0m\u001b[1;33m\u001b[0m\u001b[1;33m\u001b[0m\u001b[0m\n",
      "\u001b[1;31mNameError\u001b[0m: name 'n' is not defined"
     ]
    }
   ],
   "source": [
    "from timeit import default_timer\n",
    "def timer(n):\n",
    "      start = default_timer()\n",
    "for row in range(0,n):\n",
    "        print(row)\n",
    "print(default_timer()-start )\n",
    "timer(15)"
   ]
  },
  {
   "cell_type": "code",
   "execution_count": 55,
   "id": "2135a365",
   "metadata": {},
   "outputs": [
    {
     "name": "stdout",
     "output_type": "stream",
     "text": [
      "0\n",
      "0.00011180000001331791\n"
     ]
    }
   ],
   "source": [
    "from timeit import default_timer\n",
    "def timer(n):\n",
    "    start = default_timer()\n",
    "    # some code here\n",
    "    for row in range(0,n):\n",
    "        print(row)\n",
    "    print(default_timer() - start)\n",
    "\n",
    "timer(1)\n"
   ]
  },
  {
   "cell_type": "raw",
   "id": "b4619742",
   "metadata": {},
   "source": [
    "134. Write a Python program to input two integers in a single line"
   ]
  },
  {
   "cell_type": "code",
   "execution_count": null,
   "id": "e7b0be3d",
   "metadata": {},
   "outputs": [],
   "source": [
    "x,y = map(int,input().split())\n",
    "print(x,y)\n",
    "print(\"The value of x & y are: \",x,y)"
   ]
  },
  {
   "cell_type": "code",
   "execution_count": null,
   "id": "cbaa7201",
   "metadata": {},
   "outputs": [],
   "source": []
  },
  {
   "cell_type": "code",
   "execution_count": null,
   "id": "f78fcc81",
   "metadata": {},
   "outputs": [],
   "source": []
  },
  {
   "cell_type": "code",
   "execution_count": null,
   "id": "8a554da4",
   "metadata": {},
   "outputs": [],
   "source": []
  }
 ],
 "metadata": {
  "kernelspec": {
   "display_name": "Python 3",
   "language": "python",
   "name": "python3"
  },
  "language_info": {
   "codemirror_mode": {
    "name": "ipython",
    "version": 3
   },
   "file_extension": ".py",
   "mimetype": "text/x-python",
   "name": "python",
   "nbconvert_exporter": "python",
   "pygments_lexer": "ipython3",
   "version": "3.8.8"
  }
 },
 "nbformat": 4,
 "nbformat_minor": 5
}
