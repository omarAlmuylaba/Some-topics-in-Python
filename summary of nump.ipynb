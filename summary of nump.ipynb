{
 "cells": [
  {
   "cell_type": "code",
   "execution_count": 1,
   "id": "e05fe4f9",
   "metadata": {},
   "outputs": [],
   "source": [
    "import numpy as np"
   ]
  },
  {
   "cell_type": "code",
   "execution_count": 2,
   "id": "cfcbb658",
   "metadata": {},
   "outputs": [],
   "source": [
    "d1=np.array([[1,2,3,4,5],[6,7,8,9,10]])"
   ]
  },
  {
   "cell_type": "code",
   "execution_count": 26,
   "id": "c1d22742",
   "metadata": {},
   "outputs": [
    {
     "data": {
      "text/plain": [
       "(2, 5)"
      ]
     },
     "execution_count": 26,
     "metadata": {},
     "output_type": "execute_result"
    }
   ],
   "source": [
    "d1.shape"
   ]
  },
  {
   "cell_type": "code",
   "execution_count": 3,
   "id": "2f1236d0",
   "metadata": {},
   "outputs": [
    {
     "name": "stdout",
     "output_type": "stream",
     "text": [
      "the number of rows is: 2\n",
      "the number of column is: 5\n"
     ]
    }
   ],
   "source": [
    "row,col = d1.shape\n",
    "print(\"the number of rows is:\",row)\n",
    "print(\"the number of column is:\",col)"
   ]
  },
  {
   "cell_type": "markdown",
   "id": "fa788cef",
   "metadata": {},
   "source": [
    "#### لتحديد نطاق معين من الارقام وتحديد حجم المصفوفة مع امكانية تغير نوع القيم العشوائية المراد اختيارها"
   ]
  },
  {
   "cell_type": "code",
   "execution_count": 4,
   "id": "4465ed8c",
   "metadata": {},
   "outputs": [
    {
     "data": {
      "text/plain": [
       "array([[9, 3, 9, 3, 3],\n",
       "       [3, 7, 6, 9, 7]])"
      ]
     },
     "execution_count": 4,
     "metadata": {},
     "output_type": "execute_result"
    }
   ],
   "source": [
    "d2 = np.random.randint(1,10,dtype=int,size = (2,5))\n",
    "d2\n",
    "#d2 = np.random.randint(starting point,stoping point,size = (number of rows,number of colums))"
   ]
  },
  {
   "cell_type": "code",
   "execution_count": 169,
   "id": "e334992c",
   "metadata": {},
   "outputs": [
    {
     "data": {
      "text/plain": [
       "array([[0.92034131, 0.64780823],\n",
       "       [0.16480295, 0.70225668],\n",
       "       [0.58463965, 0.13560134],\n",
       "       [0.31012369, 0.08286495],\n",
       "       [0.70343787, 0.42595322],\n",
       "       [0.12719466, 0.8828609 ],\n",
       "       [0.59806217, 0.52534462],\n",
       "       [0.25718056, 0.32666537],\n",
       "       [0.1132852 , 0.91276171],\n",
       "       [0.7419444 , 0.91692752]])"
      ]
     },
     "execution_count": 169,
     "metadata": {},
     "output_type": "execute_result"
    }
   ],
   "source": [
    "arr36 = np.random.rand(10,2)\n",
    "arr36\n",
    "\n",
    "#has no dtype"
   ]
  },
  {
   "cell_type": "code",
   "execution_count": 6,
   "id": "e158d88c",
   "metadata": {},
   "outputs": [
    {
     "data": {
      "text/plain": [
       "array([ 1,  6, 11])"
      ]
     },
     "execution_count": 6,
     "metadata": {},
     "output_type": "execute_result"
    }
   ],
   "source": [
    "d1 =np.arange(1,12,5,dtype=int)\n",
    "#d1 =np.arange(starting point,stopint point,steps,dtype=int)\n",
    "\n",
    "#dtype=float\n",
    "#dtype=complex\n",
    "d1"
   ]
  },
  {
   "cell_type": "markdown",
   "id": "8b795d01",
   "metadata": {},
   "source": [
    "### لتحديد نوعية قيمة العناصر في المصفوفة"
   ]
  },
  {
   "cell_type": "code",
   "execution_count": 10,
   "id": "4c3174db",
   "metadata": {},
   "outputs": [
    {
     "name": "stdout",
     "output_type": "stream",
     "text": [
      "[1 2 3 4 5 6]\n"
     ]
    },
    {
     "data": {
      "text/plain": [
       "(6,)"
      ]
     },
     "execution_count": 10,
     "metadata": {},
     "output_type": "execute_result"
    }
   ],
   "source": [
    "d4 = np.array([1,2,3,4,5,6],dtype=np.int64)\n",
    "print(d4)\n",
    "d4.shape"
   ]
  },
  {
   "cell_type": "markdown",
   "id": "a6436d1a",
   "metadata": {},
   "source": [
    "## لتحويل لست الى مصفوفة والعكس بالعكس "
   ]
  },
  {
   "cell_type": "code",
   "execution_count": 118,
   "id": "54d59aea",
   "metadata": {},
   "outputs": [
    {
     "name": "stdout",
     "output_type": "stream",
     "text": [
      "<class 'list'>\n"
     ]
    }
   ],
   "source": [
    "lis = [1,2,3,4]\n",
    "\n",
    "print(type(lis))"
   ]
  },
  {
   "cell_type": "code",
   "execution_count": 119,
   "id": "ea3d2b60",
   "metadata": {},
   "outputs": [
    {
     "data": {
      "text/plain": [
       "[1, 2, 3, 4]"
      ]
     },
     "execution_count": 119,
     "metadata": {},
     "output_type": "execute_result"
    }
   ],
   "source": [
    "lis"
   ]
  },
  {
   "cell_type": "code",
   "execution_count": 127,
   "id": "a3cde938",
   "metadata": {},
   "outputs": [
    {
     "data": {
      "text/plain": [
       "array([1, 2, 3, 4])"
      ]
     },
     "execution_count": 127,
     "metadata": {},
     "output_type": "execute_result"
    }
   ],
   "source": [
    "n = np.array(lis)\n",
    "n"
   ]
  },
  {
   "cell_type": "code",
   "execution_count": 316,
   "id": "d40ae91f",
   "metadata": {},
   "outputs": [
    {
     "data": {
      "text/plain": [
       "array([1, 2, 3, 4])"
      ]
     },
     "execution_count": 316,
     "metadata": {},
     "output_type": "execute_result"
    }
   ],
   "source": [
    "y = np.asarray(lis)\n",
    "y"
   ]
  },
  {
   "cell_type": "code",
   "execution_count": 128,
   "id": "84252c04",
   "metadata": {},
   "outputs": [
    {
     "data": {
      "text/plain": [
       "[1, 2, 3, 4]"
      ]
     },
     "execution_count": 128,
     "metadata": {},
     "output_type": "execute_result"
    }
   ],
   "source": [
    "m = list(n)\n",
    "m"
   ]
  },
  {
   "cell_type": "code",
   "execution_count": 129,
   "id": "d3b7181b",
   "metadata": {},
   "outputs": [
    {
     "data": {
      "text/plain": [
       "{1, 2, 3, 4}"
      ]
     },
     "execution_count": 129,
     "metadata": {},
     "output_type": "execute_result"
    }
   ],
   "source": [
    "s = set(n)\n",
    "s"
   ]
  },
  {
   "cell_type": "code",
   "execution_count": 318,
   "id": "2925f644",
   "metadata": {},
   "outputs": [
    {
     "data": {
      "text/plain": [
       "(False, True, True, True, False, True)"
      ]
     },
     "execution_count": 318,
     "metadata": {},
     "output_type": "execute_result"
    }
   ],
   "source": [
    "t = tuple(n)\n",
    "t"
   ]
  },
  {
   "cell_type": "code",
   "execution_count": 132,
   "id": "09ba960b",
   "metadata": {},
   "outputs": [],
   "source": [
    "f = np.arange(1,15)"
   ]
  },
  {
   "cell_type": "code",
   "execution_count": 133,
   "id": "77a75409",
   "metadata": {},
   "outputs": [
    {
     "name": "stdout",
     "output_type": "stream",
     "text": [
      "[1, 2, 3, 4, 5, 6, 7, 8, 9, 10, 11, 12, 13, 14]\n"
     ]
    }
   ],
   "source": [
    "newlst = f.tolist()\n",
    "print(newlst)"
   ]
  },
  {
   "cell_type": "markdown",
   "id": "f5bda0ba",
   "metadata": {},
   "source": [
    "### لتحويل مصفوفة او اي نوع الى ماتركس"
   ]
  },
  {
   "cell_type": "code",
   "execution_count": 317,
   "id": "8475c9af",
   "metadata": {},
   "outputs": [
    {
     "data": {
      "text/plain": [
       "matrix([[ 1,  2,  3,  7],\n",
       "        [ 4,  5,  6, 10]])"
      ]
     },
     "execution_count": 317,
     "metadata": {},
     "output_type": "execute_result"
    }
   ],
   "source": [
    "np.asmatrix(t)"
   ]
  },
  {
   "cell_type": "code",
   "execution_count": 138,
   "id": "be33bd46",
   "metadata": {},
   "outputs": [
    {
     "name": "stdout",
     "output_type": "stream",
     "text": [
      "[[1. 1. 1. 1. 1.]\n",
      " [1. 1. 1. 1. 1.]\n",
      " [1. 1. 1. 1. 1.]\n",
      " [1. 1. 1. 1. 1.]]\n",
      "----\n",
      "[[0. 0. 0. 0. 0.]\n",
      " [0. 0. 0. 0. 0.]\n",
      " [0. 0. 0. 0. 0.]\n",
      " [0. 0. 0. 0. 0.]]\n"
     ]
    }
   ],
   "source": [
    "arr13 = np.ones((4,5))\n",
    "arr14 = np.zeros((4,5))\n",
    "\n",
    "print(arr13)\n",
    "print(\"----\")\n",
    "print(arr14)"
   ]
  },
  {
   "cell_type": "code",
   "execution_count": 13,
   "id": "95e19dd9",
   "metadata": {},
   "outputs": [
    {
     "name": "stdout",
     "output_type": "stream",
     "text": [
      "[[ 0  1  2  3  4]\n",
      " [ 5  6  7  8  9]\n",
      " [10 11 12 13 14]\n",
      " [15 16 17 18 19]]\n"
     ]
    }
   ],
   "source": [
    "arr25 = np.arange(20).reshape(4,5)\n",
    "print(arr25)"
   ]
  },
  {
   "cell_type": "code",
   "execution_count": 14,
   "id": "cd322cc7",
   "metadata": {},
   "outputs": [
    {
     "name": "stdout",
     "output_type": "stream",
     "text": [
      "[[ 0  1  2  3  4  5  6  7  8  9]\n",
      " [10 11 12 13 14 15 16 17 18 19]]\n"
     ]
    }
   ],
   "source": [
    "#ضع لي المصفوفه رقم 25 في  مصفوفتين\n",
    "arr28 = arr25.reshape(2,-1)\n",
    "#arr28 = arr25.reshape(number of array , -1)\n",
    "\n",
    "print(arr28)"
   ]
  },
  {
   "cell_type": "code",
   "execution_count": 15,
   "id": "7c89fee7",
   "metadata": {},
   "outputs": [
    {
     "name": "stdout",
     "output_type": "stream",
     "text": [
      "[[ 0  1  2  3  4]\n",
      " [ 5  6  7  8  9]\n",
      " [10 11 12 13 14]\n",
      " [15 16 17 18 19]]\n"
     ]
    }
   ],
   "source": [
    "#هنا يمكنك التحكم في عدد العناصر الي تاخذه المصفوفة\n",
    "arr29 = arr25.reshape(-1, 5)\n",
    "#arr29 = arr25.reshape(-1, عند العناصر اللي تبغها في كل مصفوفة)\n",
    "\n",
    "print(arr29)"
   ]
  },
  {
   "cell_type": "markdown",
   "id": "ca9db900",
   "metadata": {},
   "source": [
    "### دمج مصفوفات حسب توافق الصفوفة او الاعمدة"
   ]
  },
  {
   "cell_type": "code",
   "execution_count": 16,
   "id": "f44fce4c",
   "metadata": {},
   "outputs": [],
   "source": [
    "ma =np.array([[1,2,3,7,11], [4,5,6,10,12]]) \n",
    "maa =np.array([[8,8,8,8], [9,9,9,9]])\n",
    "#حسب الصفوف"
   ]
  },
  {
   "cell_type": "code",
   "execution_count": 17,
   "id": "4fa9f90e",
   "metadata": {},
   "outputs": [
    {
     "data": {
      "text/plain": [
       "array([[ 1,  2,  3,  7, 11,  8,  8,  8,  8],\n",
       "       [ 4,  5,  6, 10, 12,  9,  9,  9,  9]])"
      ]
     },
     "execution_count": 17,
     "metadata": {},
     "output_type": "execute_result"
    }
   ],
   "source": [
    "c = np.concatenate((ma,maa),axis=1)\n",
    "c\n",
    "#c = np.concatenate((ma,maa)) اذ كانت المصفوفات بعد واحد مايحتاج axis\n"
   ]
  },
  {
   "cell_type": "code",
   "execution_count": 18,
   "id": "7ec2cd52",
   "metadata": {},
   "outputs": [],
   "source": [
    "t =np.array([[1,2,3,7], [4,5,6,10]]) \n",
    "#على حسب الاعمدة"
   ]
  },
  {
   "cell_type": "code",
   "execution_count": 19,
   "id": "a242e555",
   "metadata": {},
   "outputs": [
    {
     "data": {
      "text/plain": [
       "array([[ 1,  2,  3,  7],\n",
       "       [ 4,  5,  6, 10],\n",
       "       [ 8,  8,  8,  8],\n",
       "       [ 9,  9,  9,  9]])"
      ]
     },
     "execution_count": 19,
     "metadata": {},
     "output_type": "execute_result"
    }
   ],
   "source": [
    "cc = np.concatenate((t,maa),axis=0)\n",
    "cc"
   ]
  },
  {
   "cell_type": "markdown",
   "id": "2ef484df",
   "metadata": {},
   "source": [
    "### دالة لانشاء مصفوفة وتحدد عدد الاعمدة والاسطر فيما بعد"
   ]
  },
  {
   "cell_type": "code",
   "execution_count": 51,
   "id": "41fad111",
   "metadata": {},
   "outputs": [
    {
     "name": "stdout",
     "output_type": "stream",
     "text": [
      "[[49 89 33 12 46 32 96 87 76 20]\n",
      " [61 81 69  0 69 56 41 95 47 11]\n",
      " [32 97 50 77 44  0 55 97 14 95]\n",
      " [63 20 89 58 35 79 44 44 50 61]\n",
      " [20 35 75 41 50 32  7 36 41 95]\n",
      " [34 39 88 69 54 68 84  4 75 33]\n",
      " [95 86 44 22 40 16 13 56 93 19]\n",
      " [26 30 85 15 44 49 49 82 27 46]\n",
      " [65 50 17 90 67 71 63  9 26 11]\n",
      " [75 71 71 45 85 50 64 74 51 44]]\n"
     ]
    }
   ],
   "source": [
    "def createMatrix(rows=10, cols=10):\n",
    "    return np.random.randint(100, size=(rows, cols))\n",
    "print(createMatrix())"
   ]
  },
  {
   "cell_type": "code",
   "execution_count": 52,
   "id": "420a6b0f",
   "metadata": {},
   "outputs": [
    {
     "name": "stdout",
     "output_type": "stream",
     "text": [
      "[[15 90 44]\n",
      " [15 33 46]\n",
      " [83 43 18]]\n"
     ]
    }
   ],
   "source": [
    "print(createMatrix(3,3))"
   ]
  },
  {
   "cell_type": "code",
   "execution_count": 23,
   "id": "aae2a0e0",
   "metadata": {},
   "outputs": [],
   "source": [
    "def createMatrix_flaot(rows=0, cols=0):\n",
    "    return np.random.rand(1,100)\n"
   ]
  },
  {
   "cell_type": "code",
   "execution_count": 27,
   "id": "018f4d89",
   "metadata": {},
   "outputs": [
    {
     "data": {
      "text/plain": [
       "array([[0.84161566, 0.39489944, 0.33512859, 0.43755288, 0.37266122,\n",
       "        0.55124134, 0.34400193, 0.22986375, 0.0906635 , 0.26171255,\n",
       "        0.33374771, 0.86143647, 0.75967961, 0.54323122, 0.63477965,\n",
       "        0.96515435, 0.17993979, 0.55625343, 0.02316818, 0.32694987,\n",
       "        0.26653419, 0.85255023, 0.40555143, 0.75647447, 0.35152743,\n",
       "        0.36572147, 0.05765883, 0.06396817, 0.63060716, 0.97634143,\n",
       "        0.74136752, 0.06818545, 0.13544091, 0.31778508, 0.19849409,\n",
       "        0.16367361, 0.71734481, 0.9644024 , 0.229609  , 0.02662126,\n",
       "        0.82848954, 0.87910843, 0.96079523, 0.97183545, 0.67381015,\n",
       "        0.22205499, 0.06872891, 0.96801439, 0.11510367, 0.07126646,\n",
       "        0.04301679, 0.43057121, 0.14880835, 0.92870978, 0.2787367 ,\n",
       "        0.61485484, 0.19609558, 0.00769033, 0.78762029, 0.09279982,\n",
       "        0.03501515, 0.77170433, 0.73083115, 0.27453584, 0.66915627,\n",
       "        0.37271204, 0.72737379, 0.52537762, 0.34099355, 0.56850989,\n",
       "        0.35196148, 0.61397072, 0.99141262, 0.30367607, 0.35780468,\n",
       "        0.59739233, 0.78587777, 0.79142819, 0.81020889, 0.91940834,\n",
       "        0.63402839, 0.52693402, 0.59127785, 0.69820393, 0.62407483,\n",
       "        0.0194136 , 0.16670746, 0.38670732, 0.73089918, 0.01771902,\n",
       "        0.28160971, 0.55973997, 0.8106248 , 0.95400403, 0.6983735 ,\n",
       "        0.94994792, 0.28894111, 0.71832041, 0.88435177, 0.54021755]])"
      ]
     },
     "execution_count": 27,
     "metadata": {},
     "output_type": "execute_result"
    }
   ],
   "source": [
    "createMatrix_flaot((1,5))"
   ]
  },
  {
   "cell_type": "code",
   "execution_count": 59,
   "id": "6bb77087",
   "metadata": {},
   "outputs": [
    {
     "data": {
      "text/plain": [
       "array([5, 6, 1, 4, 4, 4, 2, 4, 6, 3])"
      ]
     },
     "execution_count": 59,
     "metadata": {},
     "output_type": "execute_result"
    }
   ],
   "source": [
    "np.random.seed(0)\n",
    "dd = np.random.randint(1,7,size=10)\n",
    "dd"
   ]
  },
  {
   "cell_type": "code",
   "execution_count": 205,
   "id": "11a6c50e",
   "metadata": {},
   "outputs": [
    {
     "data": {
      "text/plain": [
       "array([1, 2, 3, 4, 5, 6])"
      ]
     },
     "execution_count": 205,
     "metadata": {},
     "output_type": "execute_result"
    }
   ],
   "source": [
    "dq = np.unique(dd)\n",
    "dq"
   ]
  },
  {
   "cell_type": "code",
   "execution_count": 208,
   "id": "6b1cd360",
   "metadata": {},
   "outputs": [
    {
     "name": "stdout",
     "output_type": "stream",
     "text": [
      "[1 2 3 4 5 6] [2 6 9 3 0 1]\n"
     ]
    }
   ],
   "source": [
    "x , index = np.unique(dd,return_index=True)\n",
    "print(x,index)"
   ]
  },
  {
   "cell_type": "code",
   "execution_count": 209,
   "id": "8d94d7b9",
   "metadata": {},
   "outputs": [
    {
     "name": "stdout",
     "output_type": "stream",
     "text": [
      "[1 2 3 4 5 6] [1 1 1 4 1 2]\n"
     ]
    }
   ],
   "source": [
    "u , indexx = np.unique(dd,return_counts=True)\n",
    "print(u,indexx)"
   ]
  },
  {
   "cell_type": "code",
   "execution_count": 210,
   "id": "c5d367a9",
   "metadata": {},
   "outputs": [
    {
     "name": "stdout",
     "output_type": "stream",
     "text": [
      "[[2 3]\n",
      " [4 5]\n",
      " [6 7]\n",
      " [8 9]]\n"
     ]
    }
   ],
   "source": [
    "arr43 = np.arange(2,10).reshape(4,2)\n",
    "print(arr43)"
   ]
  },
  {
   "cell_type": "code",
   "execution_count": 211,
   "id": "2318e2f5",
   "metadata": {},
   "outputs": [
    {
     "name": "stdout",
     "output_type": "stream",
     "text": [
      "[3 5 7 9]\n"
     ]
    }
   ],
   "source": [
    "print(np.max(arr43, axis=1))\n",
    "#prints the max value in each row"
   ]
  },
  {
   "cell_type": "code",
   "execution_count": 213,
   "id": "af6eb3dc",
   "metadata": {},
   "outputs": [
    {
     "name": "stdout",
     "output_type": "stream",
     "text": [
      "9\n"
     ]
    }
   ],
   "source": [
    "print(np.max(arr43))"
   ]
  },
  {
   "cell_type": "code",
   "execution_count": 214,
   "id": "a5b09c39",
   "metadata": {},
   "outputs": [
    {
     "name": "stdout",
     "output_type": "stream",
     "text": [
      "2\n"
     ]
    }
   ],
   "source": [
    "print(np.min(arr43))"
   ]
  },
  {
   "cell_type": "code",
   "execution_count": 212,
   "id": "b8544733",
   "metadata": {},
   "outputs": [
    {
     "name": "stdout",
     "output_type": "stream",
     "text": [
      "[8 9]\n"
     ]
    }
   ],
   "source": [
    "print(np.max(arr43, axis=0))\n",
    "#prints the max value in each column"
   ]
  },
  {
   "cell_type": "code",
   "execution_count": 230,
   "id": "4ecddeb4",
   "metadata": {},
   "outputs": [
    {
     "name": "stdout",
     "output_type": "stream",
     "text": [
      "[[2 3]\n",
      " [4 5]\n",
      " [6 7]\n",
      " [8 9]]\n"
     ]
    }
   ],
   "source": [
    "arr1 = np.arange(2,10).reshape(4,2)\n",
    "print(arr1)"
   ]
  },
  {
   "cell_type": "code",
   "execution_count": 231,
   "id": "f08db0ec",
   "metadata": {},
   "outputs": [
    {
     "name": "stdout",
     "output_type": "stream",
     "text": [
      "[2 4 6 8]\n"
     ]
    }
   ],
   "source": [
    "print(np.min(arr1,axis=1))\n",
    "#print(التغيير على مستوى الصف,اسم المصفوفة,العملية الاحصائية,اختصار اسم المكتبة.min(arr1,axis=1))"
   ]
  },
  {
   "cell_type": "code",
   "execution_count": 232,
   "id": "2c56ffb3",
   "metadata": {},
   "outputs": [
    {
     "name": "stdout",
     "output_type": "stream",
     "text": [
      "[8 9]\n"
     ]
    }
   ],
   "source": [
    "print(np.max(arr1,axis=0))"
   ]
  },
  {
   "cell_type": "code",
   "execution_count": 234,
   "id": "fdda65ad",
   "metadata": {},
   "outputs": [
    {
     "name": "stdout",
     "output_type": "stream",
     "text": [
      "[ 5  9 13 17]\n"
     ]
    }
   ],
   "source": [
    "print(np.sum(arr1, axis=1))"
   ]
  },
  {
   "cell_type": "markdown",
   "id": "e0aec615",
   "metadata": {},
   "source": [
    "## الترتيب ابجدي للنصوص وترتيب من الاصغر الى الاكبرللارقام"
   ]
  },
  {
   "cell_type": "code",
   "execution_count": 319,
   "id": "0842b274",
   "metadata": {},
   "outputs": [
    {
     "data": {
      "text/plain": [
       "array(['ahmad', 'khlad', 'omar'], dtype='<U5')"
      ]
     },
     "execution_count": 319,
     "metadata": {},
     "output_type": "execute_result"
    }
   ],
   "source": [
    "b = np.array(['omar','ahmad','khlad'])\n",
    "np.sort(b)"
   ]
  },
  {
   "cell_type": "code",
   "execution_count": 320,
   "id": "400aba07",
   "metadata": {},
   "outputs": [
    {
     "data": {
      "text/plain": [
       "array([3, 4, 5])"
      ]
     },
     "execution_count": 320,
     "metadata": {},
     "output_type": "execute_result"
    }
   ],
   "source": [
    "l = np.array([5,4,3])\n",
    "np.sort(l)"
   ]
  },
  {
   "cell_type": "markdown",
   "id": "4fdbeb87",
   "metadata": {},
   "source": [
    "## sort by index"
   ]
  },
  {
   "cell_type": "code",
   "execution_count": 238,
   "id": "9c9513f1",
   "metadata": {},
   "outputs": [
    {
     "name": "stdout",
     "output_type": "stream",
     "text": [
      "[1 0 4 2 3]\n",
      "[  1 -30  10  15   3]\n"
     ]
    }
   ],
   "source": [
    "#اظهار ترتيب العناصر من خلال موقع العنصر\n",
    "arr2 = np.array([1, -30, 10, 15, 3])\n",
    "out_arr = np.argsort(arr2)\n",
    "print(out_arr)\n",
    "print(arr2)"
   ]
  },
  {
   "cell_type": "code",
   "execution_count": 239,
   "id": "4db44fa8",
   "metadata": {},
   "outputs": [
    {
     "name": "stdout",
     "output_type": "stream",
     "text": [
      "[3 2 4 0 1]\n"
     ]
    }
   ],
   "source": [
    "res = np.argsort(arr2)[::-1]\n",
    "print(res)\n",
    "#reversed by index"
   ]
  },
  {
   "cell_type": "code",
   "execution_count": 240,
   "id": "39063078",
   "metadata": {},
   "outputs": [
    {
     "name": "stdout",
     "output_type": "stream",
     "text": [
      "[[10 11 12]\n",
      " [13 14 15]]\n"
     ]
    }
   ],
   "source": [
    "arr3 = np.arange(6).reshape(2,3) + 10\n",
    "print(arr3)\n",
    "#لزيادة مقدار معين ثابت للنطاق من الارقام\n"
   ]
  },
  {
   "cell_type": "code",
   "execution_count": 245,
   "id": "1cce4f0f",
   "metadata": {},
   "outputs": [
    {
     "name": "stdout",
     "output_type": "stream",
     "text": [
      "3\n",
      "1\n"
     ]
    }
   ],
   "source": [
    "print(arr2.argmax())\n",
    "print(arr2.argmin())\n",
    "#مكان اعلى قيم واقل قيمة ك اندسك"
   ]
  },
  {
   "cell_type": "markdown",
   "id": "f32c8a63",
   "metadata": {},
   "source": [
    "## #Numpy - Broadcasting \n"
   ]
  },
  {
   "cell_type": "code",
   "execution_count": 246,
   "id": "ecf31424",
   "metadata": {},
   "outputs": [],
   "source": [
    "a = np.array([75,80,73,85])\n",
    "b = np.array([7])\n",
    "#b = np.array([7,7,7,7]) اذ كانت القيمة واحده المراد جمعها على المصفوفة الاولى مو لازم تكرر الرقم \n"
   ]
  },
  {
   "cell_type": "code",
   "execution_count": 247,
   "id": "0d89583a",
   "metadata": {},
   "outputs": [
    {
     "name": "stdout",
     "output_type": "stream",
     "text": [
      "[82 87 80 92]\n"
     ]
    }
   ],
   "source": [
    "print(a+b)"
   ]
  },
  {
   "cell_type": "code",
   "execution_count": 248,
   "id": "5463d1e8",
   "metadata": {},
   "outputs": [
    {
     "name": "stdout",
     "output_type": "stream",
     "text": [
      "[68 73 66 78]\n"
     ]
    }
   ],
   "source": [
    "print(a-b)"
   ]
  },
  {
   "cell_type": "code",
   "execution_count": 250,
   "id": "e9e26791",
   "metadata": {},
   "outputs": [
    {
     "name": "stdout",
     "output_type": "stream",
     "text": [
      "[525 560 511 595]\n"
     ]
    }
   ],
   "source": [
    "print(a*b)"
   ]
  },
  {
   "cell_type": "code",
   "execution_count": null,
   "id": "34848bb4",
   "metadata": {},
   "outputs": [],
   "source": []
  },
  {
   "cell_type": "code",
   "execution_count": 60,
   "id": "fc050de9",
   "metadata": {},
   "outputs": [],
   "source": [
    "f = np.array([1,2,3,4,5,6,7,8,9])"
   ]
  },
  {
   "cell_type": "code",
   "execution_count": 65,
   "id": "e10b9e3a",
   "metadata": {},
   "outputs": [
    {
     "data": {
      "text/plain": [
       "array([[1],\n",
       "       [2],\n",
       "       [3],\n",
       "       [4],\n",
       "       [5],\n",
       "       [6],\n",
       "       [7],\n",
       "       [8],\n",
       "       [9]])"
      ]
     },
     "execution_count": 65,
     "metadata": {},
     "output_type": "execute_result"
    }
   ],
   "source": [
    "g = np.expand_dims(f,axis=1)\n",
    "#g = np.expand_dims(f,axis=1 ثلاث اسطر وعمود واحد على حسب عدد القيم المعطاه يرجح الكف يم الاسطر)\n",
    "#g = np.expand_dims(f,axis=0 ثلاث اعمدة وسطر واحد على حسب عدد القيم المعطاه مره يرجح الكف للاعمدة )\n",
    "\n",
    "g\n"
   ]
  },
  {
   "cell_type": "code",
   "execution_count": 66,
   "id": "e451a475",
   "metadata": {},
   "outputs": [
    {
     "name": "stdout",
     "output_type": "stream",
     "text": [
      "(9, 1)\n"
     ]
    }
   ],
   "source": [
    "print(g.shape)"
   ]
  },
  {
   "cell_type": "markdown",
   "id": "96dd8142",
   "metadata": {},
   "source": [
    "## لتقسيم المصفوفات\n"
   ]
  },
  {
   "cell_type": "code",
   "execution_count": 267,
   "id": "a76ab8dc",
   "metadata": {},
   "outputs": [
    {
     "data": {
      "text/plain": [
       "[array([1, 2, 3]), array([4, 5, 6]), array([7, 8, 9])]"
      ]
     },
     "execution_count": 267,
     "metadata": {},
     "output_type": "execute_result"
    }
   ],
   "source": [
    "np.split(f,3)\n",
    "#np.split(f,نقسم المصفوفة الرئيسية على كم مصفوفة فرعية)"
   ]
  },
  {
   "cell_type": "code",
   "execution_count": 77,
   "id": "d468e38b",
   "metadata": {},
   "outputs": [
    {
     "name": "stdout",
     "output_type": "stream",
     "text": [
      "[1 2 3 4 5]\n",
      "[]\n",
      "[ 3  4  5  6  7  8  9 10]\n"
     ]
    }
   ],
   "source": [
    "f = np.array([1,2,3,4,5,6,7,8,9,10])\n",
    "a, b ,v= np.split(f, [5,2])\n",
    "print(a)\n",
    "print(b)\n",
    "print(v)\n"
   ]
  },
  {
   "cell_type": "code",
   "execution_count": 80,
   "id": "075d1725",
   "metadata": {},
   "outputs": [
    {
     "name": "stdout",
     "output_type": "stream",
     "text": [
      "[1 2 3]\n",
      "[4 5]\n",
      "[6 7]\n",
      "[8 9]\n"
     ]
    }
   ],
   "source": [
    " b = np.array([1,2,3,4,5,6,7,8,9])\n",
    "new = np.array_split(b,4)\n",
    "print(new[0])\n",
    "print(new[1])\n",
    "print(new[2])\n",
    "print(new[3])"
   ]
  },
  {
   "cell_type": "markdown",
   "id": "b5f90a0c",
   "metadata": {},
   "source": [
    "## نسخ قيم مصفوفة الى اخر"
   ]
  },
  {
   "cell_type": "code",
   "execution_count": 81,
   "id": "91d8745a",
   "metadata": {},
   "outputs": [
    {
     "data": {
      "text/plain": [
       "array([[13, 16],\n",
       "       [ 1,  4],\n",
       "       [ 4,  8]])"
      ]
     },
     "execution_count": 81,
     "metadata": {},
     "output_type": "execute_result"
    }
   ],
   "source": [
    "np.random.seed(0)\n",
    "h = np.random.randint(1,20,size=(3,2))\n",
    "h"
   ]
  },
  {
   "cell_type": "code",
   "execution_count": 297,
   "id": "bc79118f",
   "metadata": {},
   "outputs": [
    {
     "data": {
      "text/plain": [
       "array([[18, 21],\n",
       "       [ 6,  9],\n",
       "       [ 9, 13]])"
      ]
     },
     "execution_count": 297,
     "metadata": {},
     "output_type": "execute_result"
    }
   ],
   "source": [
    "hc = np.copy(h)+5\n",
    "hc"
   ]
  },
  {
   "cell_type": "code",
   "execution_count": 299,
   "id": "8920e94f",
   "metadata": {},
   "outputs": [
    {
     "data": {
      "text/plain": [
       "(array([3, 4, 5], dtype=int64),)"
      ]
     },
     "execution_count": 299,
     "metadata": {},
     "output_type": "execute_result"
    }
   ],
   "source": [
    "j = np.array([1,2,4,6,7,8])\n",
    "any_max_than5 = np.where(j>5)\n",
    "any_max_than5\n",
    "#يطلع لك القيم ك as index"
   ]
  },
  {
   "cell_type": "code",
   "execution_count": 300,
   "id": "e33ac506",
   "metadata": {},
   "outputs": [
    {
     "name": "stdout",
     "output_type": "stream",
     "text": [
      "[6 7 8]\n"
     ]
    }
   ],
   "source": [
    "print(j[any_max_than5])"
   ]
  },
  {
   "cell_type": "code",
   "execution_count": 301,
   "id": "c872b609",
   "metadata": {},
   "outputs": [
    {
     "name": "stdout",
     "output_type": "stream",
     "text": [
      "[False False False  True  True  True]\n"
     ]
    }
   ],
   "source": [
    "print(j>5)"
   ]
  },
  {
   "cell_type": "code",
   "execution_count": 302,
   "id": "5d4073df",
   "metadata": {},
   "outputs": [
    {
     "name": "stdout",
     "output_type": "stream",
     "text": [
      "[False False False  True  True  True]\n"
     ]
    }
   ],
   "source": [
    "n = j >5 \n",
    "print(n)"
   ]
  },
  {
   "cell_type": "code",
   "execution_count": 303,
   "id": "0748e7fc",
   "metadata": {},
   "outputs": [
    {
     "name": "stdout",
     "output_type": "stream",
     "text": [
      "[False  True  True  True False  True]\n"
     ]
    }
   ],
   "source": [
    "#([1,2,4,6,7,8])\n",
    "n = j %2==0 \n",
    "print(n)"
   ]
  },
  {
   "cell_type": "code",
   "execution_count": 304,
   "id": "b0c798b4",
   "metadata": {},
   "outputs": [
    {
     "name": "stdout",
     "output_type": "stream",
     "text": [
      "[[['m' 'm' 'm']\n",
      "  ['m' 'm' 'm']\n",
      "  ['m' 'm' 'm']]\n",
      "\n",
      " [['m' 'm' 'm']\n",
      "  ['m' 'm' 'm']\n",
      "  ['m' 'm' 'm']]]\n"
     ]
    }
   ],
   "source": [
    "print(np.full((2,3,3),\"m555ar\",dtype=\"str\"))\n",
    "#لسى ماني قادر املا مصفوفة باسم معين بدال حرف"
   ]
  },
  {
   "cell_type": "code",
   "execution_count": 309,
   "id": "1f89d52d",
   "metadata": {},
   "outputs": [
    {
     "data": {
      "text/plain": [
       "array(['عمرابراهيم الميلبى', 'عمرابراهيم الميلبى'], dtype='<U18')"
      ]
     },
     "execution_count": 309,
     "metadata": {},
     "output_type": "execute_result"
    }
   ],
   "source": [
    "s = np.array([1,2])\n",
    "np.full(s.shape,\"عمرابراهيم الميلبى\")"
   ]
  },
  {
   "cell_type": "code",
   "execution_count": 305,
   "id": "84b031d3",
   "metadata": {},
   "outputs": [
    {
     "data": {
      "text/plain": [
       "array([5, 5, 5, 5, 5, 5])"
      ]
     },
     "execution_count": 305,
     "metadata": {},
     "output_type": "execute_result"
    }
   ],
   "source": [
    "np.full_like(j,5)\n",
    "#np.full_like(,حدد الرقم المراد ملء به المصفوفة ضع اسم المصفوفة المراد تقليدها)"
   ]
  },
  {
   "cell_type": "code",
   "execution_count": 84,
   "id": "91b52811",
   "metadata": {},
   "outputs": [
    {
     "name": "stdout",
     "output_type": "stream",
     "text": [
      "['the second year in DS   and its the end of this pragram']\n"
     ]
    }
   ],
   "source": [
    "k = ['the second year in DS']\n",
    "p = ['   and its the end of this pragram']\n",
    "print(np.char.add(k,p))\n",
    "#المسافة تحسب في بداية المصفوفة الثانية سوف تلصق بنهاية المصفوفة الاولى"
   ]
  },
  {
   "cell_type": "code",
   "execution_count": 85,
   "id": "78bfe26e",
   "metadata": {},
   "outputs": [
    {
     "name": "stdout",
     "output_type": "stream",
     "text": [
      "he was a good boy\n"
     ]
    }
   ],
   "source": [
    "q = 'he is a good boy'\n",
    "print(np.char.replace(q,'is','was'))"
   ]
  },
  {
   "cell_type": "code",
   "execution_count": 96,
   "id": "94fb17e4",
   "metadata": {},
   "outputs": [
    {
     "data": {
      "text/plain": [
       "array([1, 2, 5, 3, 4])"
      ]
     },
     "execution_count": 96,
     "metadata": {},
     "output_type": "execute_result"
    }
   ],
   "source": [
    "from numpy import random\n",
    "x = np.array([1,2,3,4,5])\n",
    "random.shuffle(x)\n",
    "x"
   ]
  },
  {
   "cell_type": "code",
   "execution_count": 314,
   "id": "88879015",
   "metadata": {},
   "outputs": [],
   "source": []
  },
  {
   "cell_type": "code",
   "execution_count": 315,
   "id": "86811664",
   "metadata": {},
   "outputs": [
    {
     "data": {
      "text/plain": [
       "array([1, 2, 3])"
      ]
     },
     "execution_count": 315,
     "metadata": {},
     "output_type": "execute_result"
    }
   ],
   "source": []
  },
  {
   "cell_type": "code",
   "execution_count": null,
   "id": "8dae738b",
   "metadata": {},
   "outputs": [],
   "source": []
  }
 ],
 "metadata": {
  "kernelspec": {
   "display_name": "Python 3",
   "language": "python",
   "name": "python3"
  },
  "language_info": {
   "codemirror_mode": {
    "name": "ipython",
    "version": 3
   },
   "file_extension": ".py",
   "mimetype": "text/x-python",
   "name": "python",
   "nbconvert_exporter": "python",
   "pygments_lexer": "ipython3",
   "version": "3.8.8"
  }
 },
 "nbformat": 4,
 "nbformat_minor": 5
}
