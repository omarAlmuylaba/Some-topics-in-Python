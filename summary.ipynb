{
 "cells": [
  {
   "cell_type": "code",
   "execution_count": 5,
   "id": "ab0565f2",
   "metadata": {},
   "outputs": [
    {
     "ename": "NameError",
     "evalue": "name 'name' is not defined",
     "output_type": "error",
     "traceback": [
      "\u001b[1;31m---------------------------------------------------------------------------\u001b[0m",
      "\u001b[1;31mNameError\u001b[0m                                 Traceback (most recent call last)",
      "\u001b[1;32m<ipython-input-5-3fa137f837fa>\u001b[0m in \u001b[0;36m<module>\u001b[1;34m\u001b[0m\n\u001b[1;32m----> 1\u001b[1;33m \u001b[0md\u001b[0m \u001b[1;33m=\u001b[0m \u001b[0mname\u001b[0m\u001b[1;33m.\u001b[0m\u001b[0msplit\u001b[0m\u001b[1;33m(\u001b[0m\u001b[1;33m)\u001b[0m\u001b[1;33m\u001b[0m\u001b[1;33m\u001b[0m\u001b[0m\n\u001b[0m\u001b[0;32m      2\u001b[0m \u001b[0mprint\u001b[0m\u001b[1;33m(\u001b[0m\u001b[0md\u001b[0m\u001b[1;33m)\u001b[0m\u001b[1;33m\u001b[0m\u001b[1;33m\u001b[0m\u001b[0m\n",
      "\u001b[1;31mNameError\u001b[0m: name 'name' is not defined"
     ]
    }
   ],
   "source": [
    "d = name.split()\n",
    "print(d)"
   ]
  },
  {
   "cell_type": "code",
   "execution_count": 1,
   "id": "c559f50e",
   "metadata": {},
   "outputs": [
    {
     "name": "stdout",
     "output_type": "stream",
     "text": [
      "Enter your first nameعمر\n",
      "Enter your second nameعمر\n",
      "Enter your Family Nameعمر\n",
      "عمر عمر عمر\n"
     ]
    }
   ],
   "source": [
    "firstName = input(\"Enter your first name\")\n",
    "secondName = input(\"Enter your second name\")\n",
    "thirdName = input(\"Enter your Family Name\")\n",
    "print(firstName, secondName, thirdName)"
   ]
  },
  {
   "cell_type": "code",
   "execution_count": 12,
   "id": "67cfefae",
   "metadata": {},
   "outputs": [
    {
     "data": {
      "text/plain": [
       "['عمر', 'ابراهيم', 'الميلبى']"
      ]
     },
     "execution_count": 12,
     "metadata": {},
     "output_type": "execute_result"
    }
   ],
   "source": [
    "f = firstName + secondName + thirdName\n",
    "f.split()"
   ]
  },
  {
   "cell_type": "code",
   "execution_count": 6,
   "id": "bda76497",
   "metadata": {},
   "outputs": [
    {
     "name": "stdout",
     "output_type": "stream",
     "text": [
      "<class 'str'>\n"
     ]
    }
   ],
   "source": [
    "print(type(secondName))"
   ]
  },
  {
   "cell_type": "code",
   "execution_count": 2,
   "id": "721d82b5",
   "metadata": {},
   "outputs": [
    {
     "name": "stdout",
     "output_type": "stream",
     "text": [
      "13267.3196\n"
     ]
    }
   ],
   "source": [
    "c=13267.319624026732\n",
    "print(\"{:.4f}\".format(c))\n"
   ]
  },
  {
   "cell_type": "code",
   "execution_count": null,
   "id": "7f7afd95",
   "metadata": {},
   "outputs": [],
   "source": [
    "def mult2(x, y):\n",
    "    zz = x * y\n",
    "    return zz\n",
    "mult2(5, 7)"
   ]
  },
  {
   "cell_type": "code",
   "execution_count": null,
   "id": "5b68d304",
   "metadata": {},
   "outputs": [],
   "source": [
    "def printName(): #This functxion does not return any value\n",
    "    print(\"Studnet name is Omar Ibraheem\")"
   ]
  },
  {
   "cell_type": "code",
   "execution_count": null,
   "id": "436bd62e",
   "metadata": {},
   "outputs": [],
   "source": [
    "def getAge(): #This function returns an inage value \n",
    "    return 25"
   ]
  },
  {
   "cell_type": "code",
   "execution_count": null,
   "id": "e8845458",
   "metadata": {},
   "outputs": [],
   "source": [
    "#The following functions does not receive any values and does not return any value\n",
    "def add_nums():\n",
    "    print(7 + 8)\n",
    "def printName():\n",
    "    name = \"Tareq Ali Alhmaidat\"\n",
    "    print(name)"
   ]
  },
  {
   "cell_type": "code",
   "execution_count": 3,
   "id": "8dee074a",
   "metadata": {},
   "outputs": [],
   "source": [
    "#The follwoing function does accept two values \n",
    "# and return the sum, subtraction, multiplication and division\n",
    "def arthOperation(n1, n2):\n",
    "    sum = n1 + n2\n",
    "    sub = n1 - n2\n",
    "    mult = n1 * n2\n",
    "    div = n1/n2\n",
    "    return sum, sub, mult, div"
   ]
  },
  {
   "cell_type": "code",
   "execution_count": null,
   "id": "0f60ccc6",
   "metadata": {},
   "outputs": [],
   "source": [
    "print(arthOperation(90, 20))"
   ]
  },
  {
   "cell_type": "code",
   "execution_count": 4,
   "id": "0b45cf14",
   "metadata": {},
   "outputs": [
    {
     "data": {
      "text/plain": [
       "(15, 5, 50, 2.0)"
      ]
     },
     "execution_count": 4,
     "metadata": {},
     "output_type": "execute_result"
    }
   ],
   "source": [
    "arthOperation(10,5)"
   ]
  },
  {
   "cell_type": "code",
   "execution_count": 7,
   "id": "3dc39d07",
   "metadata": {},
   "outputs": [
    {
     "name": "stdout",
     "output_type": "stream",
     "text": [
      "15 5 50 2.0\n"
     ]
    }
   ],
   "source": [
    "s,su,m,d = arthOperation(10,5)\n",
    "print(s,su,m,d)"
   ]
  },
  {
   "cell_type": "code",
   "execution_count": null,
   "id": "10a84bfd",
   "metadata": {},
   "outputs": [],
   "source": [
    "sumV, subV, multV, divV = arthOperation(130, 50)\n",
    "print(sumV, subV, multV, divV)"
   ]
  },
  {
   "cell_type": "code",
   "execution_count": null,
   "id": "f46cc444",
   "metadata": {},
   "outputs": [],
   "source": [
    "def printName():\n",
    "    print(\"print something\")\n",
    "    pass"
   ]
  },
  {
   "cell_type": "code",
   "execution_count": 11,
   "id": "63e0980d",
   "metadata": {},
   "outputs": [
    {
     "name": "stdout",
     "output_type": "stream",
     "text": [
      "number10\n",
      "number5\n",
      "(15, 5, 50, 2.0)\n"
     ]
    }
   ],
   "source": [
    "ii = int(input(\"number\"))\n",
    "i2 = int(input(\"number\"))\n",
    "\n",
    "print(arthOperation(ii,i2))"
   ]
  },
  {
   "cell_type": "code",
   "execution_count": 13,
   "id": "3194ab17",
   "metadata": {},
   "outputs": [
    {
     "name": "stdout",
     "output_type": "stream",
     "text": [
      "True\n"
     ]
    }
   ],
   "source": [
    "print(5>1)\n",
    "f = 5 \n",
    "k= 1"
   ]
  },
  {
   "cell_type": "code",
   "execution_count": 17,
   "id": "6890727c",
   "metadata": {},
   "outputs": [
    {
     "name": "stdout",
     "output_type": "stream",
     "text": [
      "True\n",
      "True\n"
     ]
    }
   ],
   "source": [
    "print(f>k)\n",
    "print(f!=k)\n"
   ]
  },
  {
   "cell_type": "code",
   "execution_count": null,
   "id": "04209671",
   "metadata": {},
   "outputs": [],
   "source": [
    "def calcMark(mark):\n",
    "    if mark>=95 and mark<=100:\n",
    "        print(\"Excellent\")\n",
    "    elif mark>=85:\n",
    "        print(\"Very Good\")\n",
    "    elif mark>=75:\n",
    "        print(\"Good\")\n",
    "    elif mark>=70:\n",
    "        print(\"Pass\")\n",
    "    else:\n",
    "        print(\"YOUR ARE FAIL...\")"
   ]
  },
  {
   "cell_type": "code",
   "execution_count": null,
   "id": "3a79ddc6",
   "metadata": {},
   "outputs": [],
   "source": [
    "mark = int(input(\"Enter your mark:\"))\n",
    "calcMark(mark)"
   ]
  },
  {
   "cell_type": "code",
   "execution_count": 19,
   "id": "50ea80b4",
   "metadata": {},
   "outputs": [
    {
     "name": "stdout",
     "output_type": "stream",
     "text": [
      "your make88\n",
      "vg\n",
      "None\n"
     ]
    }
   ],
   "source": [
    "def ca(ma):\n",
    "    if ma >= 95 and ma<=100:\n",
    "        print(\"exce\")\n",
    "    elif ma >=85:\n",
    "        print(\"vg\")\n",
    "    elif ma >=75:\n",
    "        print(\"g\")\n",
    "    elif ma >= 70:\n",
    "        print(\"pass\")\n",
    "    else :\n",
    "        print(\"fail\")\n",
    "ma = int(input(\"your make\"))\n",
    "print(ca(ma))"
   ]
  },
  {
   "cell_type": "code",
   "execution_count": 22,
   "id": "5a3e10e1",
   "metadata": {},
   "outputs": [],
   "source": [
    "def calcIncomeTax(salary):\n",
    "    tax = 0\n",
    "    if salary>=20000:\n",
    "        tax = salary * 0.10\n",
    "    elif salary >=10000 and salary<20000:\n",
    "        tax = salary * 0.05\n",
    "    else:\n",
    "        tax = 0\n",
    "    return salary - tax"
   ]
  },
  {
   "cell_type": "code",
   "execution_count": 25,
   "id": "f3d3de9f",
   "metadata": {},
   "outputs": [
    {
     "name": "stdout",
     "output_type": "stream",
     "text": [
      "your salary15000\n",
      "14250.0\n"
     ]
    }
   ],
   "source": [
    "def ccT(sal):\n",
    "    tax = 0\n",
    "    if sal >=20000:\n",
    "        tax = sal*0.10\n",
    "    elif sal >=10000:\n",
    "        tax = sal*0.05\n",
    "    else:\n",
    "        tax = 0\n",
    "    return sal - tax      \n",
    "c = int(input(\"your salary\"))\n",
    "print(ccT(c))"
   ]
  },
  {
   "cell_type": "code",
   "execution_count": 13,
   "id": "2d7115d6",
   "metadata": {},
   "outputs": [
    {
     "name": "stdout",
     "output_type": "stream",
     "text": [
      "tall170\n",
      "weght65\n",
      "nanaltsaudi\n",
      "you are pass the first step\n",
      "None\n"
     ]
    }
   ],
   "source": [
    "def accp(tal,wig,nat):\n",
    "    if tal >=170 and wig >=60 and wig <=80 and nat == \"saudi\":\n",
    "        print(\"you are pass the first step\")\n",
    "    else:\n",
    "        print(\"fail\")\n",
    "x = int(input(\"tall\"))\n",
    "y = int(input(\"weght\"))\n",
    "c = str(input(\"nanalt\"))\n",
    "\n",
    "print(accp(x,y,c))"
   ]
  },
  {
   "cell_type": "code",
   "execution_count": 29,
   "id": "b804a988",
   "metadata": {},
   "outputs": [
    {
     "name": "stdout",
     "output_type": "stream",
     "text": [
      "9\n"
     ]
    }
   ],
   "source": [
    "i = \"7\"\n",
    "if isinstance(i, int):\n",
    "    #i+=1 \n",
    "    i = i + 1\n",
    "elif isinstance(i, str):\n",
    "    i = int(i)\n",
    "    i+=2\n",
    "    #i = i + 2\n",
    "print(i)"
   ]
  },
  {
   "cell_type": "code",
   "execution_count": 1,
   "id": "e70be005",
   "metadata": {},
   "outputs": [
    {
     "name": "stdout",
     "output_type": "stream",
     "text": [
      "1\n",
      "3\n",
      "5\n"
     ]
    }
   ],
   "source": [
    "for m in range(1, 6, 2):\n",
    "    print(m)"
   ]
  },
  {
   "cell_type": "code",
   "execution_count": null,
   "id": "3f2c8524",
   "metadata": {},
   "outputs": [],
   "source": [
    "    if x%2 == 1: فردي\n",
    "    if x%2 == 0: زوجي\n"
   ]
  },
  {
   "cell_type": "code",
   "execution_count": null,
   "id": "a7bad279",
   "metadata": {},
   "outputs": [],
   "source": [
    "sum = 1\n",
    "for k in range(1, 5):\n",
    "    sum = sum * k\n",
    "print(\"Factorial of 4 is: \", sum)"
   ]
  },
  {
   "cell_type": "code",
   "execution_count": 5,
   "id": "37431b3b",
   "metadata": {},
   "outputs": [
    {
     "name": "stdout",
     "output_type": "stream",
     "text": [
      "['Mousa', 'Fahad', 'Khaled', 'Tareq', 'Ahmad', 'Fahad']\n",
      "Mousa\n",
      "1\n",
      "Fahad\n",
      "2\n",
      "Khaled\n",
      "1\n",
      "Tareq\n",
      "1\n",
      "Ahmad\n",
      "1\n",
      "Fahad\n",
      "2\n"
     ]
    }
   ],
   "source": [
    "studentNames = [\"Mousa\", \"Fahad\", \"Khaled\", \"Tareq\", \"Ahmad\", \"Fahad\"]\n",
    "print(studentNames)\n",
    "for i in studentNames:\n",
    "    print(i)\n",
    "    print(studentNames.count(i))   "
   ]
  },
  {
   "cell_type": "code",
   "execution_count": 4,
   "id": "cd496212",
   "metadata": {},
   "outputs": [
    {
     "name": "stdout",
     "output_type": "stream",
     "text": [
      "0 Mousa\n",
      "1 Fahad\n",
      "2 Khaled\n",
      "3 Tareq\n",
      "4 Ahmad\n",
      "5 Fahad\n"
     ]
    }
   ],
   "source": [
    "for i in range(0, len(studentNames)):\n",
    "    print(i,studentNames[i])"
   ]
  },
  {
   "cell_type": "code",
   "execution_count": 6,
   "id": "3b1b9af3",
   "metadata": {},
   "outputs": [
    {
     "name": "stdout",
     "output_type": "stream",
     "text": [
      "0 Mousa\n",
      "1 Fahad\n",
      "2 Khaled\n",
      "3 Tareq\n",
      "4 Ahmad\n",
      "5 Fahad\n"
     ]
    }
   ],
   "source": [
    "for i in range(len(studentNames)):\n",
    "        print(i,studentNames[i])"
   ]
  },
  {
   "cell_type": "code",
   "execution_count": 8,
   "id": "c3df2f63",
   "metadata": {},
   "outputs": [],
   "source": [
    "lst = [1, 2, 45, 4, 4, 5 , 5, 4, 5, 2, 3, 4, 34, 56, 5, 7]\n"
   ]
  },
  {
   "cell_type": "code",
   "execution_count": 16,
   "id": "0265cb98",
   "metadata": {},
   "outputs": [
    {
     "data": {
      "text/plain": [
       "4"
      ]
     },
     "execution_count": 16,
     "metadata": {},
     "output_type": "execute_result"
    }
   ],
   "source": [
    "max(lst,key=lst.count)"
   ]
  },
  {
   "cell_type": "code",
   "execution_count": 20,
   "id": "effe95d4",
   "metadata": {},
   "outputs": [
    {
     "name": "stdout",
     "output_type": "stream",
     "text": [
      "1\n"
     ]
    }
   ],
   "source": [
    "print(min(lst))"
   ]
  },
  {
   "cell_type": "code",
   "execution_count": 25,
   "id": "5176c372",
   "metadata": {},
   "outputs": [
    {
     "name": "stdout",
     "output_type": "stream",
     "text": [
      "True\n",
      "False\n"
     ]
    },
    {
     "data": {
      "text/plain": [
       "(None, None)"
      ]
     },
     "execution_count": 25,
     "metadata": {},
     "output_type": "execute_result"
    }
   ],
   "source": [
    "print(3 in lst),print(3 not  in lst)"
   ]
  },
  {
   "cell_type": "code",
   "execution_count": 26,
   "id": "10d5c257",
   "metadata": {},
   "outputs": [
    {
     "name": "stdout",
     "output_type": "stream",
     "text": [
      "True\n"
     ]
    }
   ],
   "source": [
    "print(100 not  in lst)"
   ]
  },
  {
   "cell_type": "code",
   "execution_count": 27,
   "id": "baa7f021",
   "metadata": {},
   "outputs": [],
   "source": [
    "lst3 = [1, 1, 1, 2, 3, 4, 3]"
   ]
  },
  {
   "cell_type": "code",
   "execution_count": 28,
   "id": "eb0fe594",
   "metadata": {},
   "outputs": [
    {
     "name": "stdout",
     "output_type": "stream",
     "text": [
      "The occurance of 1 is 3\n",
      "The occurance of 2 is 1\n",
      "The occurance of 3 is 2\n",
      "The occurance of 4 is 1\n"
     ]
    }
   ],
   "source": [
    "unique = []\n",
    "for b in lst3:\n",
    "    isExist = b not in unique\n",
    "    if isExist == True:\n",
    "        unique.append(b)\n",
    "        print(\"The occurance of {} is {}\".format(b, lst3.count(b)))"
   ]
  },
  {
   "cell_type": "code",
   "execution_count": 29,
   "id": "0c5408ba",
   "metadata": {},
   "outputs": [
    {
     "name": "stdout",
     "output_type": "stream",
     "text": [
      "Student name is 1:Mousa\n",
      "Student name is 2:Fahad\n",
      "Student name is 3:Khaled\n",
      "Student name is 4:Tareq\n",
      "Student name is 5:Ahmad\n",
      "Student name is 6:Fahad\n"
     ]
    }
   ],
   "source": [
    "for count, name in enumerate(studentNames, start=1):\n",
    "    print(\"Student name is {}:{}\".format(count, name))\n",
    "# Note: enumerate fuction returns two values: index and item"
   ]
  },
  {
   "cell_type": "code",
   "execution_count": null,
   "id": "c21cf3a6",
   "metadata": {},
   "outputs": [],
   "source": []
  },
  {
   "cell_type": "code",
   "execution_count": null,
   "id": "0d33f5c3",
   "metadata": {},
   "outputs": [],
   "source": []
  },
  {
   "cell_type": "code",
   "execution_count": null,
   "id": "5138d652",
   "metadata": {},
   "outputs": [],
   "source": []
  },
  {
   "cell_type": "code",
   "execution_count": null,
   "id": "65ca7153",
   "metadata": {},
   "outputs": [],
   "source": []
  },
  {
   "cell_type": "code",
   "execution_count": 22,
   "id": "6313c4b8",
   "metadata": {},
   "outputs": [
    {
     "name": "stdout",
     "output_type": "stream",
     "text": [
      "[0, 5, 10, 15, 20, 25, 30, 35, 40, 45]\n"
     ]
    }
   ],
   "source": [
    "lst = [c*5 for c in range(0,10)]\n",
    "print(lst)"
   ]
  },
  {
   "cell_type": "code",
   "execution_count": null,
   "id": "65477bf2",
   "metadata": {},
   "outputs": [],
   "source": [
    "l5 = [x for x in range(0, 11, 2)]\n",
    "print(l5)"
   ]
  },
  {
   "cell_type": "code",
   "execution_count": null,
   "id": "5d8e1d44",
   "metadata": {},
   "outputs": [],
   "source": [
    "l6 = [x*3 for x in range(0, 11, 2)]\n",
    "print(l6)"
   ]
  },
  {
   "cell_type": "code",
   "execution_count": null,
   "id": "680e6763",
   "metadata": {},
   "outputs": [],
   "source": [
    "l7 = [x*3 for x in range(11) if x%2==0]\n",
    "print(l7)"
   ]
  },
  {
   "cell_type": "code",
   "execution_count": 28,
   "id": "55d80e88",
   "metadata": {},
   "outputs": [
    {
     "name": "stdout",
     "output_type": "stream",
     "text": [
      "[11, 13, 15, 17, 19]\n"
     ]
    }
   ],
   "source": [
    "ll = [c*1 for c in range(0,20) if c%2==1 and c >= 10]\n",
    "print(ll)"
   ]
  },
  {
   "cell_type": "code",
   "execution_count": 2,
   "id": "0eb633a3",
   "metadata": {},
   "outputs": [
    {
     "name": "stdout",
     "output_type": "stream",
     "text": [
      "[1, 4, 9, 8, 25, 12, 49, 16, 81]\n"
     ]
    }
   ],
   "source": [
    "ls = [n*2 if n%2==0 else n**2  for n in range(1,10) ]\n",
    "print(ls)"
   ]
  },
  {
   "cell_type": "code",
   "execution_count": null,
   "id": "66f013e5",
   "metadata": {},
   "outputs": [],
   "source": [
    "def near_thousand(n):\n",
    "    return ((abs(1000 - n) <= 100) or (abs(2000 - n) <= 100))\n",
    "print(near_thousand(2000))"
   ]
  },
  {
   "cell_type": "code",
   "execution_count": null,
   "id": "6c87d648",
   "metadata": {},
   "outputs": [],
   "source": [
    "mum = int(input(\"insert number:\"))\n",
    "mod = mum % 2\n",
    "if mod > 0:\n",
    "    print(\"odd number\")\n",
    "else:\n",
    "    print(\"This is an even number\")"
   ]
  },
  {
   "cell_type": "code",
   "execution_count": 24,
   "id": "be93d9a6",
   "metadata": {},
   "outputs": [],
   "source": [
    "import statistics \n",
    "from statistics import mode\n",
    "import collections \n"
   ]
  },
  {
   "cell_type": "code",
   "execution_count": 23,
   "id": "dd867741",
   "metadata": {},
   "outputs": [
    {
     "name": "stdout",
     "output_type": "stream",
     "text": [
      "2\n"
     ]
    }
   ],
   "source": [
    "    L1 = [1, 2, 2, 3, 1, 4, 2]\n",
    "\n",
    "def feu(ist):\n",
    "     return mode(ist)\n",
    "\n",
    "print(feu(L1))"
   ]
  },
  {
   "cell_type": "code",
   "execution_count": 28,
   "id": "8a1320d2",
   "metadata": {},
   "outputs": [
    {
     "name": "stdout",
     "output_type": "stream",
     "text": [
      "The count is:  4\n",
      "The most frequent number is:  2\n"
     ]
    }
   ],
   "source": [
    "def most_freq(List):\n",
    "    ot = collections.Counter(List)\n",
    "    print(\"The count is: \", ot.most_common(1)[0][1])\n",
    "    return ot.most_common(1)[0][0]\n",
    "# The most_common function returns a 2D list with 1 row and 2 cols\n",
    "# [0][0] contains the most frequent number\n",
    "# [0][1] contins the count of the most frequent number \n",
    "L1 = [1, 2, 2, 3, 1, 4, 2, 2]\n",
    "print(\"The most frequent number is: \", most_freq(L1))"
   ]
  },
  {
   "cell_type": "code",
   "execution_count": null,
   "id": "6f6db28c",
   "metadata": {},
   "outputs": [],
   "source": [
    "str_x = \"Mohammed is a good developer. Mohammed is a writer\"\n",
    "print(str_x.count(\"Mohammed\"))\n",
    "print(str_x.count(\"good\"))"
   ]
  },
  {
   "cell_type": "code",
   "execution_count": null,
   "id": "90b3a154",
   "metadata": {},
   "outputs": [],
   "source": [
    "l2 = [44, 2, 8, 9 ,2 ,3 , 4, 3, 3]\n",
    "l2.count(2)"
   ]
  },
  {
   "cell_type": "code",
   "execution_count": null,
   "id": "d43d8a61",
   "metadata": {},
   "outputs": [],
   "source": [
    "for n in l2:\n",
    "    print(l2.count(n))"
   ]
  },
  {
   "cell_type": "markdown",
   "id": "55a732a9",
   "metadata": {},
   "source": []
  },
  {
   "cell_type": "code",
   "execution_count": null,
   "id": "b75fba78",
   "metadata": {},
   "outputs": [],
   "source": [
    "\n"
   ]
  },
  {
   "cell_type": "markdown",
   "id": "a3548a15",
   "metadata": {},
   "source": [
    "* لاجل التحقق اذ عنصر ما موجود في لست معينة"
   ]
  },
  {
   "cell_type": "markdown",
   "id": "cb94b329",
   "metadata": {},
   "source": [
    "* lambda\n"
   ]
  },
  {
   "cell_type": "code",
   "execution_count": null,
   "id": "378780fb",
   "metadata": {},
   "outputs": [],
   "source": [
    "w=[3, 4, 5, 8, 0, 3, 8, 5, 0, 3, 1, 5, 2, 3, 4, 2]\n",
    "\n",
    "s=lambda d:{i:d.count(i) for i in w}\n",
    "print(s(w))"
   ]
  },
  {
   "cell_type": "code",
   "execution_count": null,
   "id": "0f9a79ed",
   "metadata": {},
   "outputs": [],
   "source": [
    "las = list(map(lambda n:n*5,new))\n",
    "print(las)"
   ]
  },
  {
   "cell_type": "code",
   "execution_count": 11,
   "id": "03760d5a",
   "metadata": {},
   "outputs": [
    {
     "name": "stdout",
     "output_type": "stream",
     "text": [
      "[26, 100]\n"
     ]
    }
   ],
   "source": [
    "lst21=[1,25,26,100,7,8,10]\n",
    "\n",
    "even_nums = list(filter(lambda x: x%2 == 0 and x > 21, lst21))\n",
    "\n",
    "print(even_nums)"
   ]
  },
  {
   "cell_type": "code",
   "execution_count": null,
   "id": "c1121f56",
   "metadata": {},
   "outputs": [],
   "source": [
    "new = [1,2,3,4,5,6,7,8]\n",
    "lam = list(filter(lambda n: n%2==0,new))\n",
    "print(lam)"
   ]
  },
  {
   "cell_type": "code",
   "execution_count": null,
   "id": "25132e43",
   "metadata": {},
   "outputs": [],
   "source": [
    "lams = list(map(lambda n:n*n, filter(lambda n:n%2==1,new)))\n",
    "print(lams)                        #filter(lambda x:x%2!=0, nums"
   ]
  },
  {
   "cell_type": "code",
   "execution_count": null,
   "id": "3fc78782",
   "metadata": {},
   "outputs": [],
   "source": [
    "avr = lambda x ,c ,b :(x+c+b)/3\n",
    "print(avr(5,5,5))"
   ]
  },
  {
   "cell_type": "code",
   "execution_count": null,
   "id": "faa7ddcc",
   "metadata": {},
   "outputs": [],
   "source": [
    "lst101=[33,2, 4, 8, 10]\n",
    "\n",
    "print( 7 in lst100)"
   ]
  },
  {
   "cell_type": "code",
   "execution_count": 7,
   "id": "51154283",
   "metadata": {},
   "outputs": [
    {
     "name": "stdout",
     "output_type": "stream",
     "text": [
      "35\n"
     ]
    }
   ],
   "source": [
    "def myFun1(a,b):\n",
    "    return a+b+10\n",
    "\n",
    "x = lambda a, b : a+b+10\n",
    "print(x(5,20))\n",
    "\n"
   ]
  },
  {
   "cell_type": "code",
   "execution_count": 10,
   "id": "a157ed27",
   "metadata": {},
   "outputs": [
    {
     "name": "stdout",
     "output_type": "stream",
     "text": [
      "['Khaled', 'Yasser']\n"
     ]
    }
   ],
   "source": [
    "\n",
    "names = ['Fahad', 'Majed', 'Abdulaziz', 'Khaled', 'Yasser', 'Ali', 'Mohmmad']\n",
    "\n",
    "\n",
    "res1 = list(filter(lambda name: name if len(name)==6 else '', names))\n",
    "print(res1)"
   ]
  },
  {
   "cell_type": "code",
   "execution_count": null,
   "id": "68111738",
   "metadata": {},
   "outputs": [],
   "source": [
    "def myFun2(lst):\n",
    "    res=[]\n",
    "    for l in lst:\n",
    "        res.append(l**3)\n",
    "    return res\n",
    "lst=[2,3,5,7]\n",
    "print(myFun2(lst))\n",
    "\n",
    "\n",
    "numberlist=[2,3,5,7]\n",
    "res1=list(map(lambda x:x**3, numberlist))\n",
    "map\n",
    "print(res1)"
   ]
  },
  {
   "cell_type": "markdown",
   "id": "b0eedf4a",
   "metadata": {},
   "source": [
    "* Convert the following function into "
   ]
  },
  {
   "cell_type": "code",
   "execution_count": 8,
   "id": "526d14ab",
   "metadata": {},
   "outputs": [
    {
     "name": "stdout",
     "output_type": "stream",
     "text": [
      "['pass', 'fil', 'pass', 'pass', 'fil', 'pass']\n"
     ]
    }
   ],
   "source": [
    "grades = [90, 55, 70, 88, 44, 77]\n",
    "chekgr=[\"pass\" if n >= 70 else \"fil\" for n in grades]\n",
    "print(chekgr)"
   ]
  },
  {
   "cell_type": "code",
   "execution_count": 8,
   "id": "1054e1e1",
   "metadata": {},
   "outputs": [
    {
     "name": "stdout",
     "output_type": "stream",
     "text": [
      "['two']\n"
     ]
    }
   ],
   "source": [
    " my_list = [\"one\",\"two\",\"three\"]\n",
    "v= [(i) for i in my_list if i==\"two\"]\n",
    "print(v)"
   ]
  },
  {
   "cell_type": "code",
   "execution_count": null,
   "id": "f4be1eee",
   "metadata": {},
   "outputs": [],
   "source": [
    "print([num*2 for num in [2,4,6,8,10]]) \n"
   ]
  },
  {
   "cell_type": "code",
   "execution_count": null,
   "id": "20642a04",
   "metadata": {},
   "outputs": [],
   "source": [
    "heights = [144, 180, 165, 120, 199]\n",
    "tall = [h for h in heights if h > 160]\n",
    "print(tall)\n",
    "### Results"
   ]
  },
  {
   "cell_type": "code",
   "execution_count": null,
   "id": "90d458ab",
   "metadata": {},
   "outputs": [],
   "source": [
    "nums = list(range(10))\n",
    "num_classes = ['even' if num%2 == 0 else 'odd' for num in nums]\n",
    "print(num_classes)"
   ]
  },
  {
   "cell_type": "code",
   "execution_count": null,
   "id": "c8f7fec3",
   "metadata": {},
   "outputs": [],
   "source": [
    "num = [i for i in range(10) if i>=5]\n",
    "print(num)\n"
   ]
  },
  {
   "cell_type": "code",
   "execution_count": null,
   "id": "c8141d04",
   "metadata": {},
   "outputs": [],
   "source": [
    "num = [i for i in range(50) if i%2==0 if i%3==0 if i%3==0]\n",
    "print(num)"
   ]
  },
  {
   "cell_type": "code",
   "execution_count": 17,
   "id": "4c48ca2a",
   "metadata": {},
   "outputs": [
    {
     "name": "stdout",
     "output_type": "stream",
     "text": [
      "['زوجي 10', ' فردي 9', 'زوجي 8', ' فردي 7', 'زوجي 6', ' فردي 5', 'زوجي 4', ' فردي 3', 'زوجي 2', ' فردي 1']\n"
     ]
    }
   ],
   "source": [
    "fruits = [\"زوجي {}\".format(i) if i%2==0 else \" فردي {}\".format(i) for i in range(1,11)]\n",
    "print(fruits[::-1])"
   ]
  },
  {
   "cell_type": "code",
   "execution_count": 19,
   "id": "ae8726ce",
   "metadata": {},
   "outputs": [
    {
     "name": "stdout",
     "output_type": "stream",
     "text": [
      "['1 It is odd', '4 is even', '7 It is odd', '12 is even', '19 It is odd', '22 is even', '23 It is odd', '26 is even']\n"
     ]
    }
   ],
   "source": [
    "some_list = [1,4,7,12,19,22, 23, 26]\n",
    "new_list = [\"{} is even\".format(i) if(i%2==0) else \"{} It is odd\".format(i) for i in some_list]\n",
    "print(new_list)"
   ]
  },
  {
   "cell_type": "code",
   "execution_count": null,
   "id": "4d28077c",
   "metadata": {},
   "outputs": [],
   "source": [
    "list =[omar ]\n",
    "for i in range(2,4):\n",
    "        for j in range(1,5):\n",
    "               print(f\"{i}+{j}={i+j}\")"
   ]
  },
  {
   "cell_type": "code",
   "execution_count": 18,
   "id": "0d467b66",
   "metadata": {},
   "outputs": [
    {
     "name": "stdout",
     "output_type": "stream",
     "text": [
      "2+1=3\n",
      "2+2=4\n",
      "2+3=5\n",
      "2+4=6\n",
      "3+1=4\n",
      "3+2=5\n",
      "3+3=6\n",
      "3+4=7\n"
     ]
    }
   ],
   "source": [
    "\n",
    "for i in range(2,4):\n",
    "        for j in range(1,5):\n",
    "               print(f\"{i}+{j}={i+j}\")"
   ]
  },
  {
   "cell_type": "code",
   "execution_count": 20,
   "id": "acc94e07",
   "metadata": {},
   "outputs": [
    {
     "name": "stdout",
     "output_type": "stream",
     "text": [
      "[[3, 1, 4], [5, 0, 14], [1, 9, 22], [6, 5, 17]]\n"
     ]
    }
   ],
   "source": [
    "someMatrix = [\n",
    "    [3, 5, 1, 6],\n",
    "    [1, 0, 9, 5],\n",
    "    [4, 14, 22, 17],\n",
    "]\n",
    "transpose = [[row[i] for row in someMatrix] for i in range(len(someMatrix[0]))]\n",
    "print(transpose) # [[3, 1, 4], [5, 0, 14], [1, 9, 22], [6, 5, 17]]"
   ]
  },
  {
   "cell_type": "code",
   "execution_count": 21,
   "id": "f5029142",
   "metadata": {},
   "outputs": [
    {
     "name": "stdout",
     "output_type": "stream",
     "text": [
      "[[3, 1, 4], [5, 0, 14], [1, 9, 22], [6, 5, 17]]\n"
     ]
    }
   ],
   "source": [
    "transpose = []\n",
    "for i in range(4):\n",
    "    # The next 3 lines are for nested list compression\n",
    "    transpose_row = []\n",
    "    for row in someMatrix:\n",
    "        transpose_row.append(row[i])\n",
    "    transpose.append(transpose_row)\n",
    "print(transpose)"
   ]
  },
  {
   "cell_type": "code",
   "execution_count": 9,
   "id": "9a80fafe",
   "metadata": {},
   "outputs": [
    {
     "name": "stdout",
     "output_type": "stream",
     "text": [
      "[50, 22, 9, 16, 4]\n"
     ]
    }
   ],
   "source": [
    "lsist1=[50,22,3,4,2]\n",
    "o=[]\n",
    "#res1=[o.append(i) if i >= 20  else o.append(i**2),lsist1]\n",
    "res1=[o.append(i) if i >= 20  else o.append(i**2)for i in lsist1]\n",
    "\n",
    "print(o)"
   ]
  }
 ],
 "metadata": {
  "kernelspec": {
   "display_name": "Python 3",
   "language": "python",
   "name": "python3"
  },
  "language_info": {
   "codemirror_mode": {
    "name": "ipython",
    "version": 3
   },
   "file_extension": ".py",
   "mimetype": "text/x-python",
   "name": "python",
   "nbconvert_exporter": "python",
   "pygments_lexer": "ipython3",
   "version": "3.8.8"
  }
 },
 "nbformat": 4,
 "nbformat_minor": 5
}
