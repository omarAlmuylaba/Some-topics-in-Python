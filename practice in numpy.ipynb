{
 "cells": [
  {
   "cell_type": "code",
   "execution_count": 1,
   "id": "afb714f3",
   "metadata": {},
   "outputs": [],
   "source": [
    "import numpy as np "
   ]
  },
  {
   "cell_type": "markdown",
   "id": "f0b0cfc1",
   "metadata": {},
   "source": [
    "How to extract items that satisfy a given condition from 1D array?"
   ]
  },
  {
   "cell_type": "code",
   "execution_count": 276,
   "id": "9e633771",
   "metadata": {},
   "outputs": [
    {
     "data": {
      "text/plain": [
       "array([1, 3, 5, 7, 9])"
      ]
     },
     "execution_count": 276,
     "metadata": {},
     "output_type": "execute_result"
    }
   ],
   "source": [
    "arr = np.array([0, 1, 2, 3, 4, 5, 6, 7, 8, 9])\n",
    "arr[arr % 2 == 1]"
   ]
  },
  {
   "cell_type": "markdown",
   "id": "689822b2",
   "metadata": {},
   "source": [
    " How to replace items that satisfy a condition with another value in numpy array?"
   ]
  },
  {
   "cell_type": "code",
   "execution_count": 277,
   "id": "967db4c2",
   "metadata": {},
   "outputs": [
    {
     "data": {
      "text/plain": [
       "array([ 0, 55,  2, 55,  4, 55,  6, 55,  8, 55])"
      ]
     },
     "execution_count": 277,
     "metadata": {},
     "output_type": "execute_result"
    }
   ],
   "source": [
    "arr[arr % 2 == 1] = 55\n",
    "arr"
   ]
  },
  {
   "cell_type": "markdown",
   "id": "987be301",
   "metadata": {},
   "source": [
    "How to replace items that satisfy a condition without affecting the original array?"
   ]
  },
  {
   "cell_type": "code",
   "execution_count": 279,
   "id": "d6bb617d",
   "metadata": {},
   "outputs": [
    {
     "name": "stdout",
     "output_type": "stream",
     "text": [
      "[0 1 2 3 4 5 6 7 8 9]\n"
     ]
    },
    {
     "data": {
      "text/plain": [
       "array([ 0, -1,  2, -1,  4, -1,  6, -1,  8, -1])"
      ]
     },
     "execution_count": 279,
     "metadata": {},
     "output_type": "execute_result"
    }
   ],
   "source": [
    "arr = np.arange(10)\n",
    "out = np.where(arr % 2 == 1, -1, arr)\n",
    "print(arr)\n",
    "out\n",
    "#> [0 1 2 3 4 5 6 7 8 9]\n"
   ]
  },
  {
   "cell_type": "markdown",
   "id": "d4b7d538",
   "metadata": {},
   "source": [
    "Convert a 1D array to a 2D array with 2 rows"
   ]
  },
  {
   "cell_type": "code",
   "execution_count": 280,
   "id": "7c1245c0",
   "metadata": {},
   "outputs": [
    {
     "data": {
      "text/plain": [
       "array([[0, 1, 2, 3, 4],\n",
       "       [5, 6, 7, 8, 9]])"
      ]
     },
     "execution_count": 280,
     "metadata": {},
     "output_type": "execute_result"
    }
   ],
   "source": [
    "arr = np.arange(10)\n",
    "arr.reshape(2, -1)"
   ]
  },
  {
   "cell_type": "markdown",
   "id": "6d6bf3b9",
   "metadata": {},
   "source": [
    "How to get the positions where elements of two arrays match?"
   ]
  },
  {
   "cell_type": "code",
   "execution_count": 281,
   "id": "0a6b733d",
   "metadata": {},
   "outputs": [
    {
     "data": {
      "text/plain": [
       "(array([1, 3, 5, 7], dtype=int64),)"
      ]
     },
     "execution_count": 281,
     "metadata": {},
     "output_type": "execute_result"
    }
   ],
   "source": [
    "a = np.array([1,2,3,2,3,4,3,4,5,6])\n",
    "b = np.array([7,2,10,2,7,4,9,4,9,8])\n",
    "\n",
    "np.where(a == b)"
   ]
  },
  {
   "cell_type": "markdown",
   "id": "c7bb1de2",
   "metadata": {},
   "source": [
    " How to extract all numbers between a given range from a numpy array?\n"
   ]
  },
  {
   "cell_type": "code",
   "execution_count": 282,
   "id": "28388c75",
   "metadata": {},
   "outputs": [
    {
     "data": {
      "text/plain": [
       "array([ 5,  6,  7,  8,  9, 10])"
      ]
     },
     "execution_count": 282,
     "metadata": {},
     "output_type": "execute_result"
    }
   ],
   "source": [
    "a = np.arange(15)\n",
    "index = np.where((a >= 5) & (a <= 10))\n",
    "a[index]"
   ]
  },
  {
   "cell_type": "markdown",
   "id": "e9e36c86",
   "metadata": {},
   "source": [
    "How to reverse the rows of a 2D array?"
   ]
  },
  {
   "cell_type": "code",
   "execution_count": 295,
   "id": "df87ef6b",
   "metadata": {},
   "outputs": [
    {
     "data": {
      "text/plain": [
       "array([[6, 7, 8],\n",
       "       [3, 4, 5],\n",
       "       [0, 1, 2]])"
      ]
     },
     "execution_count": 295,
     "metadata": {},
     "output_type": "execute_result"
    }
   ],
   "source": [
    "arr = np.arange(9).reshape(3,3)\n",
    "arr[::-1]"
   ]
  },
  {
   "cell_type": "markdown",
   "id": "24ee78b2",
   "metadata": {},
   "source": [
    "How to reverse the columns of a 2D array"
   ]
  },
  {
   "cell_type": "code",
   "execution_count": null,
   "id": "bb4094cd",
   "metadata": {},
   "outputs": [],
   "source": [
    "arr = np.arange(9).reshape(3,3)\n",
    "arr[:, ::-1]"
   ]
  },
  {
   "cell_type": "markdown",
   "id": "c0362544",
   "metadata": {},
   "source": [
    "How to filter a numpy array based on two or more conditions?"
   ]
  },
  {
   "cell_type": "code",
   "execution_count": 306,
   "id": "4f2556b7",
   "metadata": {},
   "outputs": [
    {
     "data": {
      "text/plain": [
       "array([[5.1, 3.5, 1.4, 0.2],\n",
       "       [4.9, 3. , 1.4, 0.2],\n",
       "       [4.7, 3.2, 1.3, 0.2],\n",
       "       ...,\n",
       "       [6.5, 3. , 5.2, 2. ],\n",
       "       [6.2, 3.4, 5.4, 2.3],\n",
       "       [5.9, 3. , 5.1, 1.8]])"
      ]
     },
     "execution_count": 306,
     "metadata": {},
     "output_type": "execute_result"
    }
   ],
   "source": [
    "url = 'https://archive.ics.uci.edu/ml/machine-learning-databases/iris/iris.data'\n",
    "iris_2d = np.genfromtxt(url, delimiter=',', dtype='float', usecols=[0,1,2,3])\n",
    "\n",
    "# Solution\n",
    "condition = (iris_2d[:, 0] > 1) & (iris_2d[:, 3] < 8.0)\n",
    "iris_2d[condition]"
   ]
  },
  {
   "cell_type": "code",
   "execution_count": null,
   "id": "f80514cb",
   "metadata": {},
   "outputs": [],
   "source": [
    "How to drop rows that contain a missing value from a numpy array?\n",
    "any_nan_in_row = np.array([~np.any(np.isnan(row)) for row in iris_2d])\n",
    "iris_2d[any_nan_in_row][:5]"
   ]
  },
  {
   "cell_type": "code",
   "execution_count": null,
   "id": "3e0579ca",
   "metadata": {},
   "outputs": [],
   "source": [
    "How to find the correlation between two columns of a numpy array?\n",
    "np.corrcoef(iris[:, 0], iris[:, 2])[0, 1]"
   ]
  },
  {
   "cell_type": "markdown",
   "id": "aa1a0d6b",
   "metadata": {},
   "source": [
    " How to find if a given array has any null values?"
   ]
  },
  {
   "cell_type": "code",
   "execution_count": null,
   "id": "972cbf4c",
   "metadata": {},
   "outputs": [],
   "source": [
    "np.isnan(iris_2d).any()"
   ]
  },
  {
   "cell_type": "markdown",
   "id": "d7f98488",
   "metadata": {},
   "source": [
    "How to replace all missing values with 0 in a numpy array?"
   ]
  },
  {
   "cell_type": "code",
   "execution_count": null,
   "id": "f3869d2f",
   "metadata": {},
   "outputs": [],
   "source": [
    "iris_2d[np.isnan(iris_2d)] = 0\n",
    "iris_2d[:4]"
   ]
  },
  {
   "cell_type": "markdown",
   "id": "da769663",
   "metadata": {},
   "source": [
    "How to find the count of unique values in a numpy array?"
   ]
  },
  {
   "cell_type": "code",
   "execution_count": null,
   "id": "0152ebee",
   "metadata": {},
   "outputs": [],
   "source": [
    "species = np.array([row.tolist()[4] for row in iris])\n",
    "np.unique(species, return_counts=True)"
   ]
  },
  {
   "cell_type": "markdown",
   "id": "e4bd9a73",
   "metadata": {},
   "source": [
    ". How to convert a numeric to a categorical (text) array?"
   ]
  },
  {
   "cell_type": "code",
   "execution_count": null,
   "id": "7bef6c38",
   "metadata": {},
   "outputs": [],
   "source": [
    "# Bin petallength \n",
    "petal_length_bin = np.digitize(iris[:, 2].astype('float'), [0, 3, 5, 10])\n",
    "\n",
    "# Map it to respective category\n",
    "label_map = {1: 'small', 2: 'medium', 3: 'large', 4: np.nan}\n",
    "petal_length_cat = [label_map[x] for x in petal_length_bin]\n",
    "\n",
    "# View\n",
    "petal_length_cat[:4]"
   ]
  },
  {
   "cell_type": "code",
   "execution_count": null,
   "id": "43d2fec0",
   "metadata": {},
   "outputs": [],
   "source": [
    "How to create a new column from existing columns of a numpy array?\n",
    "How to get the second largest value of an array when grouped by another array?"
   ]
  },
  {
   "cell_type": "markdown",
   "id": "a3c6c856",
   "metadata": {},
   "source": [
    "How to sort a 2D array by a column"
   ]
  },
  {
   "cell_type": "code",
   "execution_count": null,
   "id": "f4fef823",
   "metadata": {},
   "outputs": [],
   "source": [
    "print(iris[iris[:,0].argsort()][:20])"
   ]
  },
  {
   "cell_type": "markdown",
   "id": "f90d99fe",
   "metadata": {},
   "source": [
    "How to replace all values greater than a given value to a given cutoff?"
   ]
  },
  {
   "cell_type": "code",
   "execution_count": null,
   "id": "83259cf5",
   "metadata": {},
   "outputs": [],
   "source": [
    "np.random.seed(100)\n",
    "a = np.random.uniform(1,50, 20)\n",
    "Show Solution\n",
    "# Input\n",
    "np.set_printoptions(precision=2)\n",
    "np.random.seed(100)\n",
    "a = np.random.uniform(1,50, 20)\n",
    "\n",
    "# Solution 1: Using np.clip\n",
    "np.clip(a, a_min=10, a_max=30)"
   ]
  },
  {
   "cell_type": "markdown",
   "id": "6367aab4",
   "metadata": {},
   "source": [
    " to Reverse  array"
   ]
  },
  {
   "cell_type": "code",
   "execution_count": 3,
   "id": "dc95dfde",
   "metadata": {},
   "outputs": [
    {
     "data": {
      "text/plain": [
       "array([49, 48, 47, 46, 45, 44, 43, 42, 41, 40, 39, 38, 37, 36, 35, 34, 33,\n",
       "       32, 31, 30, 29, 28, 27, 26, 25, 24, 23, 22, 21, 20, 19, 18, 17, 16,\n",
       "       15, 14, 13, 12, 11, 10,  9,  8,  7,  6,  5,  4,  3,  2,  1,  0])"
      ]
     },
     "execution_count": 3,
     "metadata": {},
     "output_type": "execute_result"
    }
   ],
   "source": [
    "ar1 = np.arange(50)\n",
    "ar1 = ar1[::-1]\n",
    "ar1"
   ]
  },
  {
   "cell_type": "markdown",
   "id": "afabd151",
   "metadata": {},
   "source": [
    " Create a 3x3 matrix with values ranging from 0 to "
   ]
  },
  {
   "cell_type": "code",
   "execution_count": 9,
   "id": "81e2b1c6",
   "metadata": {},
   "outputs": [
    {
     "data": {
      "text/plain": [
       "array([[0, 1, 2],\n",
       "       [3, 4, 5],\n",
       "       [6, 7, 8]])"
      ]
     },
     "execution_count": 9,
     "metadata": {},
     "output_type": "execute_result"
    }
   ],
   "source": [
    "ar2 = np.arange(9).reshape(3,3)\n",
    "ar2\n"
   ]
  },
  {
   "cell_type": "markdown",
   "id": "cab5df98",
   "metadata": {},
   "source": [
    "Create a 3x3x3 array with random values"
   ]
  },
  {
   "cell_type": "code",
   "execution_count": 10,
   "id": "b6fda809",
   "metadata": {},
   "outputs": [
    {
     "data": {
      "text/plain": [
       "array([[[0.9467381 , 0.51118865, 0.98654138],\n",
       "        [0.94295472, 0.23862925, 0.88341447],\n",
       "        [0.73411918, 0.78988594, 0.54908585]],\n",
       "\n",
       "       [[0.5619031 , 0.99756665, 0.03225589],\n",
       "        [0.52397491, 0.27110882, 0.87430761],\n",
       "        [0.86469595, 0.46581396, 0.08577647]],\n",
       "\n",
       "       [[0.16282267, 0.32923265, 0.37249457],\n",
       "        [0.65974628, 0.71578379, 0.54477029],\n",
       "        [0.05005175, 0.35284725, 0.35868202]]])"
      ]
     },
     "execution_count": 10,
     "metadata": {},
     "output_type": "execute_result"
    }
   ],
   "source": [
    "ar3 = np.random.random((3,3,3))\n",
    "ar3"
   ]
  },
  {
   "cell_type": "markdown",
   "id": "aa6f78a1",
   "metadata": {},
   "source": [
    " Create a 3x3 array with intger values and find the minimum and maximum values "
   ]
  },
  {
   "cell_type": "code",
   "execution_count": 37,
   "id": "7fe0bda6",
   "metadata": {},
   "outputs": [
    {
     "name": "stdout",
     "output_type": "stream",
     "text": [
      "94 5 55.666666666666664\n"
     ]
    }
   ],
   "source": [
    "ar4 = np.random.randint(100,size=(3,3))\n",
    "arMaX ,arMIN ,arMEAN  = ar4.max() , ar4.min(),ar4.mean()\n",
    "print(arMaX,arMIN,arMEAN)"
   ]
  },
  {
   "cell_type": "markdown",
   "id": "45ac20cf",
   "metadata": {},
   "source": [
    " Create a 5x5 matrix with values 1,2,3,4 just below the diagonal "
   ]
  },
  {
   "cell_type": "code",
   "execution_count": 49,
   "id": "e4e3c709",
   "metadata": {},
   "outputs": [
    {
     "data": {
      "text/plain": [
       "array([[1, 0, 0, 0],\n",
       "       [0, 2, 0, 0],\n",
       "       [0, 0, 3, 0],\n",
       "       [0, 0, 0, 4]])"
      ]
     },
     "execution_count": 49,
     "metadata": {},
     "output_type": "execute_result"
    }
   ],
   "source": [
    "ar5 = np.diag(1+np.arange(4))\n",
    "ar5"
   ]
  },
  {
   "cell_type": "markdown",
   "id": "42034076",
   "metadata": {},
   "source": [
    "Consider a (6,7,8) shape array, what is the index (x,y,z) of the 100th element?"
   ]
  },
  {
   "cell_type": "code",
   "execution_count": 59,
   "id": "a696e59b",
   "metadata": {},
   "outputs": [
    {
     "name": "stdout",
     "output_type": "stream",
     "text": [
      "(5, 5, 0)\n"
     ]
    }
   ],
   "source": [
    "ar6 = np.array([1,2,3,4,5,6,7,8,9,10])\n",
    "print(np.unravel_index(1000,(6,9,20)))"
   ]
  },
  {
   "cell_type": "markdown",
   "id": "4f8b96a4",
   "metadata": {},
   "source": [
    " Normalize a 5x5 random matrix"
   ]
  },
  {
   "cell_type": "markdown",
   "id": "f05b611a",
   "metadata": {},
   "source": [
    " Normalize a 5x5 random or int matrix"
   ]
  },
  {
   "cell_type": "code",
   "execution_count": 88,
   "id": "68f6a060",
   "metadata": {},
   "outputs": [
    {
     "name": "stdout",
     "output_type": "stream",
     "text": [
      "[[-0.26383836  0.44077811 -1.20752389 -0.6554677   1.43704867]\n",
      " [ 0.74109492 -1.8765156  -1.73383988  0.4797526   0.8334334 ]\n",
      " [-0.38584422 -1.87061053  1.58571135 -0.10646313 -0.07284303]\n",
      " [ 1.25211296 -0.15950149  0.40440733 -0.95223449 -0.13255188]\n",
      " [ 0.38175876 -0.07555129  1.67088994 -0.55369333  0.81949075]]\n"
     ]
    }
   ],
   "source": [
    "ar7 = np.random.random((5,5))\n",
    "ar7 = (ar7 - np.mean (ar7)) / (np.std (ar7))\n",
    "print(ar7)"
   ]
  },
  {
   "cell_type": "markdown",
   "id": "f97bdaef",
   "metadata": {},
   "source": [
    "Given a 1D array, negate all elements which are between 3 and 8, in place"
   ]
  },
  {
   "cell_type": "code",
   "execution_count": 98,
   "id": "afaff1f6",
   "metadata": {},
   "outputs": [
    {
     "data": {
      "text/plain": [
       "array([  0,   1,   2,   3,   4,  -5,  -6,  -7,  -8,  -9, -10])"
      ]
     },
     "execution_count": 98,
     "metadata": {},
     "output_type": "execute_result"
    }
   ],
   "source": [
    "ar8 = np.arange(11)\n",
    "#ar8[(ar8)]*=-1 all the elements as negative\n",
    "ar8[(ar8>= 5)]*=-1\n",
    "ar8"
   ]
  },
  {
   "cell_type": "markdown",
   "id": "3fb3d43f",
   "metadata": {},
   "source": [
    ". How to find common values between two arrays?"
   ]
  },
  {
   "cell_type": "code",
   "execution_count": 99,
   "id": "d287b39e",
   "metadata": {},
   "outputs": [
    {
     "name": "stdout",
     "output_type": "stream",
     "text": [
      "[ 1  5 10]\n"
     ]
    }
   ],
   "source": [
    "ar9  = np.array([1,2,3,4,5,6,7,8,9,10])\n",
    "ar10 = np.array([1,0,5,11,22,55,66,10])\n",
    "print(np.intersect1d(ar9,ar10))"
   ]
  },
  {
   "cell_type": "code",
   "execution_count": 133,
   "id": "253cf043",
   "metadata": {},
   "outputs": [
    {
     "name": "stdout",
     "output_type": "stream",
     "text": [
      "[0 1 7]\n"
     ]
    }
   ],
   "source": [
    "ar9  = np.random.randint(0,10,10)\n",
    "ar10 = np.random.randint(0,10,10)\n",
    "print(np.intersect1d(ar9,ar10))"
   ]
  },
  {
   "cell_type": "markdown",
   "id": "9d643008",
   "metadata": {},
   "source": [
    "How to get the dates of yesterday, today and tomorrow?"
   ]
  },
  {
   "cell_type": "code",
   "execution_count": 134,
   "id": "e2190ab1",
   "metadata": {},
   "outputs": [],
   "source": [
    "yesterday = np.datetime64('today', 'D') - np.timedelta64(1, 'D')\n",
    "today     = np.datetime64('today', 'D')\n",
    "tomorrow  = np.datetime64('today', 'D') + np.timedelta64(1, 'D')"
   ]
  },
  {
   "cell_type": "code",
   "execution_count": null,
   "id": "f8f41ec9",
   "metadata": {},
   "outputs": [],
   "source": []
  },
  {
   "cell_type": "markdown",
   "id": "9b09c9f8",
   "metadata": {},
   "source": [
    " How to get all the dates corresponding to the month of July 2016?"
   ]
  },
  {
   "cell_type": "code",
   "execution_count": null,
   "id": "47b0b637",
   "metadata": {},
   "outputs": [],
   "source": [
    "Z = np.arange('2021-07', '2022-08', dtype='datetime64[D]')\n",
    "print(Z)"
   ]
  },
  {
   "cell_type": "markdown",
   "id": "e580adc4",
   "metadata": {},
   "source": [
    "Consider a generator function that generates 10 integers and use it to build an array"
   ]
  },
  {
   "cell_type": "code",
   "execution_count": 164,
   "id": "27ae111d",
   "metadata": {},
   "outputs": [
    {
     "name": "stdout",
     "output_type": "stream",
     "text": [
      "[0 1 2 3 4 5 6 7 8 9]\n"
     ]
    }
   ],
   "source": [
    "def generate():\n",
    "    for x in range(10):\n",
    "        yield x\n",
    "Z = np.fromiter(generate(),dtype=int,count=-1)\n",
    "print(Z)"
   ]
  },
  {
   "cell_type": "markdown",
   "id": "4eff4939",
   "metadata": {},
   "source": [
    "Create a random vector of size 10 and sort it"
   ]
  },
  {
   "cell_type": "code",
   "execution_count": 188,
   "id": "25c4bd39",
   "metadata": {},
   "outputs": [
    {
     "name": "stdout",
     "output_type": "stream",
     "text": [
      "[0.25651616 0.26391919 0.31016086 0.37724884 0.43115656 0.55368884\n",
      " 0.58008441 0.74192477 0.91758    0.96162215]\n"
     ]
    }
   ],
   "source": [
    "ar11 = np.random.random(10)\n",
    "ar11.sort()\n",
    "print(ar11)"
   ]
  },
  {
   "cell_type": "markdown",
   "id": "04afc6ad",
   "metadata": {},
   "source": [
    "How to sum a small array faster than np.sum"
   ]
  },
  {
   "cell_type": "code",
   "execution_count": 189,
   "id": "f5f8df27",
   "metadata": {},
   "outputs": [
    {
     "data": {
      "text/plain": [
       "15"
      ]
     },
     "execution_count": 189,
     "metadata": {},
     "output_type": "execute_result"
    }
   ],
   "source": [
    "#arr12 = np.arange(5)\n",
    "ar12 = np.array([1,2,3,4,5])\n",
    "\n",
    "np.add.reduce(ar12)"
   ]
  },
  {
   "cell_type": "markdown",
   "id": "adbed310",
   "metadata": {},
   "source": [
    "Consider two random array A and B, check if they are equal"
   ]
  },
  {
   "cell_type": "code",
   "execution_count": 191,
   "id": "59e1c137",
   "metadata": {},
   "outputs": [
    {
     "data": {
      "text/plain": [
       "False"
      ]
     },
     "execution_count": 191,
     "metadata": {},
     "output_type": "execute_result"
    }
   ],
   "source": [
    "eq_ar = np.allclose(ar9,ar10)\n",
    "eq_ar"
   ]
  },
  {
   "cell_type": "code",
   "execution_count": 192,
   "id": "39e6e8d8",
   "metadata": {},
   "outputs": [
    {
     "data": {
      "text/plain": [
       "False"
      ]
     },
     "execution_count": 192,
     "metadata": {},
     "output_type": "execute_result"
    }
   ],
   "source": [
    "#لتحقق من كل من قيم الشكل والعنصر ، لا تسامح (يجب أن تكون القيم متساوية تمامًا\n",
    "equal = np.array_equal(ar9,ar10)\n",
    "equal"
   ]
  },
  {
   "cell_type": "markdown",
   "id": "58e617f8",
   "metadata": {},
   "source": [
    "create random vector of size 10 and replace the maximum value by"
   ]
  },
  {
   "cell_type": "code",
   "execution_count": 196,
   "id": "ccbd1afe",
   "metadata": {},
   "outputs": [
    {
     "name": "stdout",
     "output_type": "stream",
     "text": [
      "[0.13901447 0.02139559 0.6445592  0.30950849 0.74862748 0.\n",
      " 0.55078976 0.77971033 0.50160202 0.20302078]\n"
     ]
    }
   ],
   "source": [
    "ar13 = np.random.random(10)\n",
    "ar13[ar13.argmax()] = 0\n",
    "print(ar13)"
   ]
  },
  {
   "cell_type": "markdown",
   "id": "91dd8b0f",
   "metadata": {},
   "source": [
    "How to find the closest value (to a given scalar) in a vector"
   ]
  },
  {
   "cell_type": "code",
   "execution_count": 208,
   "id": "5b8240d4",
   "metadata": {},
   "outputs": [
    {
     "name": "stdout",
     "output_type": "stream",
     "text": [
      "9\n"
     ]
    }
   ],
   "source": [
    "Z = np.arange(100)\n",
    "v = np.random.uniform(0,100)\n",
    "index = (np.abs(Z-v)).argmin()\n",
    "print(Z[index])"
   ]
  },
  {
   "cell_type": "markdown",
   "id": "516b98f0",
   "metadata": {},
   "source": [
    "How to convert a float (32 bits) array into an integer (32 bits) in place"
   ]
  },
  {
   "cell_type": "code",
   "execution_count": 209,
   "id": "91662530",
   "metadata": {},
   "outputs": [
    {
     "name": "stdout",
     "output_type": "stream",
     "text": [
      "[0 1 2 3 4 5 6 7 8 9]\n"
     ]
    }
   ],
   "source": [
    "Z = np.arange(10, dtype=np.float32)\n",
    "Z = Z.astype(np.int32, copy=False)\n",
    "print(Z)"
   ]
  },
  {
   "cell_type": "markdown",
   "id": "865ef2b0",
   "metadata": {},
   "source": [
    " What is the equivalent of enumerate for numpy arrays?"
   ]
  },
  {
   "cell_type": "code",
   "execution_count": 215,
   "id": "ac58ae1a",
   "metadata": {},
   "outputs": [
    {
     "name": "stdout",
     "output_type": "stream",
     "text": [
      "(0, 0) 0\n",
      "(0, 1) 1\n",
      "(1, 0) 2\n",
      "(1, 1) 3\n",
      "(0, 0) 0\n",
      "(0, 1) 1\n",
      "(1, 0) 2\n",
      "(1, 1) 3\n"
     ]
    }
   ],
   "source": [
    "Z = np.arange(4).reshape(2,2)\n",
    "for index, value in np.ndenumerate(Z):\n",
    "    print(index, value)\n",
    "for index in np.ndindex(Z.shape):\n",
    "    print(index, Z[index])"
   ]
  },
  {
   "cell_type": "markdown",
   "id": "75fad648",
   "metadata": {},
   "source": [
    "Subtract the mean of each row of a matrix"
   ]
  },
  {
   "cell_type": "code",
   "execution_count": 222,
   "id": "3841d37d",
   "metadata": {},
   "outputs": [
    {
     "name": "stdout",
     "output_type": "stream",
     "text": [
      "[[ 0.14282905 -0.14282905]\n",
      " [ 0.01215471 -0.01215471]\n",
      " [ 0.12310647 -0.12310647]\n",
      " [-0.2313569   0.2313569 ]\n",
      " [-0.02943617  0.02943617]]\n"
     ]
    }
   ],
   "source": [
    "\n",
    "X = np.random.rand(5, 2)\n",
    "\n",
    "# Recent versions of numpy\n",
    "Y = X - X.mean(axis=1, keepdims=True)\n",
    "\n",
    "# Older versions of numpy\n",
    "Y = X - X.mean(axis=1).reshape(-1, 1)\n",
    "print(Y)\n"
   ]
  },
  {
   "cell_type": "markdown",
   "id": "36152678",
   "metadata": {},
   "source": [
    "How to find the most frequent value in an array"
   ]
  },
  {
   "cell_type": "code",
   "execution_count": null,
   "id": "1d1486ab",
   "metadata": {},
   "outputs": [],
   "source": [
    "Z = np.random.randint(0,10,50)\n",
    "print(np.bincount(Z).argmax())"
   ]
  },
  {
   "cell_type": "code",
   "execution_count": 241,
   "id": "c3118150",
   "metadata": {},
   "outputs": [],
   "source": [
    "ar14 = np.array([10,5,4,20,4,9,105,36,6,8,12])"
   ]
  },
  {
   "cell_type": "code",
   "execution_count": 246,
   "id": "7e8b0efc",
   "metadata": {},
   "outputs": [],
   "source": [
    "Z =ar14\n",
    "np.random.shuffle(Z)\n",
    "n = 3"
   ]
  },
  {
   "cell_type": "code",
   "execution_count": 249,
   "id": "535bc93e",
   "metadata": {},
   "outputs": [
    {
     "name": "stdout",
     "output_type": "stream",
     "text": [
      "[ 20  36 105]\n"
     ]
    }
   ],
   "source": [
    "print(Z[np.argsort(Z)[-n:]])\n",
    "\n"
   ]
  },
  {
   "cell_type": "code",
   "execution_count": null,
   "id": "7f3524de",
   "metadata": {},
   "outputs": [],
   "source": []
  },
  {
   "cell_type": "code",
   "execution_count": null,
   "id": "481fb93b",
   "metadata": {},
   "outputs": [],
   "source": []
  },
  {
   "cell_type": "code",
   "execution_count": null,
   "id": "55df9b4b",
   "metadata": {},
   "outputs": [],
   "source": []
  },
  {
   "cell_type": "code",
   "execution_count": null,
   "id": "166a0cb3",
   "metadata": {},
   "outputs": [],
   "source": []
  },
  {
   "cell_type": "code",
   "execution_count": null,
   "id": "2d438308",
   "metadata": {},
   "outputs": [],
   "source": []
  }
 ],
 "metadata": {
  "kernelspec": {
   "display_name": "Python 3",
   "language": "python",
   "name": "python3"
  },
  "language_info": {
   "codemirror_mode": {
    "name": "ipython",
    "version": 3
   },
   "file_extension": ".py",
   "mimetype": "text/x-python",
   "name": "python",
   "nbconvert_exporter": "python",
   "pygments_lexer": "ipython3",
   "version": "3.8.8"
  }
 },
 "nbformat": 4,
 "nbformat_minor": 5
}
