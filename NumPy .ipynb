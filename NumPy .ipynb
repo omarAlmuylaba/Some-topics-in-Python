{
 "cells": [
  {
   "cell_type": "code",
   "execution_count": 1,
   "id": "d1ee8180",
   "metadata": {},
   "outputs": [],
   "source": [
    "import numpy as np"
   ]
  },
  {
   "cell_type": "code",
   "execution_count": 3,
   "id": "9c964228",
   "metadata": {},
   "outputs": [
    {
     "name": "stdout",
     "output_type": "stream",
     "text": [
      "1.20.1\n"
     ]
    }
   ],
   "source": [
    "print(np.__version__)"
   ]
  },
  {
   "cell_type": "markdown",
   "id": "2b2e57c1",
   "metadata": {},
   "source": [
    "### dimension"
   ]
  },
  {
   "cell_type": "code",
   "execution_count": 96,
   "id": "f1f6e109",
   "metadata": {},
   "outputs": [],
   "source": [
    "import numpy as np "
   ]
  },
  {
   "cell_type": "code",
   "execution_count": 97,
   "id": "24a223de",
   "metadata": {},
   "outputs": [],
   "source": [
    "arr = np.array([1,2,3])"
   ]
  },
  {
   "cell_type": "code",
   "execution_count": 98,
   "id": "9a27bc88",
   "metadata": {},
   "outputs": [
    {
     "name": "stdout",
     "output_type": "stream",
     "text": [
      "<class 'numpy.ndarray'>\n",
      "<class 'numpy.ndarray'>\n"
     ]
    }
   ],
   "source": [
    "print(type(arr))\n",
    "print(type(arr))"
   ]
  },
  {
   "cell_type": "code",
   "execution_count": 99,
   "id": "b6733961",
   "metadata": {},
   "outputs": [
    {
     "data": {
      "text/plain": [
       "numpy.ndarray"
      ]
     },
     "execution_count": 99,
     "metadata": {},
     "output_type": "execute_result"
    }
   ],
   "source": [
    "type(arr)\n",
    "type(arr)"
   ]
  },
  {
   "cell_type": "code",
   "execution_count": 10,
   "id": "25aac71f",
   "metadata": {},
   "outputs": [
    {
     "name": "stdout",
     "output_type": "stream",
     "text": [
      "0\n"
     ]
    }
   ],
   "source": [
    "a = np.array(12)\n",
    "print(a.ndim)"
   ]
  },
  {
   "cell_type": "code",
   "execution_count": 11,
   "id": "3934ccec",
   "metadata": {},
   "outputs": [
    {
     "name": "stdout",
     "output_type": "stream",
     "text": [
      "1\n"
     ]
    }
   ],
   "source": [
    "a = np.array([12])\n",
    "print(a.ndim)"
   ]
  },
  {
   "cell_type": "code",
   "execution_count": 15,
   "id": "1e5dffc7",
   "metadata": {},
   "outputs": [
    {
     "name": "stdout",
     "output_type": "stream",
     "text": [
      "2\n"
     ]
    }
   ],
   "source": [
    "a = np.array([[1,2,3],[4,5,6]])\n",
    "print(a.ndim)"
   ]
  },
  {
   "cell_type": "code",
   "execution_count": 100,
   "id": "7c8a44a7",
   "metadata": {},
   "outputs": [
    {
     "name": "stdout",
     "output_type": "stream",
     "text": [
      "3\n",
      "3\n"
     ]
    }
   ],
   "source": [
    "a = np.array([[[1],[2],[3]]])\n",
    "print(a.ndim)\n",
    "s = np.array([[[1,2,3],[4,5,6]]])\n",
    "print(s.ndim)"
   ]
  },
  {
   "cell_type": "code",
   "execution_count": 18,
   "id": "5073e111",
   "metadata": {},
   "outputs": [
    {
     "name": "stdout",
     "output_type": "stream",
     "text": [
      "4\n"
     ]
    }
   ],
   "source": [
    "a = np.array([[[[1],[2],[3]]]])\n",
    "print(a.ndim)"
   ]
  },
  {
   "cell_type": "code",
   "execution_count": 27,
   "id": "08727946",
   "metadata": {},
   "outputs": [
    {
     "name": "stdout",
     "output_type": "stream",
     "text": [
      "4\n",
      "[[[[1 5 6]]]]\n"
     ]
    }
   ],
   "source": [
    "a = np.array([1,5,6],ndmin=4)\n",
    "print(a.ndim)\n",
    "print(a)"
   ]
  },
  {
   "cell_type": "markdown",
   "id": "5ce9fb9e",
   "metadata": {},
   "source": [
    "# *shape*"
   ]
  },
  {
   "cell_type": "code",
   "execution_count": 101,
   "id": "c2b17868",
   "metadata": {},
   "outputs": [
    {
     "name": "stdout",
     "output_type": "stream",
     "text": [
      "(2, 3)\n"
     ]
    },
    {
     "data": {
      "text/plain": [
       "(1, 4)"
      ]
     },
     "execution_count": 101,
     "metadata": {},
     "output_type": "execute_result"
    }
   ],
   "source": [
    "b = np.array([[1,2,3] , [5,6,7]])\n",
    "print(b.shape)\n",
    "#(colums,rows)#\n",
    "t = np.array([[1,2,3,4]])\n",
    "t.shape"
   ]
  },
  {
   "cell_type": "markdown",
   "id": "8feb681c",
   "metadata": {},
   "source": [
    "# change the chape"
   ]
  },
  {
   "cell_type": "code",
   "execution_count": 5,
   "id": "eda53e18",
   "metadata": {},
   "outputs": [],
   "source": [
    "v = np.array([[1,2,3] , [1,2,3]])\n",
    "v.shape = (3,2)"
   ]
  },
  {
   "cell_type": "code",
   "execution_count": 104,
   "id": "cf28cefb",
   "metadata": {},
   "outputs": [
    {
     "data": {
      "text/plain": [
       "array([[1, 2, 3, 4]])"
      ]
     },
     "execution_count": 104,
     "metadata": {},
     "output_type": "execute_result"
    }
   ],
   "source": [
    "b = np.array([[1,2,3,4]])\n",
    "b"
   ]
  },
  {
   "cell_type": "code",
   "execution_count": 109,
   "id": "8179ce63",
   "metadata": {},
   "outputs": [
    {
     "data": {
      "text/plain": [
       "array([[1],\n",
       "       [2],\n",
       "       [3],\n",
       "       [4]])"
      ]
     },
     "execution_count": 109,
     "metadata": {},
     "output_type": "execute_result"
    }
   ],
   "source": [
    "b.shape = (4,1)\n",
    "b"
   ]
  },
  {
   "cell_type": "code",
   "execution_count": 7,
   "id": "249598ab",
   "metadata": {},
   "outputs": [
    {
     "name": "stdout",
     "output_type": "stream",
     "text": [
      "[[1 2]\n",
      " [3 1]\n",
      " [2 3]]\n"
     ]
    }
   ],
   "source": [
    "print(v)"
   ]
  },
  {
   "cell_type": "code",
   "execution_count": 20,
   "id": "811b4003",
   "metadata": {},
   "outputs": [
    {
     "data": {
      "text/plain": [
       "3"
      ]
     },
     "execution_count": 20,
     "metadata": {},
     "output_type": "execute_result"
    }
   ],
   "source": [
    "a = np.array([[1,2,3,4],[4,5,6,6],[7,8,9,9],[10,11,12,12]])\n",
    "b = a.reshape(2,2,4)\n",
    "b.ndim\n",
    "#وش الترتيب حق الري شيب#"
   ]
  },
  {
   "cell_type": "code",
   "execution_count": 15,
   "id": "a06a7c8c",
   "metadata": {},
   "outputs": [
    {
     "name": "stdout",
     "output_type": "stream",
     "text": [
      "[[[ 1  2  3  4]\n",
      "  [ 4  5  6  6]]\n",
      "\n",
      " [[ 7  8  9  9]\n",
      "  [10 11 12 12]]]\n"
     ]
    }
   ],
   "source": [
    "print(b)"
   ]
  },
  {
   "cell_type": "code",
   "execution_count": null,
   "id": "fb948c3e",
   "metadata": {},
   "outputs": [],
   "source": [
    "g = np.array([[1,2,3,4,5,7],[8,9,10,11,12,13,14]])\n",
    "h = g.reshape(2,2,5)\n",
    "print(h)"
   ]
  },
  {
   "cell_type": "code",
   "execution_count": 14,
   "id": "8167982a",
   "metadata": {},
   "outputs": [
    {
     "name": "stdout",
     "output_type": "stream",
     "text": [
      "[ 1  2  3  4  5  6  7  8  9 10 11 12]\n"
     ]
    },
    {
     "data": {
      "text/plain": [
       "1"
      ]
     },
     "execution_count": 14,
     "metadata": {},
     "output_type": "execute_result"
    }
   ],
   "source": [
    "arr = b.reshape(-1)\n",
    "print(arr)\n",
    "arr.ndim\n",
    "#بكذا  حولنا من مصفوفة ثلاثة ابعاد الى بعد واحد #"
   ]
  },
  {
   "cell_type": "code",
   "execution_count": 125,
   "id": "a21d27b4",
   "metadata": {},
   "outputs": [
    {
     "data": {
      "text/plain": [
       "4"
      ]
     },
     "execution_count": 125,
     "metadata": {},
     "output_type": "execute_result"
    }
   ],
   "source": [
    "a = np.array([[1,2,3],[4,5,6],[7,8,9],[10,11,12]],ndmin=4)\n",
    "a.ndim"
   ]
  },
  {
   "cell_type": "code",
   "execution_count": 126,
   "id": "cd1e2d58",
   "metadata": {},
   "outputs": [
    {
     "name": "stdout",
     "output_type": "stream",
     "text": [
      "[ 1  2  3  4  5  6  7  8  9 10 11 12]\n"
     ]
    },
    {
     "data": {
      "text/plain": [
       "1"
      ]
     },
     "execution_count": 126,
     "metadata": {},
     "output_type": "execute_result"
    }
   ],
   "source": [
    "ar = a.reshape(-1)\n",
    "print(ar)\n",
    "ar.ndim"
   ]
  },
  {
   "cell_type": "markdown",
   "id": "9049522b",
   "metadata": {},
   "source": [
    "# *size*"
   ]
  },
  {
   "cell_type": "code",
   "execution_count": 16,
   "id": "1eab7964",
   "metadata": {},
   "outputs": [
    {
     "name": "stdout",
     "output_type": "stream",
     "text": [
      "int32\n"
     ]
    }
   ],
   "source": [
    "arr = np.array([1,2,3,4,5])\n",
    "print(arr.dtype)"
   ]
  },
  {
   "cell_type": "code",
   "execution_count": 131,
   "id": "b78455a4",
   "metadata": {},
   "outputs": [
    {
     "name": "stdout",
     "output_type": "stream",
     "text": [
      "<class 'numpy.ndarray'>\n",
      "int32\n"
     ]
    }
   ],
   "source": [
    "print(type(arr))\n",
    "print(arr.dtype)"
   ]
  },
  {
   "cell_type": "code",
   "execution_count": 23,
   "id": "fc3f3901",
   "metadata": {},
   "outputs": [
    {
     "data": {
      "text/plain": [
       "2"
      ]
     },
     "execution_count": 23,
     "metadata": {},
     "output_type": "execute_result"
    }
   ],
   "source": [
    "arr.itemsize\n",
    "#حجم كل رقم , مثلا لتقليل حجم البيانات اذ كانت عملاقة#"
   ]
  },
  {
   "cell_type": "code",
   "execution_count": 132,
   "id": "869fc5f5",
   "metadata": {},
   "outputs": [
    {
     "data": {
      "text/plain": [
       "3"
      ]
     },
     "execution_count": 132,
     "metadata": {},
     "output_type": "execute_result"
    }
   ],
   "source": [
    "arr.size"
   ]
  },
  {
   "cell_type": "code",
   "execution_count": 18,
   "id": "e6b5464b",
   "metadata": {},
   "outputs": [
    {
     "name": "stdout",
     "output_type": "stream",
     "text": [
      "int16\n"
     ]
    }
   ],
   "source": [
    "arr = np.array([1,2,3,4,5], dtype = 'int16')\n",
    "print(arr.dtype)"
   ]
  },
  {
   "cell_type": "code",
   "execution_count": 19,
   "id": "9de5e2ef",
   "metadata": {},
   "outputs": [
    {
     "data": {
      "text/plain": [
       "2"
      ]
     },
     "execution_count": 19,
     "metadata": {},
     "output_type": "execute_result"
    }
   ],
   "source": [
    "arr.itemsize\n",
    "#تقريبا اللى سوينها انه خففنا الحجم حق كل عنصر #"
   ]
  },
  {
   "cell_type": "code",
   "execution_count": 20,
   "id": "c1761246",
   "metadata": {},
   "outputs": [
    {
     "data": {
      "text/plain": [
       "5"
      ]
     },
     "execution_count": 20,
     "metadata": {},
     "output_type": "execute_result"
    }
   ],
   "source": [
    "arr.size\n",
    "#عدد العناصر في المصفوفة#"
   ]
  },
  {
   "cell_type": "code",
   "execution_count": 25,
   "id": "011727b7",
   "metadata": {},
   "outputs": [
    {
     "name": "stdout",
     "output_type": "stream",
     "text": [
      "10\n"
     ]
    }
   ],
   "source": [
    "#لمعرفة الحجم الاجمالي نضرب عدد عناصر المصفوفة في حجم العنصر#\n",
    "print(arr.size * arr.itemsize)"
   ]
  },
  {
   "cell_type": "code",
   "execution_count": 138,
   "id": "e8fdab3b",
   "metadata": {},
   "outputs": [
    {
     "name": "stdout",
     "output_type": "stream",
     "text": [
      "80\n",
      "20\n",
      "4\n"
     ]
    }
   ],
   "source": [
    "srr = np.array([1,2,3,4,5,6,7,8,9,10,11,12,13,14,15,16,17,18,19,20],dtype =int)\n",
    "print(srr.size * srr.itemsize)\n",
    "print(srr.size)\n",
    "print(srr.itemsize)"
   ]
  },
  {
   "cell_type": "code",
   "execution_count": 26,
   "id": "49d5f1a5",
   "metadata": {},
   "outputs": [
    {
     "name": "stdout",
     "output_type": "stream",
     "text": [
      "complex128\n"
     ]
    }
   ],
   "source": [
    "arr = np.array([1,2,3,4,5], dtype =complex)\n",
    "print(arr.dtype)"
   ]
  },
  {
   "cell_type": "code",
   "execution_count": 27,
   "id": "23fe6c29",
   "metadata": {},
   "outputs": [
    {
     "name": "stdout",
     "output_type": "stream",
     "text": [
      "[1.+0.j 2.+0.j 3.+0.j 4.+0.j 5.+0.j]\n"
     ]
    }
   ],
   "source": [
    "print(arr)"
   ]
  },
  {
   "cell_type": "code",
   "execution_count": 29,
   "id": "1daefb68",
   "metadata": {},
   "outputs": [
    {
     "name": "stdout",
     "output_type": "stream",
     "text": [
      "float64\n",
      "[1.1 2.2 3.3]\n"
     ]
    }
   ],
   "source": [
    "arr = np.array([1.1,2.2,3.3,])\n",
    "print(arr.dtype)\n",
    "print(arr)"
   ]
  },
  {
   "cell_type": "code",
   "execution_count": 139,
   "id": "a0b65639",
   "metadata": {},
   "outputs": [
    {
     "name": "stdout",
     "output_type": "stream",
     "text": [
      "[1 2 3]\n"
     ]
    }
   ],
   "source": [
    "h = arr.astype('i')\n",
    "print(h)"
   ]
  },
  {
   "cell_type": "code",
   "execution_count": 31,
   "id": "9d3740d7",
   "metadata": {},
   "outputs": [
    {
     "name": "stdout",
     "output_type": "stream",
     "text": [
      "int32\n",
      "[1 2 3]\n"
     ]
    }
   ],
   "source": [
    "b = arr.astype('i')\n",
    "print(b.dtype)\n",
    "print(b)\n",
    "#كذا نحول نوع البيانات اللي في المصفوفة من عشري الى رقم صحيح ونحذف الاعشار#"
   ]
  },
  {
   "cell_type": "markdown",
   "id": "b1906c6f",
   "metadata": {},
   "source": [
    "# insex and slicing \n",
    "[start,stop,step]"
   ]
  },
  {
   "cell_type": "code",
   "execution_count": 33,
   "id": "697bdecb",
   "metadata": {},
   "outputs": [
    {
     "name": "stdout",
     "output_type": "stream",
     "text": [
      "1\n"
     ]
    }
   ],
   "source": [
    "arr = np.array([1,2,3,4,5])\n",
    "print(arr[0])"
   ]
  },
  {
   "cell_type": "code",
   "execution_count": 141,
   "id": "ffee5df6",
   "metadata": {},
   "outputs": [
    {
     "name": "stdout",
     "output_type": "stream",
     "text": [
      "4 7\n"
     ]
    }
   ],
   "source": [
    "arr = np.array([[1,2,3,4],[5,6,7,8]])\n",
    "print(arr[0,3],arr[1,2])\n"
   ]
  },
  {
   "cell_type": "code",
   "execution_count": 144,
   "id": "caaa7b4b",
   "metadata": {},
   "outputs": [
    {
     "name": "stdout",
     "output_type": "stream",
     "text": [
      "6\n"
     ]
    }
   ],
   "source": [
    "print(arr[1,1])\n",
    "#print(arr[number of any array you wnat,number of index of items])\n"
   ]
  },
  {
   "cell_type": "code",
   "execution_count": 145,
   "id": "20d49ac5",
   "metadata": {},
   "outputs": [
    {
     "name": "stdout",
     "output_type": "stream",
     "text": [
      "3\n",
      "1 11 5 7 8\n"
     ]
    }
   ],
   "source": [
    "arr = np.array([[[1,2,3],[4,5,6]],[[7,8,9],[10,11,12]]])\n",
    "print(arr.ndim)\n",
    "print(arr[0,0,0],arr[1,1,1],arr[0,1,1],arr[1,0,0],arr[1,0,1])"
   ]
  },
  {
   "cell_type": "code",
   "execution_count": 149,
   "id": "70bf3ef0",
   "metadata": {},
   "outputs": [
    {
     "name": "stdout",
     "output_type": "stream",
     "text": [
      "5\n"
     ]
    }
   ],
   "source": [
    "print(arr[0,1,1])\n",
    "#print(arr[dimension,array,items])\n"
   ]
  },
  {
   "cell_type": "code",
   "execution_count": 53,
   "id": "765b132d",
   "metadata": {},
   "outputs": [
    {
     "name": "stdout",
     "output_type": "stream",
     "text": [
      "12\n",
      "4\n",
      "3 the dimension of array\n",
      "48\n",
      "[ 1  2  3  4  5  6  7  8  9 10 11 12]\n",
      "1 the dimension of array\n"
     ]
    }
   ],
   "source": [
    "print(arr.size)\n",
    "print(arr.itemsize)\n",
    "print(arr.ndim,\"the dimension of array\")\n",
    "print(arr.size * arr.itemsize)\n",
    "#odarr = arr.astype(-1) اخطيت هنا  از تايب لتحويل العشري لصحيح مو تعديل الابعاد#\n",
    "odarr = arr.reshape(-1)\n",
    "print(odarr)\n",
    "print(odarr.ndim,\"the dimension of array\")"
   ]
  },
  {
   "cell_type": "code",
   "execution_count": 24,
   "id": "7a85d4b3",
   "metadata": {},
   "outputs": [
    {
     "name": "stdout",
     "output_type": "stream",
     "text": [
      "3 12\n"
     ]
    }
   ],
   "source": [
    "arr = np.array([[[1,2,3],[4,5,6]],[[7,8,9],[10,11,12]]])\n",
    "#print(arr[-1,-1,-1],arr[1,-1,-1])\n",
    "print(arr[0,0,-1],arr[-1,-1,-1])\n",
    "#لازم تطبق كم ياخذ وقت عشان توصل لعنصر بالطريقة العادية وبالسالب على مصفوفة طويلة#"
   ]
  },
  {
   "cell_type": "code",
   "execution_count": 154,
   "id": "40b4c561",
   "metadata": {},
   "outputs": [
    {
     "name": "stdout",
     "output_type": "stream",
     "text": [
      "10\n"
     ]
    }
   ],
   "source": [
    "print(arr[-1,-1,0])"
   ]
  },
  {
   "cell_type": "markdown",
   "id": "6543e6e7",
   "metadata": {},
   "source": [
    "# slicing"
   ]
  },
  {
   "cell_type": "code",
   "execution_count": 68,
   "id": "9d37e559",
   "metadata": {},
   "outputs": [
    {
     "data": {
      "text/plain": [
       "array([2, 3])"
      ]
     },
     "execution_count": 68,
     "metadata": {},
     "output_type": "execute_result"
    }
   ],
   "source": [
    "arr = np.array([1,2,3,4])\n",
    "arr[1:3]"
   ]
  },
  {
   "cell_type": "code",
   "execution_count": 69,
   "id": "57468f64",
   "metadata": {},
   "outputs": [
    {
     "data": {
      "text/plain": [
       "array([1, 2, 3])"
      ]
     },
     "execution_count": 69,
     "metadata": {},
     "output_type": "execute_result"
    }
   ],
   "source": [
    "arr[:3]"
   ]
  },
  {
   "cell_type": "code",
   "execution_count": 70,
   "id": "c24a2bee",
   "metadata": {},
   "outputs": [
    {
     "data": {
      "text/plain": [
       "array([2, 3, 4])"
      ]
     },
     "execution_count": 70,
     "metadata": {},
     "output_type": "execute_result"
    }
   ],
   "source": [
    "arr[1:]"
   ]
  },
  {
   "cell_type": "code",
   "execution_count": 72,
   "id": "ae36c4ce",
   "metadata": {},
   "outputs": [
    {
     "data": {
      "text/plain": [
       "array([1, 2, 3])"
      ]
     },
     "execution_count": 72,
     "metadata": {},
     "output_type": "execute_result"
    }
   ],
   "source": [
    "arr[:-1]"
   ]
  },
  {
   "cell_type": "code",
   "execution_count": 155,
   "id": "541c0061",
   "metadata": {},
   "outputs": [
    {
     "data": {
      "text/plain": [
       "array([2, 3, 4])"
      ]
     },
     "execution_count": 155,
     "metadata": {},
     "output_type": "execute_result"
    }
   ],
   "source": [
    "arr = np.array([[1,2,3,4],[5,6,7,8]])\n",
    "arr[0,1:]"
   ]
  },
  {
   "cell_type": "code",
   "execution_count": 157,
   "id": "751c9dbd",
   "metadata": {},
   "outputs": [
    {
     "data": {
      "text/plain": [
       "array([6, 7, 8])"
      ]
     },
     "execution_count": 157,
     "metadata": {},
     "output_type": "execute_result"
    }
   ],
   "source": [
    "arr[1,1:]"
   ]
  },
  {
   "cell_type": "code",
   "execution_count": 168,
   "id": "040b0126",
   "metadata": {},
   "outputs": [
    {
     "data": {
      "text/plain": [
       "array([4])"
      ]
     },
     "execution_count": 168,
     "metadata": {},
     "output_type": "execute_result"
    }
   ],
   "source": [
    "#ليه ما تجي زي اللي فوق\n",
    "arr[:1,3]"
   ]
  },
  {
   "cell_type": "code",
   "execution_count": 74,
   "id": "7fbb7348",
   "metadata": {},
   "outputs": [
    {
     "data": {
      "text/plain": [
       "6"
      ]
     },
     "execution_count": 74,
     "metadata": {},
     "output_type": "execute_result"
    }
   ],
   "source": [
    "arr[1,1]"
   ]
  },
  {
   "cell_type": "code",
   "execution_count": 169,
   "id": "bcef2068",
   "metadata": {},
   "outputs": [
    {
     "data": {
      "text/plain": [
       "array([5, 6, 7])"
      ]
     },
     "execution_count": 169,
     "metadata": {},
     "output_type": "execute_result"
    }
   ],
   "source": [
    "arr = np.array([[1,2,3,4],[5,6,7,8]])\n",
    "arr[1,0:3:1]"
   ]
  },
  {
   "cell_type": "code",
   "execution_count": 176,
   "id": "819a5fa9",
   "metadata": {},
   "outputs": [
    {
     "data": {
      "text/plain": [
       "array([5, 8, 8])"
      ]
     },
     "execution_count": 176,
     "metadata": {},
     "output_type": "execute_result"
    }
   ],
   "source": [
    "arr = np.array([[1,2,3,4,6,7,8,6],[5,6,7,8,4,6,8,6]])\n",
    "arr[1,0:7:3]"
   ]
  },
  {
   "cell_type": "markdown",
   "id": "94e3a0d3",
   "metadata": {},
   "source": [
    "#  *how to change items*\n"
   ]
  },
  {
   "cell_type": "code",
   "execution_count": 2,
   "id": "faba1f57",
   "metadata": {},
   "outputs": [],
   "source": [
    "import numpy as np"
   ]
  },
  {
   "cell_type": "code",
   "execution_count": 180,
   "id": "ba4c90d1",
   "metadata": {},
   "outputs": [
    {
     "data": {
      "text/plain": [
       "array([1000,    2, 1000,    4, 1000,    6, 1000,    8,    9,    0])"
      ]
     },
     "execution_count": 180,
     "metadata": {},
     "output_type": "execute_result"
    }
   ],
   "source": [
    "arr = np.array([1,2,3,4,5,6,7,8,9,0])\n",
    "arr[0:7:2] = 1000\n",
    "arr"
   ]
  },
  {
   "cell_type": "code",
   "execution_count": 183,
   "id": "c2eb5ddc",
   "metadata": {},
   "outputs": [
    {
     "data": {
      "text/plain": [
       "array([1000,  500,  500,    4, 1000,    6, 1000,    8,    9,    0])"
      ]
     },
     "execution_count": 183,
     "metadata": {},
     "output_type": "execute_result"
    }
   ],
   "source": [
    "arr[1] = 500\n",
    "arr"
   ]
  },
  {
   "cell_type": "code",
   "execution_count": 28,
   "id": "ca8185d4",
   "metadata": {},
   "outputs": [
    {
     "data": {
      "text/plain": [
       "array([[ 1, 30,  3,  4,  5,  6],\n",
       "       [ 7, 30,  9,  0,  1,  2]])"
      ]
     },
     "execution_count": 28,
     "metadata": {},
     "output_type": "execute_result"
    }
   ],
   "source": [
    "arr = np.array([[1,2,3,4,5,6],[7,8,9,0,1,2]])\n",
    "arr[:,1] = 30\n",
    "arr"
   ]
  },
  {
   "cell_type": "code",
   "execution_count": 33,
   "id": "3eec04e5",
   "metadata": {},
   "outputs": [
    {
     "data": {
      "text/plain": [
       "array([[2, 2, 3, 4, 5, 6],\n",
       "       [2, 8, 9, 0, 1, 2],\n",
       "       [2, 8, 5, 6, 1, 2],\n",
       "       [2, 8, 4, 8, 9, 2]])"
      ]
     },
     "execution_count": 33,
     "metadata": {},
     "output_type": "execute_result"
    }
   ],
   "source": [
    "vrr = np.array([[1,2,3,4,5,6],[7,8,9,0,1,2],[10,8,5,6,1,2],[1,8,4,8,9,2]])\n",
    "vrr[:,0] = 2\n",
    "vrr\n",
    "#تغير رووس الاعمدة"
   ]
  },
  {
   "cell_type": "code",
   "execution_count": 41,
   "id": "4a502a80",
   "metadata": {},
   "outputs": [
    {
     "data": {
      "text/plain": [
       "array([[ 1,  2, 50,  4,  5,  6],\n",
       "       [ 7,  8, 40,  0,  1,  2]])"
      ]
     },
     "execution_count": 41,
     "metadata": {},
     "output_type": "execute_result"
    }
   ],
   "source": [
    "arrr = np.array([[1,2,3,4,5,6],[7,8,9,0,1,2]])\n",
    "arrr[0,2] = 50\n",
    "arrr\n",
    "arrr[1,2:5:3] = 40\n",
    "arrr"
   ]
  },
  {
   "cell_type": "code",
   "execution_count": 228,
   "id": "7090ab14",
   "metadata": {},
   "outputs": [
    {
     "data": {
      "text/plain": [
       "array([[40,  2, 40,  4, 40,  6, 40, 11, 40],\n",
       "       [ 7,  8,  9,  0,  1,  2,  4,  6,  8]])"
      ]
     },
     "execution_count": 228,
     "metadata": {},
     "output_type": "execute_result"
    }
   ],
   "source": [
    "arrr = np.array([[1,2,3,4,5,6,10,11,13],[7,8,9,0,1,2,4,6,8]])\n",
    "arrr\n",
    "arrr[0,0:9:2] = 40\n",
    "#arrr[any array,start:stop:step of change] = 40 \n",
    "arrr"
   ]
  },
  {
   "cell_type": "code",
   "execution_count": 4,
   "id": "90754a96",
   "metadata": {},
   "outputs": [
    {
     "data": {
      "text/plain": [
       "array([[ 6,  7,  8,  9, 10],\n",
       "       [16, 17, 18, 19, 20]])"
      ]
     },
     "execution_count": 4,
     "metadata": {},
     "output_type": "execute_result"
    }
   ],
   "source": [
    "aar = np.array([[[1,2,3,4,5],[6,7,8,9,10]],[[11,12,13,14,15],[16,17,18,19,20]]])\n",
    "aar[:,1,:] \n",
    "\n",
    "#: في  البداية راح ياخذ كل المصفوفة معه#\n",
    "#كل العناصر من جميع الابعاد من المصفوفة الثانية#"
   ]
  },
  {
   "cell_type": "code",
   "execution_count": 238,
   "id": "b70d315a",
   "metadata": {},
   "outputs": [
    {
     "data": {
      "text/plain": [
       "array([[ 1,  2,  3,  4,  5],\n",
       "       [11, 12, 13, 14, 15]])"
      ]
     },
     "execution_count": 238,
     "metadata": {},
     "output_type": "execute_result"
    }
   ],
   "source": [
    "aar[:,0,:]"
   ]
  },
  {
   "cell_type": "code",
   "execution_count": 34,
   "id": "7bc6e5c6",
   "metadata": {},
   "outputs": [
    {
     "data": {
      "text/plain": [
       "array([10, 20])"
      ]
     },
     "execution_count": 34,
     "metadata": {},
     "output_type": "execute_result"
    }
   ],
   "source": [
    "aar[:,1,4]\n"
   ]
  },
  {
   "cell_type": "code",
   "execution_count": 6,
   "id": "c1000acc",
   "metadata": {},
   "outputs": [
    {
     "data": {
      "text/plain": [
       "array([10, 20])"
      ]
     },
     "execution_count": 6,
     "metadata": {},
     "output_type": "execute_result"
    }
   ],
   "source": [
    "aar[:,1,4]\n",
    "#اعطني العنصر اللي مكانه فور من المصفوفات رقمها واحد من جميع الابعاد#"
   ]
  },
  {
   "cell_type": "code",
   "execution_count": 240,
   "id": "dc56e0db",
   "metadata": {},
   "outputs": [
    {
     "data": {
      "text/plain": [
       "array([[[ 1,  2,  3,  4,  5],\n",
       "        [ 7,  7,  7,  7,  7]],\n",
       "\n",
       "       [[11, 12, 13, 14, 15],\n",
       "        [ 3,  3,  3,  3,  3]]])"
      ]
     },
     "execution_count": 240,
     "metadata": {},
     "output_type": "execute_result"
    }
   ],
   "source": [
    "aaar = np.array([[[1,2,3,4,5],[6,7,8,9,10]],[[11,12,13,14,15],[16,17,18,19,20]]])\n",
    "aaar[:,1,:]  = [[7,7,7,7,7],[3,3,3,3,3]]\n",
    "aaar"
   ]
  },
  {
   "cell_type": "code",
   "execution_count": 241,
   "id": "dd556e74",
   "metadata": {},
   "outputs": [
    {
     "data": {
      "text/plain": [
       "array([[[ 1,  2,  3,  4,  5],\n",
       "        [ 7,  7,  7,  7,  7]],\n",
       "\n",
       "       [[11, 12, 13, 14, 15],\n",
       "        [ 7,  7,  7,  7,  7]]])"
      ]
     },
     "execution_count": 241,
     "metadata": {},
     "output_type": "execute_result"
    }
   ],
   "source": [
    "aaar[:,1,:]  = [7,7,7,7,7]\n",
    "aaar\n",
    "#كما تعلمنا سابق يمكن اظهار كل القيم في مصفوفة ما من كل الابعاد و ايضا يمكننا تغيير القيم#\n",
    "#اذ وضعت مصفوفة واحد سوف تطبق على كلا المصفوفات التي بنفس الترتيب#"
   ]
  },
  {
   "cell_type": "code",
   "execution_count": 64,
   "id": "2544b81c",
   "metadata": {},
   "outputs": [
    {
     "data": {
      "text/plain": [
       "array([1, 3, 5, 7])"
      ]
     },
     "execution_count": 64,
     "metadata": {},
     "output_type": "execute_result"
    }
   ],
   "source": [
    "\n",
    "ar = np.array([1,2,3,4,5,6,7])\n",
    "ar[::2]"
   ]
  },
  {
   "cell_type": "code",
   "execution_count": 71,
   "id": "1ced67ea",
   "metadata": {},
   "outputs": [],
   "source": [
    "#ar[:-1]\n",
    "#ar\n",
    "#خطاء #"
   ]
  },
  {
   "cell_type": "code",
   "execution_count": 13,
   "id": "c72ff5f3",
   "metadata": {},
   "outputs": [
    {
     "data": {
      "text/plain": [
       "(array([3, 8]), 2)"
      ]
     },
     "execution_count": 13,
     "metadata": {},
     "output_type": "execute_result"
    }
   ],
   "source": [
    "ars = np.array([[1,2,3,4,5,6,7,8],[6,7,8,9,0,11,12,13]])\n",
    "ars[0:2,2],ars.ndim\n",
    "\n",
    "#هنا والله اعلم انه من البعد الاول حتى الثاني وثم العنصر لكل المصفوفتين#"
   ]
  },
  {
   "cell_type": "code",
   "execution_count": 14,
   "id": "6e342922",
   "metadata": {},
   "outputs": [
    {
     "data": {
      "text/plain": [
       "array([3])"
      ]
     },
     "execution_count": 14,
     "metadata": {},
     "output_type": "execute_result"
    }
   ],
   "source": [
    "ars[0:1,2]"
   ]
  },
  {
   "cell_type": "code",
   "execution_count": 16,
   "id": "7f883ac2",
   "metadata": {},
   "outputs": [
    {
     "data": {
      "text/plain": [
       "array([[2, 3],\n",
       "       [7, 8]])"
      ]
     },
     "execution_count": 16,
     "metadata": {},
     "output_type": "execute_result"
    }
   ],
   "source": [
    "ars[0:2,1:3]\n",
    "###s[0:2,1:4]   ars[\"ان تحديد العناصر,مكان تحديد نطاق المصفوفة\"]\n",
    "#شف يمديك تستخدم : مرتين لكي تحدد من المصفوفة الاول:الى المصفوفة الثانية \n",
    "#ومن العنصر أ:الى العنصر ي#"
   ]
  },
  {
   "cell_type": "code",
   "execution_count": 17,
   "id": "50263a82",
   "metadata": {},
   "outputs": [
    {
     "data": {
      "text/plain": [
       "array([[7, 8, 9]])"
      ]
     },
     "execution_count": 17,
     "metadata": {},
     "output_type": "execute_result"
    }
   ],
   "source": [
    "ars[1:2,1:4]\n"
   ]
  },
  {
   "cell_type": "code",
   "execution_count": 53,
   "id": "33748aa9",
   "metadata": {},
   "outputs": [
    {
     "data": {
      "text/plain": [
       "array([[ 3],\n",
       "       [ 6],\n",
       "       [ 9],\n",
       "       [12]])"
      ]
     },
     "execution_count": 53,
     "metadata": {},
     "output_type": "execute_result"
    }
   ],
   "source": [
    "arr = np.array([[1,2,3],[4,5,6],[7,8,9],[0,11,12]])\n",
    "arr[0:4,[2]]\n"
   ]
  },
  {
   "cell_type": "code",
   "execution_count": 27,
   "id": "4424d2a5",
   "metadata": {},
   "outputs": [
    {
     "data": {
      "text/plain": [
       "array([[ 1,  3],\n",
       "       [ 4,  6],\n",
       "       [ 7,  9],\n",
       "       [ 0, 12]])"
      ]
     },
     "execution_count": 27,
     "metadata": {},
     "output_type": "execute_result"
    }
   ],
   "source": [
    "arr[0:4,[0,2]]"
   ]
  },
  {
   "cell_type": "code",
   "execution_count": 28,
   "id": "f02769bb",
   "metadata": {},
   "outputs": [
    {
     "data": {
      "text/plain": [
       "2"
      ]
     },
     "execution_count": 28,
     "metadata": {},
     "output_type": "execute_result"
    }
   ],
   "source": [
    "arr.ndim"
   ]
  },
  {
   "cell_type": "code",
   "execution_count": 29,
   "id": "fbab2b63",
   "metadata": {},
   "outputs": [
    {
     "data": {
      "text/plain": [
       "array([ 7,  8,  9, 11, 12])"
      ]
     },
     "execution_count": 29,
     "metadata": {},
     "output_type": "execute_result"
    }
   ],
   "source": [
    "arr[arr>6]"
   ]
  },
  {
   "cell_type": "code",
   "execution_count": 48,
   "id": "78516653",
   "metadata": {},
   "outputs": [],
   "source": [
    "#arr[arr>= 5 and  arr<=8]"
   ]
  },
  {
   "cell_type": "code",
   "execution_count": 54,
   "id": "ccc36828",
   "metadata": {},
   "outputs": [
    {
     "data": {
      "text/plain": [
       "array([[False, False, False],\n",
       "       [False, False, False],\n",
       "       [False,  True, False],\n",
       "       [False, False, False]])"
      ]
     },
     "execution_count": 54,
     "metadata": {},
     "output_type": "execute_result"
    }
   ],
   "source": [
    "arr ==[8]"
   ]
  },
  {
   "cell_type": "code",
   "execution_count": 56,
   "id": "13bdad4d",
   "metadata": {},
   "outputs": [
    {
     "data": {
      "text/plain": [
       "array([[False, False, False],\n",
       "       [False, False, False],\n",
       "       [False, False,  True],\n",
       "       [False, False, False]])"
      ]
     },
     "execution_count": 56,
     "metadata": {},
     "output_type": "execute_result"
    }
   ],
   "source": [
    "arr ==[9]"
   ]
  },
  {
   "cell_type": "code",
   "execution_count": 57,
   "id": "e6433c70",
   "metadata": {},
   "outputs": [],
   "source": [
    "#arr !==[5,7]\n",
    "#كيف اشوف العنصر الذي لا يساوي عكس المثال اللي فوق#"
   ]
  },
  {
   "cell_type": "code",
   "execution_count": 58,
   "id": "859fbd98",
   "metadata": {},
   "outputs": [
    {
     "data": {
      "text/plain": [
       "array([[ True,  True,  True],\n",
       "       [ True,  True,  True],\n",
       "       [False,  True,  True],\n",
       "       [ True,  True,  True]])"
      ]
     },
     "execution_count": 58,
     "metadata": {},
     "output_type": "execute_result"
    }
   ],
   "source": [
    "arr !=[7]"
   ]
  },
  {
   "cell_type": "code",
   "execution_count": 61,
   "id": "c7c4d026",
   "metadata": {},
   "outputs": [
    {
     "data": {
      "text/plain": [
       "array([5., 8.])"
      ]
     },
     "execution_count": 61,
     "metadata": {},
     "output_type": "execute_result"
    }
   ],
   "source": [
    "ss = np.array([np.nan,5,8,np.nan])\n",
    "ss[~np.isnan(ss)]\n",
    "#لعرض عانصر المصفوفة بدون القيم الخالية#\n",
    "    "
   ]
  },
  {
   "cell_type": "code",
   "execution_count": 62,
   "id": "ac6ff57a",
   "metadata": {},
   "outputs": [
    {
     "data": {
      "text/plain": [
       "array([5., 8.])"
      ]
     },
     "execution_count": 62,
     "metadata": {},
     "output_type": "execute_result"
    }
   ],
   "source": [
    "ss[~np.isnan(ss)]"
   ]
  },
  {
   "cell_type": "code",
   "execution_count": 63,
   "id": "d8fd1121",
   "metadata": {},
   "outputs": [
    {
     "data": {
      "text/plain": [
       "array([5.+6.j, 6.+6.j])"
      ]
     },
     "execution_count": 63,
     "metadata": {},
     "output_type": "execute_result"
    }
   ],
   "source": [
    "sd = np.array([5+6j,5,8,6+6j])\n",
    "sd[np.iscomplex(sd)]"
   ]
  },
  {
   "cell_type": "markdown",
   "id": "8ac83f2e",
   "metadata": {},
   "source": [
    "### *iteration*"
   ]
  },
  {
   "cell_type": "code",
   "execution_count": 2,
   "id": "b7313e96",
   "metadata": {},
   "outputs": [],
   "source": [
    "import numpy as np"
   ]
  },
  {
   "cell_type": "code",
   "execution_count": 3,
   "id": "a25c71cf",
   "metadata": {},
   "outputs": [
    {
     "name": "stdout",
     "output_type": "stream",
     "text": [
      "1\n",
      "2\n",
      "4\n",
      "5\n"
     ]
    }
   ],
   "source": [
    "arr = np.array([1,2,4,5])\n",
    "for x in arr:\n",
    "    print(x)"
   ]
  },
  {
   "cell_type": "code",
   "execution_count": 104,
   "id": "3cb6ad96",
   "metadata": {},
   "outputs": [
    {
     "name": "stdout",
     "output_type": "stream",
     "text": [
      "[1 2 3]\n",
      "[4 5 6]\n"
     ]
    }
   ],
   "source": [
    "arrr = np.array([[1,2,3],[4,5,6]])\n",
    "for x in arrr:\n",
    "    print(x)\n",
    "    # في المصفوفات متعددة الابعاد الفور اللوب الواحده لايمكن ان تصل الى العناصر#"
   ]
  },
  {
   "cell_type": "code",
   "execution_count": 110,
   "id": "180f19fb",
   "metadata": {},
   "outputs": [
    {
     "name": "stdout",
     "output_type": "stream",
     "text": [
      "1\n",
      "2\n",
      "3\n",
      "4\n",
      "5\n",
      "6\n"
     ]
    }
   ],
   "source": [
    "arrr = np.array([[1,2,3],[4,5,6]])\n",
    "for x in arrr:\n",
    "    for y in x:\n",
    "        print(y)"
   ]
  },
  {
   "cell_type": "code",
   "execution_count": 112,
   "id": "1c616390",
   "metadata": {},
   "outputs": [
    {
     "name": "stdout",
     "output_type": "stream",
     "text": [
      "1\n",
      "2\n",
      "3\n",
      "4\n",
      "5\n",
      "6\n",
      "7\n",
      "8\n",
      "9\n",
      "10\n",
      "11\n",
      "12\n"
     ]
    }
   ],
   "source": [
    "ar = np.array([[[1,2,3],[4,5,6]],[[7,8,9],[10,11,12]]])\n",
    "for x in ar:\n",
    "    for y in x:\n",
    "        for b in y:\n",
    "            print(b)"
   ]
  },
  {
   "cell_type": "code",
   "execution_count": 14,
   "id": "c56f5131",
   "metadata": {},
   "outputs": [
    {
     "name": "stdout",
     "output_type": "stream",
     "text": [
      "1\n",
      "2\n",
      "3\n",
      "4\n",
      "5\n",
      "6\n",
      "7\n",
      "8\n",
      "9\n",
      "10\n",
      "11\n",
      "12\n"
     ]
    }
   ],
   "source": [
    "sa = np.array([[[1,2,3],[4,5,6]],[[7,8,9],[10,11,12]]])\n",
    "for x in sa:\n",
    "    for y in x:\n",
    "        for b in y:\n",
    "            print(b)\n"
   ]
  },
  {
   "cell_type": "code",
   "execution_count": 9,
   "id": "2afba32b",
   "metadata": {},
   "outputs": [
    {
     "name": "stdout",
     "output_type": "stream",
     "text": [
      "[[ 7  8  9]\n",
      " [10 11 12]]\n"
     ]
    }
   ],
   "source": [
    "print(x)"
   ]
  },
  {
   "cell_type": "code",
   "execution_count": null,
   "id": "6fe893d3",
   "metadata": {},
   "outputs": [],
   "source": [
    "# كثرة الابعاد مشكله عويصه على الفور لوب وتحت الحل#"
   ]
  },
  {
   "cell_type": "code",
   "execution_count": 115,
   "id": "09a235c5",
   "metadata": {},
   "outputs": [
    {
     "name": "stdout",
     "output_type": "stream",
     "text": [
      "1\n",
      "2\n",
      "3\n",
      "4\n",
      "5\n",
      "6\n",
      "7\n",
      "8\n",
      "9\n",
      "10\n",
      "11\n",
      "12\n"
     ]
    }
   ],
   "source": [
    "ar = np.array([[[1,2,3],[4,5,6]],[[7,8,9],[10,11,12]]])\n",
    "for x in np.nditer(ar):\n",
    "    print(x)"
   ]
  },
  {
   "cell_type": "code",
   "execution_count": 16,
   "id": "e44acaae",
   "metadata": {},
   "outputs": [
    {
     "name": "stdout",
     "output_type": "stream",
     "text": [
      "1\n",
      "2\n",
      "3\n",
      "4\n",
      "5\n",
      "6\n",
      "7\n",
      "8\n",
      "9\n",
      "10\n",
      "11\n",
      "12\n"
     ]
    }
   ],
   "source": [
    "sa = np.array([[[1,2,3],[4,5,6]],[[7,8,9],[10,11,12]]])\n",
    "for x in np.nditer(sa):\n",
    "    print(x)"
   ]
  },
  {
   "cell_type": "code",
   "execution_count": 28,
   "id": "7b3ede09",
   "metadata": {},
   "outputs": [
    {
     "name": "stdout",
     "output_type": "stream",
     "text": [
      "1\n",
      "2\n",
      "3\n"
     ]
    }
   ],
   "source": [
    "ar = np.array([[[1,2,3],[4,5,6]],[[7,8,9],[10,11,12]]])\n",
    "for x in np.nditer(ar[0,0::2]):\n",
    "    print(x)\n",
    "    ''' هل يمكن ان نتلاعب بالجزء الانتدكس ونحدد عمود وغيره '''"
   ]
  },
  {
   "cell_type": "code",
   "execution_count": 33,
   "id": "f3e55692",
   "metadata": {},
   "outputs": [
    {
     "name": "stdout",
     "output_type": "stream",
     "text": [
      "10\n",
      "11\n",
      "12\n"
     ]
    }
   ],
   "source": [
    "for x in np.nditer(ar[1,1::1]):\n",
    "    print(x)\n",
    "#for x in np.nditer(ar[form here we can select the dimension,from here we can select any array in the selected dimension \n",
    "#befor ::from here we can choose the step to movie from to item to athoer]):#"
   ]
  },
  {
   "cell_type": "code",
   "execution_count": 35,
   "id": "17356b69",
   "metadata": {},
   "outputs": [
    {
     "name": "stdout",
     "output_type": "stream",
     "text": [
      "10\n"
     ]
    }
   ],
   "source": [
    "for x in np.nditer(ar[1,1,0:1]):\n",
    "    print(x)"
   ]
  },
  {
   "cell_type": "code",
   "execution_count": 37,
   "id": "f9675ddd",
   "metadata": {},
   "outputs": [
    {
     "name": "stdout",
     "output_type": "stream",
     "text": [
      "(0, 0, 0) 1\n",
      "(0, 0, 1) 2\n",
      "(0, 0, 2) 3\n",
      "(0, 1, 0) 4\n",
      "(0, 1, 1) 5\n",
      "(0, 1, 2) 6\n",
      "(1, 0, 0) 7\n",
      "(1, 0, 1) 8\n",
      "(1, 0, 2) 9\n",
      "(1, 1, 0) 10\n",
      "(1, 1, 1) 11\n",
      "(1, 1, 2) 12\n"
     ]
    }
   ],
   "source": [
    "ar = np.array([[[1,2,3],[4,5,6]],[[7,8,9],[10,11,12]]])\n",
    "for idx,x,in np.ndenumerate(ar):\n",
    "    print(idx,x)\n",
    "    '''هنا يظهر لك موقع العنصر في المصفوفة والبعد'''"
   ]
  },
  {
   "cell_type": "markdown",
   "id": "497c95f5",
   "metadata": {},
   "source": [
    "## *array types*"
   ]
  },
  {
   "cell_type": "code",
   "execution_count": 38,
   "id": "1d865e2b",
   "metadata": {},
   "outputs": [],
   "source": [
    "import numpy as np"
   ]
  },
  {
   "cell_type": "code",
   "execution_count": 39,
   "id": "41093356",
   "metadata": {},
   "outputs": [
    {
     "data": {
      "text/plain": [
       "array([[1, 2, 3, 4],\n",
       "       [5, 6, 7, 8]])"
      ]
     },
     "execution_count": 39,
     "metadata": {},
     "output_type": "execute_result"
    }
   ],
   "source": [
    "arr1 = np.array([[1,2,3,4],[5,6,7,8]])\n",
    "arr1"
   ]
  },
  {
   "cell_type": "code",
   "execution_count": 46,
   "id": "72bf6d1f",
   "metadata": {},
   "outputs": [
    {
     "name": "stdout",
     "output_type": "stream",
     "text": [
      "[0 1 2 3 4]\n"
     ]
    }
   ],
   "source": [
    "arr2 = np.arange(5)\n",
    "print(arr2)\n",
    " #نقدر ننشئ مصفوفة ذات قيم تحدد على حسب نطاق معين وتحت من والى "
   ]
  },
  {
   "cell_type": "code",
   "execution_count": 47,
   "id": "c8bdd2ee",
   "metadata": {},
   "outputs": [
    {
     "name": "stdout",
     "output_type": "stream",
     "text": [
      "[0 1 2 3 4 5 6 7 8 9]\n"
     ]
    }
   ],
   "source": [
    "arr2 = np.arange(0,10)\n",
    "print(arr2)"
   ]
  },
  {
   "cell_type": "code",
   "execution_count": 48,
   "id": "8fac23a4",
   "metadata": {},
   "outputs": [
    {
     "name": "stdout",
     "output_type": "stream",
     "text": [
      "[10. 11. 12. 13. 14. 15. 16. 17. 18. 19.]\n"
     ]
    }
   ],
   "source": [
    "arr3 = np.arange(10,20,1,dtype=float)\n",
    "print(arr3)\n",
    "#rr3 = np.arange(point of start, point of stop,to choose the step)\n"
   ]
  },
  {
   "cell_type": "code",
   "execution_count": 50,
   "id": "124adba2",
   "metadata": {},
   "outputs": [
    {
     "name": "stdout",
     "output_type": "stream",
     "text": [
      "[ 1.+0.j  4.+0.j  7.+0.j 10.+0.j 13.+0.j 16.+0.j 19.+0.j 22.+0.j 25.+0.j\n",
      " 28.+0.j 31.+0.j 34.+0.j 37.+0.j 40.+0.j 43.+0.j 46.+0.j 49.+0.j 52.+0.j\n",
      " 55.+0.j 58.+0.j 61.+0.j 64.+0.j 67.+0.j 70.+0.j 73.+0.j 76.+0.j 79.+0.j\n",
      " 82.+0.j 85.+0.j 88.+0.j 91.+0.j 94.+0.j 97.+0.j]\n"
     ]
    }
   ],
   "source": [
    "arrd = np.arange(1,100,3,dtype=complex)\n",
    "print(arrd)"
   ]
  },
  {
   "cell_type": "code",
   "execution_count": 52,
   "id": "3e26b303",
   "metadata": {},
   "outputs": [
    {
     "name": "stdout",
     "output_type": "stream",
     "text": [
      "[10.         11.42857143 12.85714286 14.28571429 15.71428571 17.14285714\n",
      " 18.57142857 20.        ]\n"
     ]
    }
   ],
   "source": [
    "arr4 = np.linspace(10,20,8)\n",
    "print(arr4)\n",
    "# يستخدم في تنسيق مات بلوت لب#"
   ]
  },
  {
   "cell_type": "code",
   "execution_count": 58,
   "id": "7bd90dfc",
   "metadata": {},
   "outputs": [
    {
     "name": "stdout",
     "output_type": "stream",
     "text": [
      "[  1.           3.02040816   5.04081633   7.06122449   9.08163265\n",
      "  11.10204082  13.12244898  15.14285714  17.16326531  19.18367347\n",
      "  21.20408163  23.2244898   25.24489796  27.26530612  29.28571429\n",
      "  31.30612245  33.32653061  35.34693878  37.36734694  39.3877551\n",
      "  41.40816327  43.42857143  45.44897959  47.46938776  49.48979592\n",
      "  51.51020408  53.53061224  55.55102041  57.57142857  59.59183673\n",
      "  61.6122449   63.63265306  65.65306122  67.67346939  69.69387755\n",
      "  71.71428571  73.73469388  75.75510204  77.7755102   79.79591837\n",
      "  81.81632653  83.83673469  85.85714286  87.87755102  89.89795918\n",
      "  91.91836735  93.93877551  95.95918367  97.97959184 100.        ]\n"
     ]
    }
   ],
   "source": [
    "ass3 = np.linspace(1,100,50)\n",
    "print(ass3)"
   ]
  },
  {
   "cell_type": "code",
   "execution_count": 60,
   "id": "d7e6f6ed",
   "metadata": {},
   "outputs": [
    {
     "name": "stdout",
     "output_type": "stream",
     "text": [
      "[ 1.    2.98  4.96  6.94  8.92 10.9  12.88 14.86 16.84 18.82 20.8  22.78\n",
      " 24.76 26.74 28.72 30.7  32.68 34.66 36.64 38.62 40.6  42.58 44.56 46.54\n",
      " 48.52 50.5  52.48 54.46 56.44 58.42 60.4  62.38 64.36 66.34 68.32 70.3\n",
      " 72.28 74.26 76.24 78.22 80.2  82.18 84.16 86.14 88.12 90.1  92.08 94.06\n",
      " 96.04 98.02]\n"
     ]
    }
   ],
   "source": [
    "ass3 = np.linspace(1,100,50,endpoint = False) \n",
    "#endpoint = False withتقريب \n",
    "#endpoint = True  مايتغير شي عن الاصلي\n",
    "print(ass3)"
   ]
  },
  {
   "cell_type": "code",
   "execution_count": 167,
   "id": "c0d91702",
   "metadata": {},
   "outputs": [
    {
     "name": "stdout",
     "output_type": "stream",
     "text": [
      "[10. 12. 14. 16. 18.]\n"
     ]
    }
   ],
   "source": [
    "arr4 = np.linspace(10,20,5,endpoint = False)\n",
    "print(arr4)"
   ]
  },
  {
   "cell_type": "code",
   "execution_count": 70,
   "id": "e1864249",
   "metadata": {},
   "outputs": [
    {
     "name": "stdout",
     "output_type": "stream",
     "text": [
      "[ 10.          12.91549665  16.68100537  21.5443469   27.82559402\n",
      "  35.93813664  46.41588834  59.94842503  77.42636827 100.        ]\n"
     ]
    }
   ],
   "source": [
    "arr5 = np.logspace(1.0,2.0, num = 10)\n",
    "#arr5 = np.logspace(1.0,2.0, num = 10,endpoint = False)ينفع بس تفرق كبير بالحسبة بعدة ارقام مو تشيل الاعشار\n",
    "\n",
    "print(arr5)"
   ]
  },
  {
   "cell_type": "markdown",
   "id": "73ed270f",
   "metadata": {},
   "source": [
    "### zero type"
   ]
  },
  {
   "cell_type": "code",
   "execution_count": 71,
   "id": "de56dfb6",
   "metadata": {},
   "outputs": [],
   "source": [
    "import numpy as np "
   ]
  },
  {
   "cell_type": "code",
   "execution_count": 78,
   "id": "d50ed9ae",
   "metadata": {},
   "outputs": [
    {
     "data": {
      "text/plain": [
       "array([0., 0., 0., 0., 0.])"
      ]
     },
     "execution_count": 78,
     "metadata": {},
     "output_type": "execute_result"
    }
   ],
   "source": [
    "np.zeros(5)"
   ]
  },
  {
   "cell_type": "code",
   "execution_count": 75,
   "id": "a57579f8",
   "metadata": {},
   "outputs": [
    {
     "data": {
      "text/plain": [
       "array([[[0., 0., 0., 0.],\n",
       "        [0., 0., 0., 0.],\n",
       "        [0., 0., 0., 0.],\n",
       "        [0., 0., 0., 0.],\n",
       "        [0., 0., 0., 0.],\n",
       "        [0., 0., 0., 0.],\n",
       "        [0., 0., 0., 0.],\n",
       "        [0., 0., 0., 0.],\n",
       "        [0., 0., 0., 0.],\n",
       "        [0., 0., 0., 0.]],\n",
       "\n",
       "       [[0., 0., 0., 0.],\n",
       "        [0., 0., 0., 0.],\n",
       "        [0., 0., 0., 0.],\n",
       "        [0., 0., 0., 0.],\n",
       "        [0., 0., 0., 0.],\n",
       "        [0., 0., 0., 0.],\n",
       "        [0., 0., 0., 0.],\n",
       "        [0., 0., 0., 0.],\n",
       "        [0., 0., 0., 0.],\n",
       "        [0., 0., 0., 0.]],\n",
       "\n",
       "       [[0., 0., 0., 0.],\n",
       "        [0., 0., 0., 0.],\n",
       "        [0., 0., 0., 0.],\n",
       "        [0., 0., 0., 0.],\n",
       "        [0., 0., 0., 0.],\n",
       "        [0., 0., 0., 0.],\n",
       "        [0., 0., 0., 0.],\n",
       "        [0., 0., 0., 0.],\n",
       "        [0., 0., 0., 0.],\n",
       "        [0., 0., 0., 0.]]])"
      ]
     },
     "execution_count": 75,
     "metadata": {},
     "output_type": "execute_result"
    }
   ],
   "source": [
    "np.zeros((3,10,4))\n",
    "#np.zeros((number of array,the insade arry,number of items))"
   ]
  },
  {
   "cell_type": "code",
   "execution_count": 182,
   "id": "6865a3f5",
   "metadata": {},
   "outputs": [
    {
     "data": {
      "text/plain": [
       "array([1., 1., 1., 1., 1.])"
      ]
     },
     "execution_count": 182,
     "metadata": {},
     "output_type": "execute_result"
    }
   ],
   "source": [
    "np.ones(5)\n",
    "#if i want use pie chart  you should put print in a begin#\n"
   ]
  },
  {
   "cell_type": "code",
   "execution_count": 183,
   "id": "dc567f04",
   "metadata": {},
   "outputs": [
    {
     "name": "stdout",
     "output_type": "stream",
     "text": [
      "[1. 1. 1. 1. 1.]\n"
     ]
    }
   ],
   "source": [
    "print(np.ones(5))\n"
   ]
  },
  {
   "cell_type": "code",
   "execution_count": 188,
   "id": "d4c42dd3",
   "metadata": {
    "scrolled": true
   },
   "outputs": [
    {
     "data": {
      "text/plain": [
       "array([[[1., 1., 1., 1., 1.],\n",
       "        [1., 1., 1., 1., 1.],\n",
       "        [1., 1., 1., 1., 1.],\n",
       "        [1., 1., 1., 1., 1.],\n",
       "        [1., 1., 1., 1., 1.]],\n",
       "\n",
       "       [[1., 1., 1., 1., 1.],\n",
       "        [1., 1., 1., 1., 1.],\n",
       "        [1., 1., 1., 1., 1.],\n",
       "        [1., 1., 1., 1., 1.],\n",
       "        [1., 1., 1., 1., 1.]],\n",
       "\n",
       "       [[1., 1., 1., 1., 1.],\n",
       "        [1., 1., 1., 1., 1.],\n",
       "        [1., 1., 1., 1., 1.],\n",
       "        [1., 1., 1., 1., 1.],\n",
       "        [1., 1., 1., 1., 1.]]])"
      ]
     },
     "execution_count": 188,
     "metadata": {},
     "output_type": "execute_result"
    }
   ],
   "source": [
    "np.ones((3,5,5))\n",
    "\n",
    "#watch out here you should put a dubal (())#"
   ]
  },
  {
   "cell_type": "code",
   "execution_count": 191,
   "id": "1eb399c2",
   "metadata": {},
   "outputs": [
    {
     "data": {
      "text/plain": [
       "array([[[15, 15, 15],\n",
       "        [15, 15, 15],\n",
       "        [15, 15, 15],\n",
       "        [15, 15, 15]],\n",
       "\n",
       "       [[15, 15, 15],\n",
       "        [15, 15, 15],\n",
       "        [15, 15, 15],\n",
       "        [15, 15, 15]]])"
      ]
     },
     "execution_count": 191,
     "metadata": {},
     "output_type": "execute_result"
    }
   ],
   "source": [
    "np.full((2,4,3),15,dtype= 'int32')\n",
    "#in this fun we can put any number #"
   ]
  },
  {
   "cell_type": "code",
   "execution_count": 81,
   "id": "05a571ee",
   "metadata": {},
   "outputs": [
    {
     "data": {
      "text/plain": [
       "array([[[5.5, 5.5, 5.5, 5.5, 5.5],\n",
       "        [5.5, 5.5, 5.5, 5.5, 5.5],\n",
       "        [5.5, 5.5, 5.5, 5.5, 5.5]],\n",
       "\n",
       "       [[5.5, 5.5, 5.5, 5.5, 5.5],\n",
       "        [5.5, 5.5, 5.5, 5.5, 5.5],\n",
       "        [5.5, 5.5, 5.5, 5.5, 5.5]]])"
      ]
     },
     "execution_count": 81,
     "metadata": {},
     "output_type": "execute_result"
    }
   ],
   "source": [
    "np.full((2,3,5),5.5)"
   ]
  },
  {
   "cell_type": "code",
   "execution_count": 196,
   "id": "05c35cd4",
   "metadata": {},
   "outputs": [
    {
     "data": {
      "text/plain": [
       "array([[['j', 'j', 'j'],\n",
       "        ['j', 'j', 'j'],\n",
       "        ['j', 'j', 'j'],\n",
       "        ['j', 'j', 'j']],\n",
       "\n",
       "       [['j', 'j', 'j'],\n",
       "        ['j', 'j', 'j'],\n",
       "        ['j', 'j', 'j'],\n",
       "        ['j', 'j', 'j']]], dtype='<U1')"
      ]
     },
     "execution_count": 196,
     "metadata": {},
     "output_type": "execute_result"
    }
   ],
   "source": [
    "np.full((2,4,3),\"j\",dtype= 'str')\n"
   ]
  },
  {
   "cell_type": "code",
   "execution_count": 87,
   "id": "9c0553b9",
   "metadata": {},
   "outputs": [
    {
     "name": "stdout",
     "output_type": "stream",
     "text": [
      "[[['m' 'm' 'm']\n",
      "  ['m' 'm' 'm']\n",
      "  ['m' 'm' 'm']]\n",
      "\n",
      " [['m' 'm' 'm']\n",
      "  ['m' 'm' 'm']\n",
      "  ['m' 'm' 'm']]]\n"
     ]
    }
   ],
   "source": [
    "print(np.full((2,3,3),\"m555ar\",dtype=\"str\"))\n",
    "#لسى ماني قادر املا مصفوفة باسم معين بدال حرف"
   ]
  },
  {
   "cell_type": "code",
   "execution_count": 88,
   "id": "15fee026",
   "metadata": {},
   "outputs": [],
   "source": [
    "arr = np.array([[1,2,3],[4,5,6]])"
   ]
  },
  {
   "cell_type": "code",
   "execution_count": null,
   "id": "fe49657b",
   "metadata": {},
   "outputs": [],
   "source": [
    "#there anthor fun its take the shape of any array choosed#"
   ]
  },
  {
   "cell_type": "code",
   "execution_count": 92,
   "id": "4cd47fb9",
   "metadata": {},
   "outputs": [
    {
     "data": {
      "text/plain": [
       "array([[5, 5, 5],\n",
       "       [5, 5, 5]])"
      ]
     },
     "execution_count": 92,
     "metadata": {},
     "output_type": "execute_result"
    }
   ],
   "source": [
    "np.full_like(arr,5)\n",
    "#np.full_like(,حدد الرقم المراد ملء به المصفوفة ضع اسم المصفوفة المراد تقليدها)"
   ]
  },
  {
   "cell_type": "code",
   "execution_count": 201,
   "id": "8e42495e",
   "metadata": {},
   "outputs": [
    {
     "data": {
      "text/plain": [
       "array([[4, 4, 4],\n",
       "       [4, 4, 4]])"
      ]
     },
     "execution_count": 201,
     "metadata": {},
     "output_type": "execute_result"
    }
   ],
   "source": [
    "np.full(arr.shape,4)\n",
    "#np.full(ضع الرقم المراد ملء به المصفوفة,ضع اسم المصفوفة مبتوع بشيب)"
   ]
  },
  {
   "cell_type": "code",
   "execution_count": 95,
   "id": "638f8436",
   "metadata": {},
   "outputs": [
    {
     "data": {
      "text/plain": [
       "array([['عمرابراهيم الميلبى', 'عمرابراهيم الميلبى', 'عمرابراهيم الميلبى'],\n",
       "       ['عمرابراهيم الميلبى', 'عمرابراهيم الميلبى', 'عمرابراهيم الميلبى']],\n",
       "      dtype='<U18')"
      ]
     },
     "execution_count": 95,
     "metadata": {},
     "output_type": "execute_result"
    }
   ],
   "source": [
    "np.full(arr.shape,\"عمرابراهيم الميلبى\")"
   ]
  },
  {
   "cell_type": "code",
   "execution_count": 100,
   "id": "69653a71",
   "metadata": {},
   "outputs": [
    {
     "data": {
      "text/plain": [
       "array([[1., 0., 0., 0., 0., 0., 0., 0., 0., 0.],\n",
       "       [0., 1., 0., 0., 0., 0., 0., 0., 0., 0.],\n",
       "       [0., 0., 1., 0., 0., 0., 0., 0., 0., 0.],\n",
       "       [0., 0., 0., 1., 0., 0., 0., 0., 0., 0.],\n",
       "       [0., 0., 0., 0., 1., 0., 0., 0., 0., 0.],\n",
       "       [0., 0., 0., 0., 0., 1., 0., 0., 0., 0.],\n",
       "       [0., 0., 0., 0., 0., 0., 1., 0., 0., 0.],\n",
       "       [0., 0., 0., 0., 0., 0., 0., 1., 0., 0.],\n",
       "       [0., 0., 0., 0., 0., 0., 0., 0., 1., 0.],\n",
       "       [0., 0., 0., 0., 0., 0., 0., 0., 0., 1.]])"
      ]
     },
     "execution_count": 100,
     "metadata": {},
     "output_type": "execute_result"
    }
   ],
   "source": [
    "#this fun related to linear algebra #\n",
    "np.identity(10)"
   ]
  },
  {
   "cell_type": "code",
   "execution_count": 203,
   "id": "9caca7f0",
   "metadata": {},
   "outputs": [
    {
     "data": {
      "text/plain": [
       "array([[1., 0., 0., 0., 0.],\n",
       "       [0., 1., 0., 0., 0.],\n",
       "       [0., 0., 1., 0., 0.],\n",
       "       [0., 0., 0., 1., 0.],\n",
       "       [0., 0., 0., 0., 1.]])"
      ]
     },
     "execution_count": 203,
     "metadata": {},
     "output_type": "execute_result"
    }
   ],
   "source": [
    "np.eye(5)"
   ]
  },
  {
   "cell_type": "code",
   "execution_count": 103,
   "id": "ef8d5cbe",
   "metadata": {},
   "outputs": [
    {
     "name": "stdout",
     "output_type": "stream",
     "text": [
      "[[1 2 3]\n",
      " [4 5 6]]\n"
     ]
    }
   ],
   "source": [
    "arr = np.array([[1,2,3],[4,5,6]])\n",
    "r = np.repeat(arr,1,axis=1) #r = np.repeat(arr,the time of repeat any items in arrary,axis=1)\n",
    "print(r)"
   ]
  },
  {
   "cell_type": "code",
   "execution_count": 106,
   "id": "9f30d99c",
   "metadata": {},
   "outputs": [
    {
     "name": "stdout",
     "output_type": "stream",
     "text": [
      "[[[ 1  2  3]\n",
      "  [ 4  5  6]]\n",
      "\n",
      " [[ 7  8  9]\n",
      "  [10 11 12]]]\n"
     ]
    }
   ],
   "source": [
    "ar = np.array([[[1,2,3],[4,5,6]],[[7,8,9],[10,11,12]]])\n",
    "re = np.repeat(ar,1,axis=0)\n",
    "print(re)\n",
    "#it's does not match what i looking for , to repeat particulary items in particulary array#"
   ]
  },
  {
   "cell_type": "code",
   "execution_count": 114,
   "id": "7a200f1c",
   "metadata": {},
   "outputs": [
    {
     "name": "stdout",
     "output_type": "stream",
     "text": [
      "[ 1  1  1  2  2  2  3  3  3  4  4  4  5  5  5  6  6  6  7  7  7  8  8  8\n",
      "  9  9  9 10 10 10 11 11 11 12 12 12]\n"
     ]
    }
   ],
   "source": [
    "ree = np.repeat(ar,3)\n",
    "#ree = np.repeat(ar,عدد تكرار العنصر الواحد)\n",
    "print(ree)"
   ]
  },
  {
   "cell_type": "code",
   "execution_count": 119,
   "id": "edaa0b37",
   "metadata": {},
   "outputs": [
    {
     "name": "stdout",
     "output_type": "stream",
     "text": [
      "[[[ 1  2  3]\n",
      "  [ 4  5  6]]\n",
      "\n",
      " [[ 1  2  3]\n",
      "  [ 4  5  6]]\n",
      "\n",
      " [[ 7  8  9]\n",
      "  [10 11 12]]\n",
      "\n",
      " [[ 7  8  9]\n",
      "  [10 11 12]]]\n"
     ]
    }
   ],
   "source": [
    "ree = np.repeat(ar,2,axis=0)\n",
    "print(ree)\n",
    "#فين الصف والعمود"
   ]
  },
  {
   "cell_type": "code",
   "execution_count": 136,
   "id": "286a8274",
   "metadata": {},
   "outputs": [
    {
     "data": {
      "text/plain": [
       "array([[1, 2],\n",
       "       [3, 4],\n",
       "       [5, 6]])"
      ]
     },
     "execution_count": 136,
     "metadata": {},
     "output_type": "execute_result"
    }
   ],
   "source": [
    "np.empty([3,2],dtype=int)\n",
    "#it's does not match what i looking for#"
   ]
  },
  {
   "cell_type": "code",
   "execution_count": 138,
   "id": "33e117e1",
   "metadata": {},
   "outputs": [
    {
     "data": {
      "text/plain": [
       "array([['', ''],\n",
       "       ['', ''],\n",
       "       ['', '']], dtype='<U1')"
      ]
     },
     "execution_count": 138,
     "metadata": {},
     "output_type": "execute_result"
    }
   ],
   "source": [
    "np.empty([3,2],dtype=\"str\")\n"
   ]
  },
  {
   "cell_type": "code",
   "execution_count": 150,
   "id": "71aa6dd4",
   "metadata": {},
   "outputs": [
    {
     "data": {
      "text/plain": [
       "array([[5.43230922e-312],\n",
       "       [7.29112202e-304]])"
      ]
     },
     "execution_count": 150,
     "metadata": {},
     "output_type": "execute_result"
    }
   ],
   "source": [
    "np.empty([2,1])"
   ]
  },
  {
   "cell_type": "code",
   "execution_count": 152,
   "id": "2a066b18",
   "metadata": {},
   "outputs": [
    {
     "data": {
      "text/plain": [
       "False"
      ]
     },
     "execution_count": 152,
     "metadata": {},
     "output_type": "execute_result"
    }
   ],
   "source": [
    "np.all([[True, False],[True,False]])\n",
    "# if any false in the arrar it's gvie us false it's more likely and , or\n",
    "#"
   ]
  },
  {
   "cell_type": "code",
   "execution_count": 223,
   "id": "01b23333",
   "metadata": {},
   "outputs": [
    {
     "data": {
      "text/plain": [
       "True"
      ]
     },
     "execution_count": 223,
     "metadata": {},
     "output_type": "execute_result"
    }
   ],
   "source": [
    "np.all([[True, True],[True,True]])\n"
   ]
  },
  {
   "cell_type": "code",
   "execution_count": 220,
   "id": "7e136e6e",
   "metadata": {},
   "outputs": [
    {
     "data": {
      "text/plain": [
       "True"
      ]
     },
     "execution_count": 220,
     "metadata": {},
     "output_type": "execute_result"
    }
   ],
   "source": [
    "np.any([[True, False],[True,False]])"
   ]
  },
  {
   "cell_type": "code",
   "execution_count": 221,
   "id": "11b1e54d",
   "metadata": {},
   "outputs": [
    {
     "data": {
      "text/plain": [
       "False"
      ]
     },
     "execution_count": 221,
     "metadata": {},
     "output_type": "execute_result"
    }
   ],
   "source": [
    "np.any([[False, False],[False,False]])"
   ]
  },
  {
   "cell_type": "code",
   "execution_count": 224,
   "id": "10dc8759",
   "metadata": {},
   "outputs": [
    {
     "data": {
      "text/plain": [
       "False"
      ]
     },
     "execution_count": 224,
     "metadata": {},
     "output_type": "execute_result"
    }
   ],
   "source": [
    "#also we can use two  fun on the numbers#\n",
    "np.all([[1, 0],[1,0]])\n"
   ]
  },
  {
   "cell_type": "code",
   "execution_count": 225,
   "id": "976116fc",
   "metadata": {},
   "outputs": [
    {
     "data": {
      "text/plain": [
       "True"
      ]
     },
     "execution_count": 225,
     "metadata": {},
     "output_type": "execute_result"
    }
   ],
   "source": [
    "np.any([[1, 0],[1,0]])\n"
   ]
  },
  {
   "cell_type": "code",
   "execution_count": 155,
   "id": "61348308",
   "metadata": {},
   "outputs": [
    {
     "data": {
      "text/plain": [
       "False"
      ]
     },
     "execution_count": 155,
     "metadata": {},
     "output_type": "execute_result"
    }
   ],
   "source": [
    "np.all([[np.nan,0],[np.nan,np.nan]])"
   ]
  },
  {
   "cell_type": "markdown",
   "id": "f196351f",
   "metadata": {},
   "source": [
    "# *string operations in numpy*"
   ]
  },
  {
   "cell_type": "code",
   "execution_count": 156,
   "id": "5ce125ee",
   "metadata": {},
   "outputs": [],
   "source": [
    "import numpy as np"
   ]
  },
  {
   "cell_type": "code",
   "execution_count": 160,
   "id": "bdccf669",
   "metadata": {},
   "outputs": [
    {
     "name": "stdout",
     "output_type": "stream",
     "text": [
      "['omar almuylaba']\n"
     ]
    }
   ],
   "source": [
    "print(np.char.add(['omar'], [' almuylaba']))\n",
    "#الحد الاقصى شكله مصفوفتين"
   ]
  },
  {
   "cell_type": "code",
   "execution_count": 166,
   "id": "9e1b955c",
   "metadata": {},
   "outputs": [
    {
     "name": "stdout",
     "output_type": "stream",
     "text": [
      "['the second year in DS   and its the end of this pragram']\n"
     ]
    }
   ],
   "source": [
    "print(np.char.add(['the second year in DS'],['   and its the end of this pragram']))\n",
    "#المسافة تحسب في بداية المصفوفة الثانية سوف تلصق بنهاية المصفوفة الاولى"
   ]
  },
  {
   "cell_type": "code",
   "execution_count": 168,
   "id": "1334dc6d",
   "metadata": {},
   "outputs": [],
   "source": [
    "#print(np.char.add([[['omr'],['ibrahim'],['almuylaba']]]))\n",
    "#كما نرى هنا انه ما يمدي ندمج ثلاث مصفوفات"
   ]
  },
  {
   "cell_type": "code",
   "execution_count": 234,
   "id": "a5672132",
   "metadata": {},
   "outputs": [
    {
     "name": "stdout",
     "output_type": "stream",
     "text": [
      "['omar almuylaba ' ' major Data science']\n"
     ]
    }
   ],
   "source": [
    "print(np.char.add(['omar', ' major'],[' almuylaba ', ' Data science']))"
   ]
  },
  {
   "cell_type": "code",
   "execution_count": 180,
   "id": "dfdec758",
   "metadata": {},
   "outputs": [
    {
     "name": "stdout",
     "output_type": "stream",
     "text": [
      " omar omar omar omar omar omar omar omar omar omar\n"
     ]
    }
   ],
   "source": [
    "print(np.char.multiply(' omar',10))\n",
    "#المسافة قبل كل كلمة توثر في الطباعة#\n"
   ]
  },
  {
   "cell_type": "code",
   "execution_count": 245,
   "id": "663d18b1",
   "metadata": {},
   "outputs": [
    {
     "name": "stdout",
     "output_type": "stream",
     "text": [
      "fff\n"
     ]
    }
   ],
   "source": [
    "print(np.char.center('fffff',3,fillchar='*'))"
   ]
  },
  {
   "cell_type": "code",
   "execution_count": 181,
   "id": "c27e6853",
   "metadata": {},
   "outputs": [
    {
     "name": "stdout",
     "output_type": "stream",
     "text": [
      "////////omar////////\n"
     ]
    }
   ],
   "source": [
    "print(np.char.center('omar',20,fillchar='/'))"
   ]
  },
  {
   "cell_type": "code",
   "execution_count": null,
   "id": "33c7c54b",
   "metadata": {},
   "outputs": [],
   "source": [
    "# لجعل الحرف الاول في اول كلمة كبير نستخدم دالة كبيتلايز وذ نبي نجعل اول حرف من كل كلمة نتسخدم تاتيل#"
   ]
  },
  {
   "cell_type": "code",
   "execution_count": 182,
   "id": "bb5515ca",
   "metadata": {},
   "outputs": [
    {
     "name": "stdout",
     "output_type": "stream",
     "text": [
      "Data science\n",
      "Omar almuylaba\n"
     ]
    }
   ],
   "source": [
    "print(np.char.capitalize('data science'))\n",
    "print(np.char.capitalize('omar almuylaba'))"
   ]
  },
  {
   "cell_type": "code",
   "execution_count": 183,
   "id": "ec772bac",
   "metadata": {},
   "outputs": [
    {
     "name": "stdout",
     "output_type": "stream",
     "text": [
      "Data Science\n",
      "Ommar Almuylaba\n"
     ]
    }
   ],
   "source": [
    "print(np.char.title('data science'))\n",
    "print(np.char.title('ommar almuylaba'))"
   ]
  },
  {
   "cell_type": "code",
   "execution_count": 185,
   "id": "c9a9801b",
   "metadata": {},
   "outputs": [
    {
     "name": "stdout",
     "output_type": "stream",
     "text": [
      "data science\n",
      "omar almuylaba\n",
      "omar almuylaba\n"
     ]
    }
   ],
   "source": [
    "print(np.char.lower('Data Science'))\n",
    "print(np.char.lower('Omar Almuylaba'))\n",
    "print(np.char.lower('OMAR ALMUYLABA'))"
   ]
  },
  {
   "cell_type": "code",
   "execution_count": 188,
   "id": "bca79262",
   "metadata": {},
   "outputs": [
    {
     "name": "stdout",
     "output_type": "stream",
     "text": [
      "d:m:y\n",
      "m.s. .o.m.a.r\n"
     ]
    }
   ],
   "source": [
    "print(np.char.join(':','dmy'))\n",
    "print(np.char.join('.','ms omar'))\n",
    "#عمل هذه الدالة انه تضع علامة بين كل حرف"
   ]
  },
  {
   "cell_type": "code",
   "execution_count": 191,
   "id": "04d8e89d",
   "metadata": {},
   "outputs": [
    {
     "name": "stdout",
     "output_type": "stream",
     "text": [
      "d/m/y\n",
      "2/0/0/2/2/2/3\n"
     ]
    }
   ],
   "source": [
    "print(np.char.join('/','dmy'))\n",
    "print(np.char.join('/','2002223'))\n",
    "#print(np.char.join('/',2000222)) لايمكن استخدامها مباشرة على رقم  الا في حال انه نحول نوعه\n",
    "\n",
    "#First parameter is the thing that you want to join your world,\n",
    "#and the second one is actual strength.#\n",
    "#ممكن استخدمها على عمود تاريخ#"
   ]
  },
  {
   "cell_type": "code",
   "execution_count": 193,
   "id": "67e876be",
   "metadata": {},
   "outputs": [
    {
     "name": "stdout",
     "output_type": "stream",
     "text": [
      "he was a good boy\n"
     ]
    }
   ],
   "source": [
    "print(np.char.replace('he is a good boy','is','was'))"
   ]
  },
  {
   "cell_type": "code",
   "execution_count": 194,
   "id": "905b9238",
   "metadata": {},
   "outputs": [
    {
     "name": "stdout",
     "output_type": "stream",
     "text": [
      "hi how are you\n"
     ]
    }
   ],
   "source": [
    "print(np.char.replace('hi how is you','is','are'))"
   ]
  },
  {
   "cell_type": "markdown",
   "id": "2ceb230e",
   "metadata": {},
   "source": [
    "# * NmuPy statistical functions*"
   ]
  },
  {
   "cell_type": "code",
   "execution_count": 196,
   "id": "35530c14",
   "metadata": {},
   "outputs": [
    {
     "name": "stdout",
     "output_type": "stream",
     "text": [
      "[[ 1  2  3  4]\n",
      " [ 5  6  7  8]\n",
      " [ 9 10 11 12]]\n"
     ]
    }
   ],
   "source": [
    "a  = np.array([[1,2,3,4],[5,6,7,8],[9,10,11,12]])\n",
    "print(a)"
   ]
  },
  {
   "cell_type": "code",
   "execution_count": 197,
   "id": "c52b6f7d",
   "metadata": {},
   "outputs": [
    {
     "data": {
      "text/plain": [
       "1"
      ]
     },
     "execution_count": 197,
     "metadata": {},
     "output_type": "execute_result"
    }
   ],
   "source": [
    "np.amin(a)"
   ]
  },
  {
   "cell_type": "code",
   "execution_count": 203,
   "id": "248986f8",
   "metadata": {},
   "outputs": [
    {
     "data": {
      "text/plain": [
       "array([1, 5, 9])"
      ]
     },
     "execution_count": 203,
     "metadata": {},
     "output_type": "execute_result"
    }
   ],
   "source": [
    "np.amin(a,1)\n",
    "# ش الفرق اللي بين اني اضع واحد او صفر ,شكله لها علاقة بالابعاد مره يحدد لي كل المصفوفة ومرة جزء منها#\n",
    "#اكتشفت حتى الان ان صفر صف واحد عمود#"
   ]
  },
  {
   "cell_type": "code",
   "execution_count": null,
   "id": "4f9eb215",
   "metadata": {},
   "outputs": [],
   "source": []
  },
  {
   "cell_type": "code",
   "execution_count": null,
   "id": "4e7e527f",
   "metadata": {},
   "outputs": [],
   "source": []
  },
  {
   "cell_type": "code",
   "execution_count": 287,
   "id": "4cead71c",
   "metadata": {},
   "outputs": [
    {
     "data": {
      "text/plain": [
       "array([1, 5, 9])"
      ]
     },
     "execution_count": 287,
     "metadata": {},
     "output_type": "execute_result"
    }
   ],
   "source": [
    "np.amin(a,1)\n"
   ]
  },
  {
   "cell_type": "code",
   "execution_count": 204,
   "id": "86a3dce8",
   "metadata": {},
   "outputs": [
    {
     "data": {
      "text/plain": [
       "12"
      ]
     },
     "execution_count": 204,
     "metadata": {},
     "output_type": "execute_result"
    }
   ],
   "source": [
    "np.amax(a)"
   ]
  },
  {
   "cell_type": "code",
   "execution_count": 285,
   "id": "087214f5",
   "metadata": {},
   "outputs": [
    {
     "data": {
      "text/plain": [
       "array([ 9, 10, 11, 12])"
      ]
     },
     "execution_count": 285,
     "metadata": {},
     "output_type": "execute_result"
    }
   ],
   "source": [
    "np.amax(a,0)"
   ]
  },
  {
   "cell_type": "code",
   "execution_count": 286,
   "id": "b2576aa3",
   "metadata": {},
   "outputs": [
    {
     "data": {
      "text/plain": [
       "array([ 4,  8, 12])"
      ]
     },
     "execution_count": 286,
     "metadata": {},
     "output_type": "execute_result"
    }
   ],
   "source": [
    "np.amax(a,1)"
   ]
  },
  {
   "cell_type": "code",
   "execution_count": 289,
   "id": "8b2b94b9",
   "metadata": {},
   "outputs": [
    {
     "name": "stdout",
     "output_type": "stream",
     "text": [
      "[[ 1  2  3  4]\n",
      " [ 5  6  7  8]\n",
      " [ 9 10 11 12]]\n"
     ]
    }
   ],
   "source": [
    "a  = np.array([[1,2,3,4],[5,6,7,8],[9,10,11,12]])\n",
    "print(a)"
   ]
  },
  {
   "cell_type": "code",
   "execution_count": 290,
   "id": "f49601bc",
   "metadata": {},
   "outputs": [
    {
     "data": {
      "text/plain": [
       "11"
      ]
     },
     "execution_count": 290,
     "metadata": {},
     "output_type": "execute_result"
    }
   ],
   "source": [
    "np.ptp(a)\n",
    "#يطرح اعلى رقم من اصغر رقم#"
   ]
  },
  {
   "cell_type": "code",
   "execution_count": 291,
   "id": "03c70119",
   "metadata": {},
   "outputs": [
    {
     "data": {
      "text/plain": [
       "array([3, 3, 3])"
      ]
     },
     "execution_count": 291,
     "metadata": {},
     "output_type": "execute_result"
    }
   ],
   "source": [
    "np.ptp(a,1)"
   ]
  },
  {
   "cell_type": "code",
   "execution_count": 295,
   "id": "4e49b070",
   "metadata": {},
   "outputs": [
    {
     "data": {
      "text/plain": [
       "array([ 3.4,  7.4, 11.4])"
      ]
     },
     "execution_count": 295,
     "metadata": {},
     "output_type": "execute_result"
    }
   ],
   "source": [
    "np.percentile(a,80,axis=1)"
   ]
  },
  {
   "cell_type": "code",
   "execution_count": 296,
   "id": "31285aa7",
   "metadata": {},
   "outputs": [
    {
     "name": "stdout",
     "output_type": "stream",
     "text": [
      "[[ 1  2  3  4]\n",
      " [ 5  6  7  8]\n",
      " [ 9 10 11 12]]\n"
     ]
    }
   ],
   "source": [
    "a  = np.array([[1,2,3,4],[5,6,7,8],[9,10,11,12]])\n",
    "print(a)"
   ]
  },
  {
   "cell_type": "code",
   "execution_count": 213,
   "id": "75531c82",
   "metadata": {},
   "outputs": [
    {
     "data": {
      "text/plain": [
       "(array([5., 6., 7., 8.]), array([ 2.5,  6.5, 10.5]))"
      ]
     },
     "execution_count": 213,
     "metadata": {},
     "output_type": "execute_result"
    }
   ],
   "source": [
    "np.mean(a,axis=0),np.mean(a,axis=1)"
   ]
  },
  {
   "cell_type": "code",
   "execution_count": 306,
   "id": "4bc5440c",
   "metadata": {},
   "outputs": [
    {
     "data": {
      "text/plain": [
       "6.5"
      ]
     },
     "execution_count": 306,
     "metadata": {},
     "output_type": "execute_result"
    }
   ],
   "source": [
    "np.mean(a)"
   ]
  },
  {
   "cell_type": "code",
   "execution_count": 215,
   "id": "7744e8d2",
   "metadata": {},
   "outputs": [
    {
     "data": {
      "text/plain": [
       "(array([ 2.5,  6.5, 10.5]), array([5., 6., 7., 8.]))"
      ]
     },
     "execution_count": 215,
     "metadata": {},
     "output_type": "execute_result"
    }
   ],
   "source": [
    "np.median(a,axis=1),np.median(a,axis=0)"
   ]
  },
  {
   "cell_type": "code",
   "execution_count": 307,
   "id": "e80f8d26",
   "metadata": {},
   "outputs": [
    {
     "data": {
      "text/plain": [
       "6.5"
      ]
     },
     "execution_count": 307,
     "metadata": {},
     "output_type": "execute_result"
    }
   ],
   "source": [
    "np.median(a)"
   ]
  },
  {
   "cell_type": "code",
   "execution_count": 304,
   "id": "da0521ae",
   "metadata": {},
   "outputs": [
    {
     "data": {
      "text/plain": [
       "array([ 2.5,  6.5, 10.5])"
      ]
     },
     "execution_count": 304,
     "metadata": {},
     "output_type": "execute_result"
    }
   ],
   "source": [
    "np.average(a,axis=1)"
   ]
  },
  {
   "cell_type": "code",
   "execution_count": 305,
   "id": "f711bf25",
   "metadata": {},
   "outputs": [
    {
     "data": {
      "text/plain": [
       "6.5"
      ]
     },
     "execution_count": 305,
     "metadata": {},
     "output_type": "execute_result"
    }
   ],
   "source": [
    "np.average(a)"
   ]
  },
  {
   "cell_type": "code",
   "execution_count": 308,
   "id": "9d329b0d",
   "metadata": {},
   "outputs": [
    {
     "name": "stdout",
     "output_type": "stream",
     "text": [
      "[[ 1  2  3  4]\n",
      " [ 5  6  7  8]\n",
      " [ 9 10 11 12]]\n"
     ]
    }
   ],
   "source": [
    "a  = np.array([[1,2,3,4],[5,6,7,8],[9,10,11,12]])\n",
    "print(a)"
   ]
  },
  {
   "cell_type": "code",
   "execution_count": 309,
   "id": "03b4021c",
   "metadata": {},
   "outputs": [
    {
     "data": {
      "text/plain": [
       "3.452052529534663"
      ]
     },
     "execution_count": 309,
     "metadata": {},
     "output_type": "execute_result"
    }
   ],
   "source": [
    "np.std(a)"
   ]
  },
  {
   "cell_type": "code",
   "execution_count": 310,
   "id": "6ac532a3",
   "metadata": {},
   "outputs": [
    {
     "data": {
      "text/plain": [
       "11.916666666666666"
      ]
     },
     "execution_count": 310,
     "metadata": {},
     "output_type": "execute_result"
    }
   ],
   "source": [
    "np.var(a)"
   ]
  },
  {
   "cell_type": "code",
   "execution_count": 218,
   "id": "4c5f33be",
   "metadata": {},
   "outputs": [
    {
     "data": {
      "text/plain": [
       "(12, 1, 11, 6.5, 6.5, 6.5, 3.452052529534663, 11.916666666666666)"
      ]
     },
     "execution_count": 218,
     "metadata": {},
     "output_type": "execute_result"
    }
   ],
   "source": [
    "np.amax(a),np.amin(a),np.ptp(a),np.mean(a),np.median(a),np.average(a),np.std(a),np.var(a)\n"
   ]
  },
  {
   "cell_type": "markdown",
   "id": "4e909d2b",
   "metadata": {},
   "source": [
    "# *numPy random*"
   ]
  },
  {
   "cell_type": "code",
   "execution_count": 1,
   "id": "73569a2e",
   "metadata": {},
   "outputs": [],
   "source": [
    "import numpy as np"
   ]
  },
  {
   "cell_type": "code",
   "execution_count": 318,
   "id": "f8392257",
   "metadata": {},
   "outputs": [
    {
     "data": {
      "text/plain": [
       "17"
      ]
     },
     "execution_count": 318,
     "metadata": {},
     "output_type": "execute_result"
    }
   ],
   "source": [
    "x = np.random.randint(50)\n",
    "x"
   ]
  },
  {
   "cell_type": "code",
   "execution_count": 352,
   "id": "e187f6b7",
   "metadata": {},
   "outputs": [
    {
     "data": {
      "text/plain": [
       "24"
      ]
     },
     "execution_count": 352,
     "metadata": {},
     "output_type": "execute_result"
    }
   ],
   "source": [
    "#x = np.random.randint(the statring point,the stoping point)\n",
    "#\n",
    "x = np.random.randint(5,50)\n",
    "x"
   ]
  },
  {
   "cell_type": "code",
   "execution_count": 358,
   "id": "fc70a5d4",
   "metadata": {},
   "outputs": [
    {
     "data": {
      "text/plain": [
       "array([20, 44, 36, 42, 41, 41])"
      ]
     },
     "execution_count": 358,
     "metadata": {},
     "output_type": "execute_result"
    }
   ],
   "source": [
    "x = np.random.randint(5,50,size = (6))\n",
    "x"
   ]
  },
  {
   "cell_type": "code",
   "execution_count": 360,
   "id": "0b5864ed",
   "metadata": {},
   "outputs": [
    {
     "data": {
      "text/plain": [
       "array([[ 8, 32, 17],\n",
       "       [35, 22,  7],\n",
       "       [29, 35, 44],\n",
       "       [48, 40, 21]])"
      ]
     },
     "execution_count": 360,
     "metadata": {},
     "output_type": "execute_result"
    }
   ],
   "source": [
    "x = np.random.randint(5,50,size = (4,3))\n",
    "#x = np.random.randint(5,50,size = (the coulmns,the row))#\n",
    "x"
   ]
  },
  {
   "cell_type": "code",
   "execution_count": 370,
   "id": "59e51f09",
   "metadata": {},
   "outputs": [
    {
     "data": {
      "text/plain": [
       "0.8156309847217145"
      ]
     },
     "execution_count": 370,
     "metadata": {},
     "output_type": "execute_result"
    }
   ],
   "source": [
    "# it's give us a random number between 0 and 1#\n",
    "b = np.random.rand()\n",
    "b"
   ]
  },
  {
   "cell_type": "code",
   "execution_count": 371,
   "id": "c3d7e9cc",
   "metadata": {},
   "outputs": [
    {
     "data": {
      "text/plain": [
       "array([0.37883744, 0.15082955, 0.75560943, 0.04465969, 0.56430808])"
      ]
     },
     "execution_count": 371,
     "metadata": {},
     "output_type": "execute_result"
    }
   ],
   "source": [
    "#b = np.random.rand(the number of items)\n",
    "\n",
    "b = np.random.rand(5)\n",
    "b"
   ]
  },
  {
   "cell_type": "code",
   "execution_count": 373,
   "id": "d0010311",
   "metadata": {},
   "outputs": [
    {
     "data": {
      "text/plain": [
       "array([[0.60153388, 0.56381185, 0.98026505],\n",
       "       [0.28951873, 0.57744242, 0.78306642]])"
      ]
     },
     "execution_count": 373,
     "metadata": {},
     "output_type": "execute_result"
    }
   ],
   "source": [
    "b = np.random.rand(2,3)\n",
    "b"
   ]
  },
  {
   "cell_type": "code",
   "execution_count": 377,
   "id": "7761fa9d",
   "metadata": {},
   "outputs": [
    {
     "data": {
      "text/plain": [
       "array([[[0.43886808, 0.80895033, 0.06203222, 0.14180647]],\n",
       "\n",
       "       [[0.33752336, 0.2344036 , 0.40102405, 0.00971139]]])"
      ]
     },
     "execution_count": 377,
     "metadata": {},
     "output_type": "execute_result"
    }
   ],
   "source": [
    "#b = np.random.rand(number of array,number of coulmns,number of items in array)\n",
    "\n",
    "b = np.random.rand(2,1,4)\n",
    "b"
   ]
  },
  {
   "cell_type": "code",
   "execution_count": 382,
   "id": "ad10e045",
   "metadata": {},
   "outputs": [
    {
     "data": {
      "text/plain": [
       "array([[[2, 3, 1],\n",
       "        [4, 2, 1],\n",
       "        [4, 1, 1],\n",
       "        [2, 2, 4]],\n",
       "\n",
       "       [[3, 3, 4],\n",
       "        [1, 1, 1],\n",
       "        [4, 2, 4],\n",
       "        [3, 1, 2]]])"
      ]
     },
     "execution_count": 382,
     "metadata": {},
     "output_type": "execute_result"
    }
   ],
   "source": [
    "x = np.random.choice([1,2,3,4],size = (2,4,3))\n",
    "x"
   ]
  },
  {
   "cell_type": "code",
   "execution_count": 3,
   "id": "d9f4eeda",
   "metadata": {},
   "outputs": [],
   "source": [
    "import numpy as np\n",
    "from numpy import random"
   ]
  },
  {
   "cell_type": "code",
   "execution_count": 13,
   "id": "d2e4130f",
   "metadata": {},
   "outputs": [
    {
     "data": {
      "text/plain": [
       "array([1, 5, 2, 4, 3])"
      ]
     },
     "execution_count": 13,
     "metadata": {},
     "output_type": "execute_result"
    }
   ],
   "source": [
    "x = np.array([1,2,3,4,5])\n",
    "random.shuffle(x)\n",
    "x"
   ]
  },
  {
   "cell_type": "code",
   "execution_count": 23,
   "id": "b39b048a",
   "metadata": {},
   "outputs": [
    {
     "data": {
      "text/plain": [
       "array([1, 2, 3, 4, 5])"
      ]
     },
     "execution_count": 23,
     "metadata": {},
     "output_type": "execute_result"
    }
   ],
   "source": [
    "x = np.array([1,2,3,4,5])\n",
    "random.permutation(x)\n",
    "x"
   ]
  },
  {
   "cell_type": "code",
   "execution_count": 21,
   "id": "3a414e9e",
   "metadata": {},
   "outputs": [],
   "source": [
    "import numpy as np\n",
    "import numpy.matlib as npm"
   ]
  },
  {
   "cell_type": "code",
   "execution_count": 22,
   "id": "f3a90a2e",
   "metadata": {},
   "outputs": [
    {
     "data": {
      "text/plain": [
       "matrix([[2.12199579e-314, 8.90104238e-307],\n",
       "        [3.67584841e-321, 1.23500155e-311]])"
      ]
     },
     "execution_count": 22,
     "metadata": {},
     "output_type": "execute_result"
    }
   ],
   "source": [
    "np.matlib.empty((2,2))"
   ]
  },
  {
   "cell_type": "code",
   "execution_count": 23,
   "id": "d324c330",
   "metadata": {},
   "outputs": [
    {
     "data": {
      "text/plain": [
       "matrix([[0., 0.],\n",
       "        [0., 0.]])"
      ]
     },
     "execution_count": 23,
     "metadata": {},
     "output_type": "execute_result"
    }
   ],
   "source": [
    "np.matlib.zeros((2,2))"
   ]
  },
  {
   "cell_type": "code",
   "execution_count": 24,
   "id": "597a51b2",
   "metadata": {},
   "outputs": [
    {
     "data": {
      "text/plain": [
       "matrix([[0., 0., 0.],\n",
       "        [0., 0., 0.]])"
      ]
     },
     "execution_count": 24,
     "metadata": {},
     "output_type": "execute_result"
    }
   ],
   "source": [
    "np.matlib.zeros((2,3))"
   ]
  },
  {
   "cell_type": "code",
   "execution_count": 25,
   "id": "309f3860",
   "metadata": {},
   "outputs": [
    {
     "data": {
      "text/plain": [
       "matrix([[1., 1., 1.],\n",
       "        [1., 1., 1.]])"
      ]
     },
     "execution_count": 25,
     "metadata": {},
     "output_type": "execute_result"
    }
   ],
   "source": [
    "np.matlib.ones((2,3))"
   ]
  },
  {
   "cell_type": "code",
   "execution_count": null,
   "id": "f57cc748",
   "metadata": {},
   "outputs": [],
   "source": [
    "#np.matlib.eye(n=3لتحديد عدد المصفوفات الداخلي, M=3 #لتحديد عدد العناصر,k=3 صفر القطر يكون في الرقم,dtype=int)"
   ]
  },
  {
   "cell_type": "code",
   "execution_count": 42,
   "id": "946913d0",
   "metadata": {},
   "outputs": [
    {
     "data": {
      "text/plain": [
       "matrix([[0, 0, 0],\n",
       "        [0, 0, 0],\n",
       "        [0, 0, 0]])"
      ]
     },
     "execution_count": 42,
     "metadata": {},
     "output_type": "execute_result"
    }
   ],
   "source": [
    "np.matlib.eye(n=3 ,M=3,k=3,dtype=int)"
   ]
  },
  {
   "cell_type": "code",
   "execution_count": 44,
   "id": "bdd0341e",
   "metadata": {},
   "outputs": [
    {
     "data": {
      "text/plain": [
       "matrix([[1., 0., 0.],\n",
       "        [0., 1., 0.],\n",
       "        [0., 0., 1.]])"
      ]
     },
     "execution_count": 44,
     "metadata": {},
     "output_type": "execute_result"
    }
   ],
   "source": [
    "np.matlib.identity(3)"
   ]
  },
  {
   "cell_type": "code",
   "execution_count": 45,
   "id": "408e9c00",
   "metadata": {},
   "outputs": [
    {
     "data": {
      "text/plain": [
       "matrix([[0.35420484, 0.32646477, 0.44751524, 0.56349645],\n",
       "        [0.67135326, 0.61564999, 0.94430327, 0.68596591],\n",
       "        [0.51472191, 0.10124857, 0.72661391, 0.83803061],\n",
       "        [0.09900135, 0.68785432, 0.28245781, 0.78779701],\n",
       "        [0.55278237, 0.87920934, 0.20435107, 0.3758315 ]])"
      ]
     },
     "execution_count": 45,
     "metadata": {},
     "output_type": "execute_result"
    }
   ],
   "source": [
    "np.matlib.rand(5,4)"
   ]
  },
  {
   "cell_type": "code",
   "execution_count": 46,
   "id": "d6bf2e4f",
   "metadata": {},
   "outputs": [
    {
     "data": {
      "text/plain": [
       "matrix([[1, 2, 3],\n",
       "        [4, 5, 6]])"
      ]
     },
     "execution_count": 46,
     "metadata": {},
     "output_type": "execute_result"
    }
   ],
   "source": [
    "np.matrix('1,2,3;4,5,6') #;يحدد الارقام الموجودة في كل مصفوفة "
   ]
  },
  {
   "cell_type": "code",
   "execution_count": 48,
   "id": "1e87110d",
   "metadata": {},
   "outputs": [
    {
     "data": {
      "text/plain": [
       "matrix([[1, 2, 3],\n",
       "        [4, 5, 6],\n",
       "        [7, 8, 9]])"
      ]
     },
     "execution_count": 48,
     "metadata": {},
     "output_type": "execute_result"
    }
   ],
   "source": [
    "np.matrix('1,2,3;4,5,6;7,8,9') #;يحدد الارقام الموجودة في كل مصفوفة "
   ]
  },
  {
   "cell_type": "markdown",
   "id": "0feb0d2d",
   "metadata": {},
   "source": [
    "### to change matrix to array"
   ]
  },
  {
   "cell_type": "code",
   "execution_count": 53,
   "id": "bef7fc37",
   "metadata": {},
   "outputs": [
    {
     "data": {
      "text/plain": [
       "matrix([[1, 2, 3],\n",
       "        [4, 5, 6],\n",
       "        [7, 8, 9]])"
      ]
     },
     "execution_count": 53,
     "metadata": {},
     "output_type": "execute_result"
    }
   ],
   "source": [
    "x = np.matrix('1,2,3;4,5,6;7,8,9')  \n",
    "x"
   ]
  },
  {
   "cell_type": "code",
   "execution_count": 58,
   "id": "836e350e",
   "metadata": {},
   "outputs": [
    {
     "data": {
      "text/plain": [
       "array([[1, 2, 3],\n",
       "       [4, 5, 6],\n",
       "       [7, 8, 9]])"
      ]
     },
     "execution_count": 58,
     "metadata": {},
     "output_type": "execute_result"
    }
   ],
   "source": [
    "y = np.asarray(x)\n",
    "y"
   ]
  },
  {
   "cell_type": "code",
   "execution_count": 60,
   "id": "1f910c8d",
   "metadata": {},
   "outputs": [
    {
     "data": {
      "text/plain": [
       "matrix([[1, 2, 3],\n",
       "        [4, 5, 6],\n",
       "        [7, 8, 9]])"
      ]
     },
     "execution_count": 60,
     "metadata": {},
     "output_type": "execute_result"
    }
   ],
   "source": [
    "np.asmatrix(y)"
   ]
  },
  {
   "cell_type": "markdown",
   "id": "c8dda5d3",
   "metadata": {},
   "source": [
    "# numpy array order"
   ]
  },
  {
   "cell_type": "code",
   "execution_count": 1,
   "id": "f5349deb",
   "metadata": {},
   "outputs": [],
   "source": [
    "import numpy as np"
   ]
  },
  {
   "cell_type": "code",
   "execution_count": 2,
   "id": "54fdff16",
   "metadata": {},
   "outputs": [
    {
     "data": {
      "text/plain": [
       "array([0, 1, 4, 6])"
      ]
     },
     "execution_count": 2,
     "metadata": {},
     "output_type": "execute_result"
    }
   ],
   "source": [
    "a = np.array([1,4,6,0])\n",
    "np.sort(a)"
   ]
  },
  {
   "cell_type": "code",
   "execution_count": 3,
   "id": "4ced44d9",
   "metadata": {},
   "outputs": [
    {
     "data": {
      "text/plain": [
       "array(['ahmad', 'khlad', 'omar'], dtype='<U5')"
      ]
     },
     "execution_count": 3,
     "metadata": {},
     "output_type": "execute_result"
    }
   ],
   "source": [
    "b = np.array(['omar','ahmad','khlad'])\n",
    "np.sort(b)"
   ]
  },
  {
   "cell_type": "code",
   "execution_count": 4,
   "id": "d71942f7",
   "metadata": {},
   "outputs": [
    {
     "data": {
      "text/plain": [
       "array([False,  True,  True])"
      ]
     },
     "execution_count": 4,
     "metadata": {},
     "output_type": "execute_result"
    }
   ],
   "source": [
    "n = np.array([True,True,False])\n",
    "np.sort(n)\n",
    "#الرتيب كما هو متعارفه عليه ان الاندكس يبدا من صفر في بتالي الخطاء بصفر والصح بواحد#"
   ]
  },
  {
   "cell_type": "code",
   "execution_count": 5,
   "id": "5172563d",
   "metadata": {},
   "outputs": [
    {
     "data": {
      "text/plain": [
       "array([[15, 16, 20],\n",
       "       [ 0,  1,  6]])"
      ]
     },
     "execution_count": 5,
     "metadata": {},
     "output_type": "execute_result"
    }
   ],
   "source": [
    "c = np.array([[20,15,16,],[1,6,0]])\n",
    "np.sort(c)\n",
    "#كنت اتوقع انه يرتب كلا المصفوفتين اجمالي  لكن هو عامل كل مصفوفة لوحدها ورتبها#"
   ]
  },
  {
   "cell_type": "code",
   "execution_count": 6,
   "id": "7f72d6e0",
   "metadata": {},
   "outputs": [
    {
     "name": "stdout",
     "output_type": "stream",
     "text": [
      "[[15 16 20]\n",
      " [ 0  1  6]]\n"
     ]
    }
   ],
   "source": [
    "c = np.array([[20,15,16,],[1,6,0]])\n",
    "print(np.sort(c))"
   ]
  },
  {
   "cell_type": "code",
   "execution_count": 14,
   "id": "f802aaec",
   "metadata": {},
   "outputs": [
    {
     "data": {
      "text/plain": [
       "(array([1, 3, 5], dtype=int64),)"
      ]
     },
     "execution_count": 14,
     "metadata": {},
     "output_type": "execute_result"
    }
   ],
   "source": [
    "a = np.array([1,5,6,5,7,5])\n",
    "np.where(a == 5)\n",
    "\n"
   ]
  },
  {
   "cell_type": "code",
   "execution_count": 15,
   "id": "29536a71",
   "metadata": {},
   "outputs": [
    {
     "data": {
      "text/plain": [
       "(array([0, 1, 3, 4, 5], dtype=int64),)"
      ]
     },
     "execution_count": 15,
     "metadata": {},
     "output_type": "execute_result"
    }
   ],
   "source": [
    "a = np.array([1,5,6,5,7,5])\n",
    "np.where(a % 2 == 1)\n",
    "\n"
   ]
  },
  {
   "cell_type": "code",
   "execution_count": 26,
   "id": "df2a0058",
   "metadata": {},
   "outputs": [
    {
     "data": {
      "text/plain": [
       "1"
      ]
     },
     "execution_count": 26,
     "metadata": {},
     "output_type": "execute_result"
    }
   ],
   "source": [
    "a = np.array([1,5,6,5,7,5])\n",
    "np.searchsorted(a, 5,side='left')\n",
    "\n"
   ]
  },
  {
   "cell_type": "code",
   "execution_count": 30,
   "id": "38744525",
   "metadata": {},
   "outputs": [
    {
     "data": {
      "text/plain": [
       "array([0, 6, 1, 6], dtype=int64)"
      ]
     },
     "execution_count": 30,
     "metadata": {},
     "output_type": "execute_result"
    }
   ],
   "source": [
    "a = np.array([1,5,6,5,7,5])\n",
    "np.searchsorted(a,[1,6,5,7])\n",
    "#اندكس العنصر الاخير واللي قبله واحد ليه#\n"
   ]
  },
  {
   "cell_type": "code",
   "execution_count": 41,
   "id": "09e36d1f",
   "metadata": {},
   "outputs": [
    {
     "name": "stdout",
     "output_type": "stream",
     "text": [
      "[1 2 3]\n",
      "[4 5]\n",
      "[6 7]\n",
      "[8 9]\n"
     ]
    }
   ],
   "source": [
    " b = np.array([1,2,3,4,5,6,7,8,9])\n",
    "new = np.array_split(b,4)\n",
    "print(new[0])\n",
    "print(new[1])\n",
    "print(new[2])\n",
    "print(new[3])\n"
   ]
  },
  {
   "cell_type": "code",
   "execution_count": 12,
   "id": "8a191527",
   "metadata": {},
   "outputs": [
    {
     "name": "stdout",
     "output_type": "stream",
     "text": [
      "[[ 1]\n",
      " [ 4]\n",
      " [ 7]\n",
      " [10]]\n"
     ]
    }
   ],
   "source": [
    "b = np.array([[1,2,3],[4,5,6],[7,8,9],[10,11,12]])\n",
    "new = np.array_split(b,4,axis=1)\n",
    "print(new[0])\n"
   ]
  },
  {
   "cell_type": "code",
   "execution_count": 16,
   "id": "e741b1b1",
   "metadata": {},
   "outputs": [
    {
     "name": "stdout",
     "output_type": "stream",
     "text": [
      "[[ 1]\n",
      " [ 4]\n",
      " [ 7]\n",
      " [10]]\n"
     ]
    }
   ],
   "source": [
    "b = np.array([[1,2,3],[4,5,6],[7,8,9],[10,11,12]])\n",
    "new = np.hsplit(b,3)\n",
    "print(new[0])\n"
   ]
  },
  {
   "cell_type": "code",
   "execution_count": 33,
   "id": "57c569cb",
   "metadata": {},
   "outputs": [
    {
     "name": "stdout",
     "output_type": "stream",
     "text": [
      "[[1 2 3]\n",
      " [4 5 6]]\n"
     ]
    }
   ],
   "source": [
    "b = np.array([[1,2,3],[4,5,6],[7,8,9],[10,11,12],[13,14,15],[16,17,18]])\n",
    "new = np.vsplit(b,3)\n",
    "print(new[0])\n"
   ]
  },
  {
   "cell_type": "code",
   "execution_count": 35,
   "id": "9b4bdbfe",
   "metadata": {},
   "outputs": [],
   "source": [
    "a1 = np.array([1,2,3])\n",
    "a2 = np.array([4,5,6])\n",
    "arr = np.concatenate((a1,a2))"
   ]
  },
  {
   "cell_type": "code",
   "execution_count": 36,
   "id": "2a9de97e",
   "metadata": {},
   "outputs": [
    {
     "data": {
      "text/plain": [
       "array([1, 2, 3, 4, 5, 6])"
      ]
     },
     "execution_count": 36,
     "metadata": {},
     "output_type": "execute_result"
    }
   ],
   "source": [
    "arr"
   ]
  },
  {
   "cell_type": "code",
   "execution_count": 43,
   "id": "72ed7ca9",
   "metadata": {},
   "outputs": [
    {
     "data": {
      "text/plain": [
       "array([[1, 2],\n",
       "       [3, 4],\n",
       "       [5, 6],\n",
       "       [7, 8]])"
      ]
     },
     "execution_count": 43,
     "metadata": {},
     "output_type": "execute_result"
    }
   ],
   "source": [
    "b1 = np.array([[1,2],[3,4]])\n",
    "b2 = np.array([[5,6],[7,8]])\n",
    "vrr = np.concatenate((b1,b2))\n",
    "vrr"
   ]
  },
  {
   "cell_type": "code",
   "execution_count": 52,
   "id": "5847a8aa",
   "metadata": {},
   "outputs": [],
   "source": [
    "b1 = np.array([[1,2],[3,4]])\n",
    "b2 = np.array([[5,6],[7,8]])\n",
    "brr = np.concatenate((b1,b2),axis=0)\n",
    "# صفر ادمج صف واحد ادمجهم عمود #"
   ]
  },
  {
   "cell_type": "code",
   "execution_count": 53,
   "id": "f9bccd01",
   "metadata": {},
   "outputs": [
    {
     "data": {
      "text/plain": [
       "array([[1, 2],\n",
       "       [3, 4],\n",
       "       [5, 6],\n",
       "       [7, 8]])"
      ]
     },
     "execution_count": 53,
     "metadata": {},
     "output_type": "execute_result"
    }
   ],
   "source": [
    "brr"
   ]
  },
  {
   "cell_type": "code",
   "execution_count": 71,
   "id": "7d4b96c2",
   "metadata": {},
   "outputs": [],
   "source": [
    "b1 = np.array([1,2,4])\n",
    "b2 = np.array([5,7,8])\n",
    "brr = np.stack((b1,b2),axis=0)"
   ]
  },
  {
   "cell_type": "code",
   "execution_count": 72,
   "id": "cbbc6567",
   "metadata": {},
   "outputs": [
    {
     "data": {
      "text/plain": [
       "array([[1, 2, 4],\n",
       "       [5, 7, 8]])"
      ]
     },
     "execution_count": 72,
     "metadata": {},
     "output_type": "execute_result"
    }
   ],
   "source": [
    "brr"
   ]
  },
  {
   "cell_type": "code",
   "execution_count": 69,
   "id": "2a59d2db",
   "metadata": {},
   "outputs": [],
   "source": [
    "b1 = np.array([1,2,4])\n",
    "b2 = np.array([5,7,8])\n",
    "brr = np.hstack((b1,b2))"
   ]
  },
  {
   "cell_type": "code",
   "execution_count": 70,
   "id": "11211ff4",
   "metadata": {},
   "outputs": [
    {
     "data": {
      "text/plain": [
       "array([1, 2, 4, 5, 7, 8])"
      ]
     },
     "execution_count": 70,
     "metadata": {},
     "output_type": "execute_result"
    }
   ],
   "source": [
    "brr"
   ]
  },
  {
   "cell_type": "code",
   "execution_count": 73,
   "id": "259bd546",
   "metadata": {},
   "outputs": [],
   "source": [
    "b1 = np.array([1,2,4])\n",
    "b2 = np.array([5,7,8])\n",
    "brr = np.vstack((b1,b2))"
   ]
  },
  {
   "cell_type": "code",
   "execution_count": 74,
   "id": "04d28614",
   "metadata": {},
   "outputs": [
    {
     "data": {
      "text/plain": [
       "array([[1, 2, 4],\n",
       "       [5, 7, 8]])"
      ]
     },
     "execution_count": 74,
     "metadata": {},
     "output_type": "execute_result"
    }
   ],
   "source": [
    "brr"
   ]
  },
  {
   "cell_type": "code",
   "execution_count": 75,
   "id": "5a2cb0e1",
   "metadata": {},
   "outputs": [],
   "source": [
    "b1 = np.array([1,2,4])\n",
    "b2 = np.array([5,7,8])\n",
    "brr = np.dstack((b1,b2))\n",
    "# الدي ترمز الى القطر#"
   ]
  },
  {
   "cell_type": "code",
   "execution_count": 76,
   "id": "4424ccf2",
   "metadata": {},
   "outputs": [
    {
     "data": {
      "text/plain": [
       "array([[[1, 5],\n",
       "        [2, 7],\n",
       "        [4, 8]]])"
      ]
     },
     "execution_count": 76,
     "metadata": {},
     "output_type": "execute_result"
    }
   ],
   "source": [
    "brr"
   ]
  },
  {
   "cell_type": "markdown",
   "id": "912a96dd",
   "metadata": {},
   "source": [
    "# *NmuPy with file*"
   ]
  },
  {
   "cell_type": "code",
   "execution_count": 77,
   "id": "d872a15e",
   "metadata": {},
   "outputs": [],
   "source": [
    "import numpy as np "
   ]
  },
  {
   "cell_type": "code",
   "execution_count": 78,
   "id": "8957cbd8",
   "metadata": {},
   "outputs": [],
   "source": [
    "a = np.array([1,2,3,4,5,6,7])\n",
    "np.save('numpy with file',a)"
   ]
  },
  {
   "cell_type": "code",
   "execution_count": 79,
   "id": "8d392a90",
   "metadata": {},
   "outputs": [
    {
     "name": "stdout",
     "output_type": "stream",
     "text": [
      "[1 2 3 4 5 6 7]\n"
     ]
    }
   ],
   "source": [
    "b = np.load('numpy with file.npy')\n",
    "print(b)"
   ]
  },
  {
   "cell_type": "code",
   "execution_count": 82,
   "id": "f0a12f84",
   "metadata": {},
   "outputs": [],
   "source": [
    "a = np.array([1,2,3,4,5,6,7])\n",
    "np.savetxt('names.txt',a)"
   ]
  },
  {
   "cell_type": "code",
   "execution_count": 84,
   "id": "28db0027",
   "metadata": {},
   "outputs": [
    {
     "name": "stdout",
     "output_type": "stream",
     "text": [
      "[1. 2. 3. 4. 5. 6. 7.]\n"
     ]
    }
   ],
   "source": [
    "d= np.loadtxt('names.txt')\n",
    "print(d)"
   ]
  },
  {
   "cell_type": "code",
   "execution_count": 88,
   "id": "0b868e2b",
   "metadata": {},
   "outputs": [],
   "source": [
    "\n",
    "#h = np.array([\"omar\",\"khlad\",\"saad\",\"sara\",\"jood\",\"yazd\",\"saeed\"])\n",
    "#np.savetxt('nameof.txt',h)"
   ]
  },
  {
   "cell_type": "code",
   "execution_count": 89,
   "id": "86e96843",
   "metadata": {},
   "outputs": [],
   "source": [
    "#d= np.loadtxt('nameof.txt')\n",
    "#print(d)"
   ]
  },
  {
   "cell_type": "markdown",
   "id": "f8f83054",
   "metadata": {},
   "source": [
    "# graph\n"
   ]
  },
  {
   "cell_type": "code",
   "execution_count": 90,
   "id": "9789ce8e",
   "metadata": {},
   "outputs": [],
   "source": [
    "import numpy as np\n",
    "import matplotlib.pyplot as plt"
   ]
  },
  {
   "cell_type": "code",
   "execution_count": 95,
   "id": "b6a6cf6c",
   "metadata": {},
   "outputs": [
    {
     "data": {
      "image/png": "[encoded data removed]",
      "text/plain": [
       "<Figure size 432x288 with 1 Axes>"
      ]
     },
     "metadata": {
      "needs_background": "light"
     },
     "output_type": "display_data"
    }
   ],
   "source": [
    "x = np.arange(1,10)\n",
    "y  = 2* x +5\n",
    "plt.title('matplotlib grapg')\n",
    "plt.xlabel('x axis')\n",
    "plt.ylabel(' y axis')\n",
    "plt.plot(x,y,'ob')\n",
    "plt.show()"
   ]
  },
  {
   "cell_type": "code",
   "execution_count": null,
   "id": "29ea10ca",
   "metadata": {},
   "outputs": [],
   "source": []
  }
 ],
 "metadata": {
  "kernelspec": {
   "display_name": "Python 3",
   "language": "python",
   "name": "python3"
  },
  "language_info": {
   "codemirror_mode": {
    "name": "ipython",
    "version": 3
   },
   "file_extension": ".py",
   "mimetype": "text/x-python",
   "name": "python",
   "nbconvert_exporter": "python",
   "pygments_lexer": "ipython3",
   "version": "3.8.8"
  }
 },
 "nbformat": 4,
 "nbformat_minor": 5
}
