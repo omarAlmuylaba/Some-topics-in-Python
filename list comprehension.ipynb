{
 "cells": [
  {
   "cell_type": "code",
   "execution_count": 1,
   "id": "139a856c",
   "metadata": {},
   "outputs": [
    {
     "name": "stdout",
     "output_type": "stream",
     "text": [
      "['pass', 'fil', 'pass', 'pass', 'fil', 'pass']\n"
     ]
    }
   ],
   "source": [
    "grades = [90, 55, 70, 88, 44, 77]\n",
    "chekgr=[\"pass\" if n >= 70 else \"fil\" for n in grades]\n",
    "print(chekgr)"
   ]
  },
  {
   "cell_type": "code",
   "execution_count": 22,
   "id": "f7b6674f",
   "metadata": {},
   "outputs": [
    {
     "name": "stdout",
     "output_type": "stream",
     "text": [
      "[0, 5, 10, 15, 20, 25, 30, 35, 40, 45]\n"
     ]
    }
   ],
   "source": [
    "lst = [c*5 for c in range(0,10)]\n",
    "print(lst)"
   ]
  },
  {
   "cell_type": "code",
   "execution_count": null,
   "id": "771d014d",
   "metadata": {},
   "outputs": [],
   "source": [
    "l6 = [x*3 for x in range(0, 11, 2)]\n",
    "print(l6)"
   ]
  },
  {
   "cell_type": "code",
   "execution_count": 23,
   "id": "24e0390a",
   "metadata": {},
   "outputs": [
    {
     "name": "stdout",
     "output_type": "stream",
     "text": [
      "[0, 2, 4, 6, 8, 10]\n"
     ]
    }
   ],
   "source": [
    "l5 = [x for x in range(0, 11, 2)]\n",
    "print(l5)"
   ]
  },
  {
   "cell_type": "code",
   "execution_count": null,
   "id": "e7ffdb44",
   "metadata": {},
   "outputs": [],
   "source": [
    "l7 = [x*3 for x in range(11) if x%2==0]\n",
    "print(l7)"
   ]
  },
  {
   "cell_type": "code",
   "execution_count": 24,
   "id": "987f7771",
   "metadata": {},
   "outputs": [
    {
     "name": "stdout",
     "output_type": "stream",
     "text": [
      "False\n"
     ]
    }
   ],
   "source": [
    "lst101=[33,2, 4, 8, 10]\n",
    "\n",
    "print( 7 in lst101)"
   ]
  },
  {
   "cell_type": "code",
   "execution_count": 25,
   "id": "fdb8eb39",
   "metadata": {},
   "outputs": [
    {
     "name": "stdout",
     "output_type": "stream",
     "text": [
      "[11, 13, 15, 17, 19]\n"
     ]
    }
   ],
   "source": [
    "ll = [c*1 for c in range(0,20) if c%2==1 and c >= 10]\n",
    "print(ll)"
   ]
  },
  {
   "cell_type": "code",
   "execution_count": 26,
   "id": "1dfcd622",
   "metadata": {},
   "outputs": [
    {
     "name": "stdout",
     "output_type": "stream",
     "text": [
      "[1, 4, 9, 8, 25, 12, 49, 16, 81]\n"
     ]
    }
   ],
   "source": [
    "ls = [n*2 if n%2==0 else n**2  for n in range(1,10) ]\n",
    "print(ls)"
   ]
  },
  {
   "cell_type": "code",
   "execution_count": 27,
   "id": "1b40b51f",
   "metadata": {},
   "outputs": [
    {
     "name": "stdout",
     "output_type": "stream",
     "text": [
      "['two']\n"
     ]
    }
   ],
   "source": [
    " my_list = [\"one\",\"two\",\"three\"]\n",
    "v= [(i) for i in my_list if i==\"two\"]\n",
    "print(v)"
   ]
  },
  {
   "cell_type": "code",
   "execution_count": 3,
   "id": "52fb3462",
   "metadata": {},
   "outputs": [
    {
     "name": "stdout",
     "output_type": "stream",
     "text": [
      "[4, 8, 12, 16, 20]\n"
     ]
    }
   ],
   "source": [
    "print([num*2 for num in [2,4,6,8,10]]) \n"
   ]
  },
  {
   "cell_type": "code",
   "execution_count": 4,
   "id": "18994d52",
   "metadata": {},
   "outputs": [
    {
     "name": "stdout",
     "output_type": "stream",
     "text": [
      "[180, 165, 199]\n"
     ]
    }
   ],
   "source": [
    "heights = [144, 180, 165, 120, 199]\n",
    "tall = [h for h in heights if h > 160]\n",
    "print(tall)\n"
   ]
  },
  {
   "cell_type": "code",
   "execution_count": 5,
   "id": "d3c85eaa",
   "metadata": {},
   "outputs": [
    {
     "name": "stdout",
     "output_type": "stream",
     "text": [
      "['even', 'odd', 'even', 'odd', 'even', 'odd', 'even', 'odd', 'even', 'odd']\n"
     ]
    }
   ],
   "source": [
    "nums = list(range(10))\n",
    "num_classes = ['even' if num%2 == 0 else 'odd' for num in nums]\n",
    "print(num_classes)"
   ]
  },
  {
   "cell_type": "code",
   "execution_count": 6,
   "id": "e89609ac",
   "metadata": {},
   "outputs": [
    {
     "name": "stdout",
     "output_type": "stream",
     "text": [
      "[5, 6, 7, 8, 9]\n"
     ]
    }
   ],
   "source": [
    "num = [i for i in range(10) if i>=5]\n",
    "print(num)\n"
   ]
  },
  {
   "cell_type": "code",
   "execution_count": 23,
   "id": "1a274e00",
   "metadata": {},
   "outputs": [
    {
     "name": "stdout",
     "output_type": "stream",
     "text": [
      "[3, 6, 9, 12, 15, 18, 21, 24, 27]\n"
     ]
    }
   ],
   "source": [
    "num = [i*3 for i in range(1,10,1)]\n",
    "print(num)"
   ]
  },
  {
   "cell_type": "code",
   "execution_count": 19,
   "id": "881e9f24",
   "metadata": {},
   "outputs": [
    {
     "name": "stdout",
     "output_type": "stream",
     "text": [
      "[' not odd 1', 'odd 2', ' not odd 3', 'odd 4', ' not odd 5', 'odd 6', ' not odd 7', 'odd 8', ' not odd 9', 'odd 10']\n"
     ]
    }
   ],
   "source": [
    "fruits = [\"odd {}\".format(i) if i%2==0 else \" not odd {}\".format(i) for i in range(1,11)]\n",
    "print(fruits)"
   ]
  },
  {
   "cell_type": "code",
   "execution_count": 20,
   "id": "23f71d0e",
   "metadata": {},
   "outputs": [
    {
     "name": "stdout",
     "output_type": "stream",
     "text": [
      "['1 It is odd', '4 is even', '7 It is odd', '12 is even', '19 It is odd', '22 is even', '23 It is odd', '26 is even']\n"
     ]
    }
   ],
   "source": [
    "some_list = [1,4,7,12,19,22, 23, 26]\n",
    "new_list = [\"{} is even\".format(i) if(i%2==0) else \"{} It is odd\".format(i) for i in some_list]\n",
    "print(new_list)"
   ]
  },
  {
   "cell_type": "code",
   "execution_count": null,
   "id": "0f1af4af",
   "metadata": {},
   "outputs": [],
   "source": [
    "\n",
    "for i in range(2,4):\n",
    "        for j in range(1,5):\n",
    "               print(f\"{i}+{j}={i+j}\")"
   ]
  },
  {
   "cell_type": "code",
   "execution_count": 2,
   "id": "1f09db25",
   "metadata": {},
   "outputs": [
    {
     "name": "stdout",
     "output_type": "stream",
     "text": [
      "[50, 22, 9, 16, 4]\n"
     ]
    }
   ],
   "source": [
    "lsist1=[50,22,3,4,2]\n",
    "o=[]\n",
    "#res1=[o.append(i) if i >= 20  else o.append(i**2),lsist1]\n",
    "res1=[o.append(i) if i >= 20  else o.append(i**2)for i in lsist1]\n",
    "\n",
    "print(o)"
   ]
  },
  {
   "cell_type": "code",
   "execution_count": null,
   "id": "1c732e4f",
   "metadata": {},
   "outputs": [],
   "source": [
    "transpose = []\n",
    "for i in range(4):\n",
    "    # The next 3 lines are for nested list compression\n",
    "    transpose_row = []\n",
    "    for row in someMatrix:\n",
    "        transpose_row.append(row[i])\n",
    "    transpose.append(transpose_row)\n",
    "print(transpose)"
   ]
  },
  {
   "cell_type": "code",
   "execution_count": null,
   "id": "4b46a3c5",
   "metadata": {},
   "outputs": [],
   "source": [
    "someMatrix = [\n",
    "    [3, 5, 1, 6],\n",
    "    [1, 0, 9, 5],\n",
    "    [4, 14, 22, 17],\n",
    "]\n",
    "transpose = [[row[i] for row in someMatrix] for i in range(len(someMatrix[0]))]\n",
    "print(transpose) # [[3, 1, 4], [5, 0, 14], [1, 9, 22], [6, 5, 17]]"
   ]
  }
 ],
 "metadata": {
  "kernelspec": {
   "display_name": "Python 3",
   "language": "python",
   "name": "python3"
  },
  "language_info": {
   "codemirror_mode": {
    "name": "ipython",
    "version": 3
   },
   "file_extension": ".py",
   "mimetype": "text/x-python",
   "name": "python",
   "nbconvert_exporter": "python",
   "pygments_lexer": "ipython3",
   "version": "3.8.8"
  }
 },
 "nbformat": 4,
 "nbformat_minor": 5
}
