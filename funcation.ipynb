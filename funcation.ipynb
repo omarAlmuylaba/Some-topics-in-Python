{
 "cells": [
  {
   "cell_type": "code",
   "execution_count": null,
   "id": "3bbf329e",
   "metadata": {},
   "outputs": [],
   "source": [
    "def most_freq(List):\n",
    "    ot = collections.Counter(List)\n",
    "    print(\"The count is: \", ot.most_common(1)[0][1])\n",
    "    return ot.most_common(1)[0][0]\n",
    "# The most_common function returns a 2D list with 1 row and 2 cols\n",
    "# [0][0] contains the most frequent number\n",
    "# [0][1] contins the count of the most frequent number \n",
    "L1 = [1, 2, 2, 3, 1, 4, 2, 2]\n",
    "print(\"The most frequent number is: \", most_freq(L1))"
   ]
  },
  {
   "cell_type": "code",
   "execution_count": 4,
   "id": "9de57625",
   "metadata": {},
   "outputs": [
    {
     "ename": "NameError",
     "evalue": "name 'ist' is not defined",
     "output_type": "error",
     "traceback": [
      "\u001b[1;31m---------------------------------------------------------------------------\u001b[0m",
      "\u001b[1;31mNameError\u001b[0m                                 Traceback (most recent call last)",
      "\u001b[1;32m<ipython-input-4-5b881fbe4fd8>\u001b[0m in \u001b[0;36m<module>\u001b[1;34m\u001b[0m\n\u001b[0;32m      4\u001b[0m  \u001b[1;32mreturn\u001b[0m \u001b[0mmax\u001b[0m\u001b[1;33m(\u001b[0m\u001b[0mist\u001b[0m\u001b[1;33m)\u001b[0m\u001b[1;33m\u001b[0m\u001b[1;33m\u001b[0m\u001b[0m\n\u001b[0;32m      5\u001b[0m \u001b[1;33m\u001b[0m\u001b[0m\n\u001b[1;32m----> 6\u001b[1;33m \u001b[0mprint\u001b[0m\u001b[1;33m(\u001b[0m\u001b[0mfeu\u001b[0m\u001b[1;33m(\u001b[0m\u001b[1;36m10\u001b[0m\u001b[1;33m,\u001b[0m\u001b[1;36m20\u001b[0m\u001b[1;33m,\u001b[0m\u001b[1;36m45\u001b[0m\u001b[1;33m)\u001b[0m\u001b[1;33m)\u001b[0m\u001b[1;33m\u001b[0m\u001b[1;33m\u001b[0m\u001b[0m\n\u001b[0m",
      "\u001b[1;32m<ipython-input-4-5b881fbe4fd8>\u001b[0m in \u001b[0;36mfeu\u001b[1;34m(*args)\u001b[0m\n\u001b[0;32m      2\u001b[0m \u001b[1;33m\u001b[0m\u001b[0m\n\u001b[0;32m      3\u001b[0m \u001b[1;32mdef\u001b[0m \u001b[0mfeu\u001b[0m\u001b[1;33m(\u001b[0m\u001b[1;33m*\u001b[0m\u001b[0margs\u001b[0m\u001b[1;33m)\u001b[0m\u001b[1;33m:\u001b[0m\u001b[1;33m\u001b[0m\u001b[1;33m\u001b[0m\u001b[0m\n\u001b[1;32m----> 4\u001b[1;33m  \u001b[1;32mreturn\u001b[0m \u001b[0mmax\u001b[0m\u001b[1;33m(\u001b[0m\u001b[0mist\u001b[0m\u001b[1;33m)\u001b[0m\u001b[1;33m\u001b[0m\u001b[1;33m\u001b[0m\u001b[0m\n\u001b[0m\u001b[0;32m      5\u001b[0m \u001b[1;33m\u001b[0m\u001b[0m\n\u001b[0;32m      6\u001b[0m \u001b[0mprint\u001b[0m\u001b[1;33m(\u001b[0m\u001b[0mfeu\u001b[0m\u001b[1;33m(\u001b[0m\u001b[1;36m10\u001b[0m\u001b[1;33m,\u001b[0m\u001b[1;36m20\u001b[0m\u001b[1;33m,\u001b[0m\u001b[1;36m45\u001b[0m\u001b[1;33m)\u001b[0m\u001b[1;33m)\u001b[0m\u001b[1;33m\u001b[0m\u001b[1;33m\u001b[0m\u001b[0m\n",
      "\u001b[1;31mNameError\u001b[0m: name 'ist' is not defined"
     ]
    }
   ],
   "source": [
    "    L1 = [1, 2, 2, 3, 1, 4, 2]\n",
    "\n",
    "def feu(ist):\n",
    "     return mode(ist)\n",
    "\n",
    "print(feu(L1))"
   ]
  },
  {
   "cell_type": "code",
   "execution_count": null,
   "id": "1cbc2746",
   "metadata": {},
   "outputs": [],
   "source": [
    "def near_thousand(n):\n",
    "    return ((abs(1000 - n) <= 100) or (abs(2000 - n) <= 100))\n",
    "print(near_thousand(2000))"
   ]
  },
  {
   "cell_type": "code",
   "execution_count": null,
   "id": "e3863934",
   "metadata": {},
   "outputs": [],
   "source": [
    "def accp(tal,wig,nat):\n",
    "    if tal >=170 and wig >=60 and wig <=80 and nat == \"saudi\":\n",
    "        print(\"you are pass the first step\")\n",
    "    else:\n",
    "        print(\"fail\")\n",
    "x = int(input(\"tall\"))\n",
    "y = int(input(\"weght\"))\n",
    "c = str(input(\"nanalt\"))\n",
    "\n",
    "print(accp(x,y,c))"
   ]
  },
  {
   "cell_type": "code",
   "execution_count": null,
   "id": "8dec0e56",
   "metadata": {},
   "outputs": [],
   "source": [
    "def ccT(sal):\n",
    "    tax = 0\n",
    "    if sal >=20000:\n",
    "        tax = sal*0.10\n",
    "    elif sal >=10000:\n",
    "        tax = sal*0.05\n",
    "    else:\n",
    "        tax = 0\n",
    "    return sal - tax      \n",
    "c = int(input(\"your salary\"))\n",
    "print(ccT(c))"
   ]
  },
  {
   "cell_type": "code",
   "execution_count": null,
   "id": "f0eb7ddb",
   "metadata": {},
   "outputs": [],
   "source": [
    "#The follwoing function does accept two values \n",
    "# and return the sum, subtraction, multiplication and division\n",
    "def arthOperation(n1, n2):\n",
    "    sum = n1 + n2\n",
    "    sub = n1 - n2\n",
    "    mult = n1 * n2\n",
    "    div = n1/n2\n",
    "    return sum, sub, mult, div"
   ]
  },
  {
   "cell_type": "code",
   "execution_count": null,
   "id": "3b6bb600",
   "metadata": {},
   "outputs": [],
   "source": [
    "arthOperation(10,5)"
   ]
  },
  {
   "cell_type": "code",
   "execution_count": null,
   "id": "70fb6ad8",
   "metadata": {},
   "outputs": [],
   "source": [
    "def mult2(x, y):\n",
    "    zz = x * y\n",
    "    return zz\n",
    "mult2(5, 7)"
   ]
  },
  {
   "cell_type": "code",
   "execution_count": null,
   "id": "949d2237",
   "metadata": {},
   "outputs": [],
   "source": [
    "def checkElements(lst):\n",
    "    ## write your code here\n",
    "    slst = set(lst)\n",
    "    if(len(slst) == 1):\n",
    "        return(\"List elements are same\")\n",
    "\n",
    "    else:\n",
    "        return(\"List elements are different\")"
   ]
  },
  {
   "cell_type": "code",
   "execution_count": null,
   "id": "799f311c",
   "metadata": {},
   "outputs": [],
   "source": [
    "print(checkElements([1,1,1,1]))\n"
   ]
  },
  {
   "cell_type": "code",
   "execution_count": 1,
   "id": "2e293b3e",
   "metadata": {},
   "outputs": [
    {
     "name": "stdout",
     "output_type": "stream",
     "text": [
      "52\n"
     ]
    }
   ],
   "source": [
    "\n",
    "def check_odd(x):\n",
    "    \n",
    "    return x%2!=0\n",
    "\n",
    "numbers = [11, 2, 44, 54, 5, 16, 17, 8, 19]\n",
    "\n",
    "vla = [n for n in numbers if check_odd(n)]\n",
    "\n",
    "print(sum(vla))"
   ]
  },
  {
   "cell_type": "code",
   "execution_count": 2,
   "id": "d018155f",
   "metadata": {},
   "outputs": [
    {
     "name": "stdout",
     "output_type": "stream",
     "text": [
      "[4, 14, 24, 34, 40, 41, 42, 43, 44, 45, 46, 47, 48, 49, 54, 64, 74, 84, 94]\n"
     ]
    }
   ],
   "source": [
    "def Q19():\n",
    "    \n",
    "    a = list(range(2, 101)) \n",
    "    \n",
    "    b = str(4)\n",
    "    \n",
    "    reslut = [x for x in a if b in str(x)]\n",
    "    \n",
    "    print(reslut)\n",
    "\n",
    "   \n",
    "call = Q19()"
   ]
  },
  {
   "cell_type": "code",
   "execution_count": 2,
   "id": "cff06865",
   "metadata": {},
   "outputs": [
    {
     "name": "stdout",
     "output_type": "stream",
     "text": [
      "Not present\n",
      "Not present\n"
     ]
    }
   ],
   "source": [
    "#Q20-B\n",
    "\n",
    "\n",
    "dic = {1: 4, 2: 8, 3: 3, 4: 2, 0: 5}\n",
    "\n",
    "def checkdic(dicc, keys):\n",
    "    \n",
    "      if keys in dic:\n",
    "            \n",
    "        print(\"Presents, \", end =\" \")\n",
    "        \n",
    "        print(\"values =\", dicc[keys])\n",
    "        \n",
    "      else:\n",
    "        \n",
    "        print(\"Not present\")\n",
    "        \n",
    "dicc = {'X': 100, 'Y':200, 'Z':300}\n",
    "\n",
    "keys = 'A'\n",
    "\n",
    "checkdic(dicc, keys)\n",
    "\n",
    " \n",
    "keys = 'B'\n",
    "\n",
    "checkdic(dicc, keys)"
   ]
  },
  {
   "cell_type": "code",
   "execution_count": null,
   "id": "10c508ea",
   "metadata": {},
   "outputs": [],
   "source": []
  }
 ],
 "metadata": {
  "kernelspec": {
   "display_name": "Python 3",
   "language": "python",
   "name": "python3"
  },
  "language_info": {
   "codemirror_mode": {
    "name": "ipython",
    "version": 3
   },
   "file_extension": ".py",
   "mimetype": "text/x-python",
   "name": "python",
   "nbconvert_exporter": "python",
   "pygments_lexer": "ipython3",
   "version": "3.8.8"
  }
 },
 "nbformat": 4,
 "nbformat_minor": 5
}
