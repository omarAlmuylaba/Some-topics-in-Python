{
 "cells": [
  {
   "cell_type": "raw",
   "id": "6c843e16",
   "metadata": {},
   "source": [
    "1. Write a Python function that takes a sequence of numbers and determines whether all the numbers are different from each other."
   ]
  },
  {
   "cell_type": "code",
   "execution_count": 15,
   "id": "9e9c8f23",
   "metadata": {},
   "outputs": [
    {
     "name": "stdout",
     "output_type": "stream",
     "text": [
      "False\n",
      "True\n"
     ]
    }
   ],
   "source": [
    "def test_distinct(data):\n",
    "    if len(data) == len(set(data)):\n",
    "        return True\n",
    "    else:\n",
    "        return False;\n",
    "print(test_distinct([1,1,2,3,]))\n",
    "print(test_distinct([1,4,2,3,]))"
   ]
  },
  {
   "cell_type": "raw",
   "id": "d7d8547c",
   "metadata": {},
   "source": [
    "2. Write a Python program to create all possible strings by using 'a', 'e', 'i', 'o', 'u'. Use the characters exactly once. Go to the editor\n"
   ]
  },
  {
   "cell_type": "code",
   "execution_count": 13,
   "id": "5a353014",
   "metadata": {},
   "outputs": [
    {
     "name": "stdout",
     "output_type": "stream",
     "text": [
      "uoeai\n",
      "uoeai\n"
     ]
    }
   ],
   "source": [
    "import random \n",
    "char_list = ['a','e','i','o','u']\n",
    "random.shuffle(char_list)\n",
    "print(''.join(char_list))\n",
    "print(''.join(char_list))"
   ]
  },
  {
   "cell_type": "raw",
   "id": "d15c3597",
   "metadata": {},
   "source": [
    "3. Write a Python program to remove and print every third number from a list of numbers until the list becomes empty.\n"
   ]
  },
  {
   "cell_type": "code",
   "execution_count": 20,
   "id": "0f789af0",
   "metadata": {},
   "outputs": [
    {
     "name": "stdout",
     "output_type": "stream",
     "text": [
      "30\n",
      "60\n",
      "90\n",
      "40\n",
      "80\n",
      "50\n",
      "20\n",
      "70\n",
      "10\n"
     ]
    }
   ],
   "source": [
    "def remove_numb(int_list):\n",
    "    posision = 3-1\n",
    "    idx =0 \n",
    "    len_list = (len(int_list))\n",
    "    while len_list > 0:\n",
    "        idx= (posision+idx)%len_list\n",
    "        print(int_list.pop(idx))\n",
    "        len_list -= 1\n",
    "nums = [10,20,30,40,50,60,70,80,90]\n",
    "remove_numb(nums)"
   ]
  },
  {
   "cell_type": "raw",
   "id": "edbf798e",
   "metadata": {},
   "source": [
    "4. Write a Python program to find unique triplets whose three elements gives the sum of zero from an array of n integers"
   ]
  },
  {
   "cell_type": "code",
   "execution_count": 32,
   "id": "da5bf0a3",
   "metadata": {},
   "outputs": [
    {
     "name": "stdout",
     "output_type": "stream",
     "text": [
      "[(-6, 2, 4)]\n"
     ]
    }
   ],
   "source": [
    "def three_sum(nums):\n",
    "  result = []\n",
    "  nums.sort()\n",
    "  for i in range(len(nums)-2):\n",
    "    if i> 0 and nums[i] == nums[i-1]:\n",
    "      continue\n",
    "    l, r = i+1, len(nums)-1\n",
    "    while l < r:\n",
    "      s = nums[i] + nums[l] + nums[r]\n",
    "      if s > 0:\n",
    "        r -= 1\n",
    "      elif s < 0:\n",
    "          l += 1\n",
    "      else:\n",
    "        # found three sum\n",
    "        result.append((nums[i], nums[l], nums[r]))\n",
    "        # remove duplicates\n",
    "        while l < r and nums[l] == nums[l+1]:\n",
    "          l+=1\n",
    "          while l < r and nums[r] == nums[r-1]:\n",
    "            r -= 1\n",
    "            l += 1\n",
    "            r -= 1\n",
    "          return result\n",
    "\n",
    "x = [1, -6, 4, 2, -1, 2, 0, -2, 0 ]\n",
    "print(three_sum(x))\n",
    "#ارجع لها حبه حبه#"
   ]
  },
  {
   "cell_type": "raw",
   "id": "e85a007e",
   "metadata": {},
   "source": [
    "5. Write a Python program to create the combinations of 3 digit combo"
   ]
  },
  {
   "cell_type": "code",
   "execution_count": 36,
   "id": "019d9d5d",
   "metadata": {},
   "outputs": [
    {
     "name": "stdout",
     "output_type": "stream",
     "text": [
      "999\n"
     ]
    }
   ],
   "source": [
    "number = []\n",
    "for num in range(1000):\n",
    "    num = str(num).zfill(0)\n",
    "print(num)\n",
    "number.append(num)"
   ]
  },
  {
   "cell_type": "raw",
   "id": "282a3271",
   "metadata": {},
   "source": [
    "6. Write a Python program to print a long text, convert the string to a list and print all the words and their frequencies."
   ]
  },
  {
   "cell_type": "code",
   "execution_count": 41,
   "id": "857c7265",
   "metadata": {},
   "outputs": [
    {
     "name": "stdout",
     "output_type": "stream",
     "text": [
      "String:\n",
      " United States Declaration of Independence\n",
      "From Wikipedia, the free encyclopedia\n",
      "The United States Declaration of Independence is the statement\n",
      "adopted by the Second Continental Congress meeting at the Pennsylvania State\n",
      "House (Independence Hall) in Philadelphia on July 4, 1776, which announced\n",
      "that the thirteen American colonies, then at war with the Kingdom of Great\n",
      "Britain, regarded themselves as thirteen independent sovereign states, no longer\n",
      "under British rule. These states would found a new nation – the United States of\n",
      "America. John Adams was a leader in pushing for independence, which was passed\n",
      "on July 2 with no opposing vote cast. A committee of five had already drafted the\n",
      "formal declaration, to be ready when Congress voted on independence.\n",
      "\n",
      "John Adams persuaded the committee to select Thomas Jefferson to compose the original\n",
      "draft of the document, which Congress would edit to produce the final version.\n",
      "The Declaration was ultimately a formal explanation of why Congress had voted on July\n",
      "2 to declare independence from Great Britain, more than a year after the outbreak of\n",
      "the American Revolutionary War. The next day, Adams wrote to his wife Abigail: \"The\n",
      "Second Day of July 1776, will be the most memorable Epocha, in the History of America.\"\n",
      "But Independence Day is actually celebrated on July 4, the date that the Declaration of\n",
      "Independence was approved.\n",
      "\n",
      "After ratifying the text on July 4, Congress issued the Declaration of Independence in\n",
      "several forms. It was initially published as the printed Dunlap broadside that was widely\n",
      "distributed and read to the public. The source copy used for this printing has been lost,\n",
      "and may have been a copy in Thomas Jefferson's hand.[5] Jefferson's original draft, complete\n",
      "with changes made by John Adams and Benjamin Franklin, and Jefferson's notes of changes made\n",
      "by Congress, are preserved at the Library of Congress. The best-known version of the Declaration\n",
      "is a signed copy that is displayed at the National Archives in Washington, D.C., and which is\n",
      "popularly regarded as the official document. This engrossed copy was ordered by Congress on\n",
      "July 19 and signed primarily on August 2.\n",
      "\n",
      "The sources and interpretation of the Declaration have been the subject of much scholarly inquiry.\n",
      "The Declaration justified the independence of the United States by listing colonial grievances against\n",
      "King George III, and by asserting certain natural and legal rights, including a right of revolution.\n",
      "Having served its original purpose in announcing independence, references to the text of the\n",
      "Declaration were few in the following years. Abraham Lincoln made it the centerpiece of his rhetoric\n",
      "(as in the Gettysburg Address of 1863) and his policies. Since then, it has become a well-known statement\n",
      "on human rights, particularly its second sentence:\n",
      "\n",
      "We hold these truths to be self-evident, that all men are created equal, that they are endowed by their\n",
      "Creator with certain unalienable Rights, that among these are Life, Liberty and the pursuit of Happiness.\n",
      "\n",
      "This has been called \"one of the best-known sentences in the English language\", containing \"the most potent\n",
      "and consequential words in American history\". The passage came to represent a moral standard to which\n",
      "the United States should strive. This view was notably promoted by Abraham Lincoln, who considered the\n",
      "Declaration to be the foundation of his political philosophy and argued that it is a statement of principles\n",
      "through which the United States Constitution should be interpreted.\n",
      "\n",
      "The U.S. Declaration of Independence inspired many other similar documents in other countries, the first\n",
      "being the 1789 Declaration of Flanders issued during the Brabant Revolution in the Austrian Netherlands\n",
      "(modern-day Belgium). It also served as the primary model for numerous declarations of independence across\n",
      "Europe and Latin America, as well as Africa (Liberia) and Oceania (New Zealand) during the first half of the\n",
      "19th century. \n",
      "\n",
      "List:\n",
      " ['United', 'States', 'Declaration', 'of', 'Independence', 'From', 'Wikipedia,', 'the', 'free', 'encyclopedia', 'The', 'United', 'States', 'Declaration', 'of', 'Independence', 'is', 'the', 'statement', 'adopted', 'by', 'the', 'Second', 'Continental', 'Congress', 'meeting', 'at', 'the', 'Pennsylvania', 'State', 'House', '(Independence', 'Hall)', 'in', 'Philadelphia', 'on', 'July', '4,', '1776,', 'which', 'announced', 'that', 'the', 'thirteen', 'American', 'colonies,', 'then', 'at', 'war', 'with', 'the', 'Kingdom', 'of', 'Great', 'Britain,', 'regarded', 'themselves', 'as', 'thirteen', 'independent', 'sovereign', 'states,', 'no', 'longer', 'under', 'British', 'rule.', 'These', 'states', 'would', 'found', 'a', 'new', 'nation', '–', 'the', 'United', 'States', 'of', 'America.', 'John', 'Adams', 'was', 'a', 'leader', 'in', 'pushing', 'for', 'independence,', 'which', 'was', 'passed', 'on', 'July', '2', 'with', 'no', 'opposing', 'vote', 'cast.', 'A', 'committee', 'of', 'five', 'had', 'already', 'drafted', 'the', 'formal', 'declaration,', 'to', 'be', 'ready', 'when', 'Congress', 'voted', 'on', 'independence.', 'John', 'Adams', 'persuaded', 'the', 'committee', 'to', 'select', 'Thomas', 'Jefferson', 'to', 'compose', 'the', 'original', 'draft', 'of', 'the', 'document,', 'which', 'Congress', 'would', 'edit', 'to', 'produce', 'the', 'final', 'version.', 'The', 'Declaration', 'was', 'ultimately', 'a', 'formal', 'explanation', 'of', 'why', 'Congress', 'had', 'voted', 'on', 'July', '2', 'to', 'declare', 'independence', 'from', 'Great', 'Britain,', 'more', 'than', 'a', 'year', 'after', 'the', 'outbreak', 'of', 'the', 'American', 'Revolutionary', 'War.', 'The', 'next', 'day,', 'Adams', 'wrote', 'to', 'his', 'wife', 'Abigail:', '\"The', 'Second', 'Day', 'of', 'July', '1776,', 'will', 'be', 'the', 'most', 'memorable', 'Epocha,', 'in', 'the', 'History', 'of', 'America.\"', 'But', 'Independence', 'Day', 'is', 'actually', 'celebrated', 'on', 'July', '4,', 'the', 'date', 'that', 'the', 'Declaration', 'of', 'Independence', 'was', 'approved.', 'After', 'ratifying', 'the', 'text', 'on', 'July', '4,', 'Congress', 'issued', 'the', 'Declaration', 'of', 'Independence', 'in', 'several', 'forms.', 'It', 'was', 'initially', 'published', 'as', 'the', 'printed', 'Dunlap', 'broadside', 'that', 'was', 'widely', 'distributed', 'and', 'read', 'to', 'the', 'public.', 'The', 'source', 'copy', 'used', 'for', 'this', 'printing', 'has', 'been', 'lost,', 'and', 'may', 'have', 'been', 'a', 'copy', 'in', 'Thomas', \"Jefferson's\", 'hand.[5]', \"Jefferson's\", 'original', 'draft,', 'complete', 'with', 'changes', 'made', 'by', 'John', 'Adams', 'and', 'Benjamin', 'Franklin,', 'and', \"Jefferson's\", 'notes', 'of', 'changes', 'made', 'by', 'Congress,', 'are', 'preserved', 'at', 'the', 'Library', 'of', 'Congress.', 'The', 'best-known', 'version', 'of', 'the', 'Declaration', 'is', 'a', 'signed', 'copy', 'that', 'is', 'displayed', 'at', 'the', 'National', 'Archives', 'in', 'Washington,', 'D.C.,', 'and', 'which', 'is', 'popularly', 'regarded', 'as', 'the', 'official', 'document.', 'This', 'engrossed', 'copy', 'was', 'ordered', 'by', 'Congress', 'on', 'July', '19', 'and', 'signed', 'primarily', 'on', 'August', '2.', 'The', 'sources', 'and', 'interpretation', 'of', 'the', 'Declaration', 'have', 'been', 'the', 'subject', 'of', 'much', 'scholarly', 'inquiry.', 'The', 'Declaration', 'justified', 'the', 'independence', 'of', 'the', 'United', 'States', 'by', 'listing', 'colonial', 'grievances', 'against', 'King', 'George', 'III,', 'and', 'by', 'asserting', 'certain', 'natural', 'and', 'legal', 'rights,', 'including', 'a', 'right', 'of', 'revolution.', 'Having', 'served', 'its', 'original', 'purpose', 'in', 'announcing', 'independence,', 'references', 'to', 'the', 'text', 'of', 'the', 'Declaration', 'were', 'few', 'in', 'the', 'following', 'years.', 'Abraham', 'Lincoln', 'made', 'it', 'the', 'centerpiece', 'of', 'his', 'rhetoric', '(as', 'in', 'the', 'Gettysburg', 'Address', 'of', '1863)', 'and', 'his', 'policies.', 'Since', 'then,', 'it', 'has', 'become', 'a', 'well-known', 'statement', 'on', 'human', 'rights,', 'particularly', 'its', 'second', 'sentence:', 'We', 'hold', 'these', 'truths', 'to', 'be', 'self-evident,', 'that', 'all', 'men', 'are', 'created', 'equal,', 'that', 'they', 'are', 'endowed', 'by', 'their', 'Creator', 'with', 'certain', 'unalienable', 'Rights,', 'that', 'among', 'these', 'are', 'Life,', 'Liberty', 'and', 'the', 'pursuit', 'of', 'Happiness.', 'This', 'has', 'been', 'called', '\"one', 'of', 'the', 'best-known', 'sentences', 'in', 'the', 'English', 'language\",', 'containing', '\"the', 'most', 'potent', 'and', 'consequential', 'words', 'in', 'American', 'history\".', 'The', 'passage', 'came', 'to', 'represent', 'a', 'moral', 'standard', 'to', 'which', 'the', 'United', 'States', 'should', 'strive.', 'This', 'view', 'was', 'notably', 'promoted', 'by', 'Abraham', 'Lincoln,', 'who', 'considered', 'the', 'Declaration', 'to', 'be', 'the', 'foundation', 'of', 'his', 'political', 'philosophy', 'and', 'argued', 'that', 'it', 'is', 'a', 'statement', 'of', 'principles', 'through', 'which', 'the', 'United', 'States', 'Constitution', 'should', 'be', 'interpreted.', 'The', 'U.S.', 'Declaration', 'of', 'Independence', 'inspired', 'many', 'other', 'similar', 'documents', 'in', 'other', 'countries,', 'the', 'first', 'being', 'the', '1789', 'Declaration', 'of', 'Flanders', 'issued', 'during', 'the', 'Brabant', 'Revolution', 'in', 'the', 'Austrian', 'Netherlands', '(modern-day', 'Belgium).', 'It', 'also', 'served', 'as', 'the', 'primary', 'model', 'for', 'numerous', 'declarations', 'of', 'independence', 'across', 'Europe', 'and', 'Latin', 'America,', 'as', 'well', 'as', 'Africa', '(Liberia)', 'and', 'Oceania', '(New', 'Zealand)', 'during', 'the', 'first', 'half', 'of', 'the', '19th', 'century.'] \n",
      "\n",
      "Pairs (Words and Frequencies:\n",
      " [('United', 6), ('States', 6), ('Declaration', 12), ('of', 30), ('Independence', 6), ('From', 1), ('Wikipedia,', 1), ('the', 49), ('free', 1), ('encyclopedia', 1), ('The', 9), ('United', 6), ('States', 6), ('Declaration', 12), ('of', 30), ('Independence', 6), ('is', 6), ('the', 49), ('statement', 3), ('adopted', 1), ('by', 8), ('the', 49), ('Second', 2), ('Continental', 1), ('Congress', 6), ('meeting', 1), ('at', 4), ('the', 49), ('Pennsylvania', 1), ('State', 1), ('House', 1), ('(Independence', 1), ('Hall)', 1), ('in', 13), ('Philadelphia', 1), ('on', 9), ('July', 7), ('4,', 3), ('1776,', 2), ('which', 6), ('announced', 1), ('that', 8), ('the', 49), ('thirteen', 2), ('American', 3), ('colonies,', 1), ('then', 1), ('at', 4), ('war', 1), ('with', 4), ('the', 49), ('Kingdom', 1), ('of', 30), ('Great', 2), ('Britain,', 2), ('regarded', 2), ('themselves', 1), ('as', 6), ('thirteen', 2), ('independent', 1), ('sovereign', 1), ('states,', 1), ('no', 2), ('longer', 1), ('under', 1), ('British', 1), ('rule.', 1), ('These', 1), ('states', 1), ('would', 2), ('found', 1), ('a', 10), ('new', 1), ('nation', 1), ('–', 1), ('the', 49), ('United', 6), ('States', 6), ('of', 30), ('America.', 1), ('John', 3), ('Adams', 4), ('was', 8), ('a', 10), ('leader', 1), ('in', 13), ('pushing', 1), ('for', 3), ('independence,', 2), ('which', 6), ('was', 8), ('passed', 1), ('on', 9), ('July', 7), ('2', 2), ('with', 4), ('no', 2), ('opposing', 1), ('vote', 1), ('cast.', 1), ('A', 1), ('committee', 2), ('of', 30), ('five', 1), ('had', 2), ('already', 1), ('drafted', 1), ('the', 49), ('formal', 2), ('declaration,', 1), ('to', 12), ('be', 5), ('ready', 1), ('when', 1), ('Congress', 6), ('voted', 2), ('on', 9), ('independence.', 1), ('John', 3), ('Adams', 4), ('persuaded', 1), ('the', 49), ('committee', 2), ('to', 12), ('select', 1), ('Thomas', 2), ('Jefferson', 1), ('to', 12), ('compose', 1), ('the', 49), ('original', 3), ('draft', 1), ('of', 30), ('the', 49), ('document,', 1), ('which', 6), ('Congress', 6), ('would', 2), ('edit', 1), ('to', 12), ('produce', 1), ('the', 49), ('final', 1), ('version.', 1), ('The', 9), ('Declaration', 12), ('was', 8), ('ultimately', 1), ('a', 10), ('formal', 2), ('explanation', 1), ('of', 30), ('why', 1), ('Congress', 6), ('had', 2), ('voted', 2), ('on', 9), ('July', 7), ('2', 2), ('to', 12), ('declare', 1), ('independence', 3), ('from', 1), ('Great', 2), ('Britain,', 2), ('more', 1), ('than', 1), ('a', 10), ('year', 1), ('after', 1), ('the', 49), ('outbreak', 1), ('of', 30), ('the', 49), ('American', 3), ('Revolutionary', 1), ('War.', 1), ('The', 9), ('next', 1), ('day,', 1), ('Adams', 4), ('wrote', 1), ('to', 12), ('his', 4), ('wife', 1), ('Abigail:', 1), ('\"The', 1), ('Second', 2), ('Day', 2), ('of', 30), ('July', 7), ('1776,', 2), ('will', 1), ('be', 5), ('the', 49), ('most', 2), ('memorable', 1), ('Epocha,', 1), ('in', 13), ('the', 49), ('History', 1), ('of', 30), ('America.\"', 1), ('But', 1), ('Independence', 6), ('Day', 2), ('is', 6), ('actually', 1), ('celebrated', 1), ('on', 9), ('July', 7), ('4,', 3), ('the', 49), ('date', 1), ('that', 8), ('the', 49), ('Declaration', 12), ('of', 30), ('Independence', 6), ('was', 8), ('approved.', 1), ('After', 1), ('ratifying', 1), ('the', 49), ('text', 2), ('on', 9), ('July', 7), ('4,', 3), ('Congress', 6), ('issued', 2), ('the', 49), ('Declaration', 12), ('of', 30), ('Independence', 6), ('in', 13), ('several', 1), ('forms.', 1), ('It', 2), ('was', 8), ('initially', 1), ('published', 1), ('as', 6), ('the', 49), ('printed', 1), ('Dunlap', 1), ('broadside', 1), ('that', 8), ('was', 8), ('widely', 1), ('distributed', 1), ('and', 15), ('read', 1), ('to', 12), ('the', 49), ('public.', 1), ('The', 9), ('source', 1), ('copy', 4), ('used', 1), ('for', 3), ('this', 1), ('printing', 1), ('has', 3), ('been', 4), ('lost,', 1), ('and', 15), ('may', 1), ('have', 2), ('been', 4), ('a', 10), ('copy', 4), ('in', 13), ('Thomas', 2), (\"Jefferson's\", 3), ('hand.[5]', 1), (\"Jefferson's\", 3), ('original', 3), ('draft,', 1), ('complete', 1), ('with', 4), ('changes', 2), ('made', 3), ('by', 8), ('John', 3), ('Adams', 4), ('and', 15), ('Benjamin', 1), ('Franklin,', 1), ('and', 15), (\"Jefferson's\", 3), ('notes', 1), ('of', 30), ('changes', 2), ('made', 3), ('by', 8), ('Congress,', 1), ('are', 4), ('preserved', 1), ('at', 4), ('the', 49), ('Library', 1), ('of', 30), ('Congress.', 1), ('The', 9), ('best-known', 2), ('version', 1), ('of', 30), ('the', 49), ('Declaration', 12), ('is', 6), ('a', 10), ('signed', 2), ('copy', 4), ('that', 8), ('is', 6), ('displayed', 1), ('at', 4), ('the', 49), ('National', 1), ('Archives', 1), ('in', 13), ('Washington,', 1), ('D.C.,', 1), ('and', 15), ('which', 6), ('is', 6), ('popularly', 1), ('regarded', 2), ('as', 6), ('the', 49), ('official', 1), ('document.', 1), ('This', 3), ('engrossed', 1), ('copy', 4), ('was', 8), ('ordered', 1), ('by', 8), ('Congress', 6), ('on', 9), ('July', 7), ('19', 1), ('and', 15), ('signed', 2), ('primarily', 1), ('on', 9), ('August', 1), ('2.', 1), ('The', 9), ('sources', 1), ('and', 15), ('interpretation', 1), ('of', 30), ('the', 49), ('Declaration', 12), ('have', 2), ('been', 4), ('the', 49), ('subject', 1), ('of', 30), ('much', 1), ('scholarly', 1), ('inquiry.', 1), ('The', 9), ('Declaration', 12), ('justified', 1), ('the', 49), ('independence', 3), ('of', 30), ('the', 49), ('United', 6), ('States', 6), ('by', 8), ('listing', 1), ('colonial', 1), ('grievances', 1), ('against', 1), ('King', 1), ('George', 1), ('III,', 1), ('and', 15), ('by', 8), ('asserting', 1), ('certain', 2), ('natural', 1), ('and', 15), ('legal', 1), ('rights,', 2), ('including', 1), ('a', 10), ('right', 1), ('of', 30), ('revolution.', 1), ('Having', 1), ('served', 2), ('its', 2), ('original', 3), ('purpose', 1), ('in', 13), ('announcing', 1), ('independence,', 2), ('references', 1), ('to', 12), ('the', 49), ('text', 2), ('of', 30), ('the', 49), ('Declaration', 12), ('were', 1), ('few', 1), ('in', 13), ('the', 49), ('following', 1), ('years.', 1), ('Abraham', 2), ('Lincoln', 1), ('made', 3), ('it', 3), ('the', 49), ('centerpiece', 1), ('of', 30), ('his', 4), ('rhetoric', 1), ('(as', 1), ('in', 13), ('the', 49), ('Gettysburg', 1), ('Address', 1), ('of', 30), ('1863)', 1), ('and', 15), ('his', 4), ('policies.', 1), ('Since', 1), ('then,', 1), ('it', 3), ('has', 3), ('become', 1), ('a', 10), ('well-known', 1), ('statement', 3), ('on', 9), ('human', 1), ('rights,', 2), ('particularly', 1), ('its', 2), ('second', 1), ('sentence:', 1), ('We', 1), ('hold', 1), ('these', 2), ('truths', 1), ('to', 12), ('be', 5), ('self-evident,', 1), ('that', 8), ('all', 1), ('men', 1), ('are', 4), ('created', 1), ('equal,', 1), ('that', 8), ('they', 1), ('are', 4), ('endowed', 1), ('by', 8), ('their', 1), ('Creator', 1), ('with', 4), ('certain', 2), ('unalienable', 1), ('Rights,', 1), ('that', 8), ('among', 1), ('these', 2), ('are', 4), ('Life,', 1), ('Liberty', 1), ('and', 15), ('the', 49), ('pursuit', 1), ('of', 30), ('Happiness.', 1), ('This', 3), ('has', 3), ('been', 4), ('called', 1), ('\"one', 1), ('of', 30), ('the', 49), ('best-known', 2), ('sentences', 1), ('in', 13), ('the', 49), ('English', 1), ('language\",', 1), ('containing', 1), ('\"the', 1), ('most', 2), ('potent', 1), ('and', 15), ('consequential', 1), ('words', 1), ('in', 13), ('American', 3), ('history\".', 1), ('The', 9), ('passage', 1), ('came', 1), ('to', 12), ('represent', 1), ('a', 10), ('moral', 1), ('standard', 1), ('to', 12), ('which', 6), ('the', 49), ('United', 6), ('States', 6), ('should', 2), ('strive.', 1), ('This', 3), ('view', 1), ('was', 8), ('notably', 1), ('promoted', 1), ('by', 8), ('Abraham', 2), ('Lincoln,', 1), ('who', 1), ('considered', 1), ('the', 49), ('Declaration', 12), ('to', 12), ('be', 5), ('the', 49), ('foundation', 1), ('of', 30), ('his', 4), ('political', 1), ('philosophy', 1), ('and', 15), ('argued', 1), ('that', 8), ('it', 3), ('is', 6), ('a', 10), ('statement', 3), ('of', 30), ('principles', 1), ('through', 1), ('which', 6), ('the', 49), ('United', 6), ('States', 6), ('Constitution', 1), ('should', 2), ('be', 5), ('interpreted.', 1), ('The', 9), ('U.S.', 1), ('Declaration', 12), ('of', 30), ('Independence', 6), ('inspired', 1), ('many', 1), ('other', 2), ('similar', 1), ('documents', 1), ('in', 13), ('other', 2), ('countries,', 1), ('the', 49), ('first', 2), ('being', 1), ('the', 49), ('1789', 1), ('Declaration', 12), ('of', 30), ('Flanders', 1), ('issued', 2), ('during', 2), ('the', 49), ('Brabant', 1), ('Revolution', 1), ('in', 13), ('the', 49), ('Austrian', 1), ('Netherlands', 1), ('(modern-day', 1), ('Belgium).', 1), ('It', 2), ('also', 1), ('served', 2), ('as', 6), ('the', 49), ('primary', 1), ('model', 1), ('for', 3), ('numerous', 1), ('declarations', 1), ('of', 30), ('independence', 3), ('across', 1), ('Europe', 1), ('and', 15), ('Latin', 1), ('America,', 1), ('as', 6), ('well', 1), ('as', 6), ('Africa', 1), ('(Liberia)', 1), ('and', 15), ('Oceania', 1), ('(New', 1), ('Zealand)', 1), ('during', 2), ('the', 49), ('first', 2), ('half', 1), ('of', 30), ('the', 49), ('19th', 1), ('century.', 1)]\n"
     ]
    },
    {
     "ename": "AttributeError",
     "evalue": "'list' object has no attribute 'max'",
     "output_type": "error",
     "traceback": [
      "\u001b[1;31m---------------------------------------------------------------------------\u001b[0m",
      "\u001b[1;31mAttributeError\u001b[0m                            Traceback (most recent call last)",
      "\u001b[1;32m<ipython-input-41-17958591ec5a>\u001b[0m in \u001b[0;36m<module>\u001b[1;34m\u001b[0m\n\u001b[0;32m     58\u001b[0m \u001b[0mprint\u001b[0m\u001b[1;33m(\u001b[0m\u001b[1;34m\"List:\\n {} \\n\"\u001b[0m\u001b[1;33m.\u001b[0m\u001b[0mformat\u001b[0m\u001b[1;33m(\u001b[0m\u001b[0mstr\u001b[0m\u001b[1;33m(\u001b[0m\u001b[0mword_list\u001b[0m\u001b[1;33m)\u001b[0m\u001b[1;33m)\u001b[0m\u001b[1;33m)\u001b[0m\u001b[1;33m\u001b[0m\u001b[1;33m\u001b[0m\u001b[0m\n\u001b[0;32m     59\u001b[0m \u001b[0mprint\u001b[0m\u001b[1;33m(\u001b[0m\u001b[1;34m\"Pairs (Words and Frequencies:\\n {}\"\u001b[0m\u001b[1;33m.\u001b[0m\u001b[0mformat\u001b[0m\u001b[1;33m(\u001b[0m\u001b[0mstr\u001b[0m\u001b[1;33m(\u001b[0m\u001b[0mlist\u001b[0m\u001b[1;33m(\u001b[0m\u001b[0mzip\u001b[0m\u001b[1;33m(\u001b[0m\u001b[0mword_list\u001b[0m\u001b[1;33m,\u001b[0m \u001b[0mword_freq\u001b[0m\u001b[1;33m)\u001b[0m\u001b[1;33m)\u001b[0m\u001b[1;33m)\u001b[0m\u001b[1;33m)\u001b[0m\u001b[1;33m)\u001b[0m\u001b[1;33m\u001b[0m\u001b[1;33m\u001b[0m\u001b[0m\n\u001b[1;32m---> 60\u001b[1;33m \u001b[0mprint\u001b[0m\u001b[1;33m(\u001b[0m\u001b[0mword_freq\u001b[0m\u001b[1;33m.\u001b[0m\u001b[0mmax\u001b[0m\u001b[1;33m(\u001b[0m\u001b[1;33m)\u001b[0m\u001b[1;33m)\u001b[0m\u001b[1;33m\u001b[0m\u001b[1;33m\u001b[0m\u001b[0m\n\u001b[0m",
      "\u001b[1;31mAttributeError\u001b[0m: 'list' object has no attribute 'max'"
     ]
    }
   ],
   "source": [
    "string_words = '''United States Declaration of Independence\n",
    "From Wikipedia, the free encyclopedia\n",
    "The United States Declaration of Independence is the statement\n",
    "adopted by the Second Continental Congress meeting at the Pennsylvania State\n",
    "House (Independence Hall) in Philadelphia on July 4, 1776, which announced\n",
    "that the thirteen American colonies, then at war with the Kingdom of Great\n",
    "Britain, regarded themselves as thirteen independent sovereign states, no longer\n",
    "under British rule. These states would found a new nation – the United States of\n",
    "America. John Adams was a leader in pushing for independence, which was passed\n",
    "on July 2 with no opposing vote cast. A committee of five had already drafted the\n",
    "formal declaration, to be ready when Congress voted on independence.\n",
    "\n",
    "John Adams persuaded the committee to select Thomas Jefferson to compose the original\n",
    "draft of the document, which Congress would edit to produce the final version.\n",
    "The Declaration was ultimately a formal explanation of why Congress had voted on July\n",
    "2 to declare independence from Great Britain, more than a year after the outbreak of\n",
    "the American Revolutionary War. The next day, Adams wrote to his wife Abigail: \"The\n",
    "Second Day of July 1776, will be the most memorable Epocha, in the History of America.\"\n",
    "But Independence Day is actually celebrated on July 4, the date that the Declaration of\n",
    "Independence was approved.\n",
    "\n",
    "After ratifying the text on July 4, Congress issued the Declaration of Independence in\n",
    "several forms. It was initially published as the printed Dunlap broadside that was widely\n",
    "distributed and read to the public. The source copy used for this printing has been lost,\n",
    "and may have been a copy in Thomas Jefferson's hand.[5] Jefferson's original draft, complete\n",
    "with changes made by John Adams and Benjamin Franklin, and Jefferson's notes of changes made\n",
    "by Congress, are preserved at the Library of Congress. The best-known version of the Declaration\n",
    "is a signed copy that is displayed at the National Archives in Washington, D.C., and which is\n",
    "popularly regarded as the official document. This engrossed copy was ordered by Congress on\n",
    "July 19 and signed primarily on August 2.\n",
    "\n",
    "The sources and interpretation of the Declaration have been the subject of much scholarly inquiry.\n",
    "The Declaration justified the independence of the United States by listing colonial grievances against\n",
    "King George III, and by asserting certain natural and legal rights, including a right of revolution.\n",
    "Having served its original purpose in announcing independence, references to the text of the\n",
    "Declaration were few in the following years. Abraham Lincoln made it the centerpiece of his rhetoric\n",
    "(as in the Gettysburg Address of 1863) and his policies. Since then, it has become a well-known statement\n",
    "on human rights, particularly its second sentence:\n",
    "\n",
    "We hold these truths to be self-evident, that all men are created equal, that they are endowed by their\n",
    "Creator with certain unalienable Rights, that among these are Life, Liberty and the pursuit of Happiness.\n",
    "\n",
    "This has been called \"one of the best-known sentences in the English language\", containing \"the most potent\n",
    "and consequential words in American history\". The passage came to represent a moral standard to which\n",
    "the United States should strive. This view was notably promoted by Abraham Lincoln, who considered the\n",
    "Declaration to be the foundation of his political philosophy and argued that it is a statement of principles\n",
    "through which the United States Constitution should be interpreted.\n",
    "\n",
    "The U.S. Declaration of Independence inspired many other similar documents in other countries, the first\n",
    "being the 1789 Declaration of Flanders issued during the Brabant Revolution in the Austrian Netherlands\n",
    "(modern-day Belgium). It also served as the primary model for numerous declarations of independence across\n",
    "Europe and Latin America, as well as Africa (Liberia) and Oceania (New Zealand) during the first half of the\n",
    "19th century.'''\n",
    "word_list = string_words.split()\n",
    "word_freq = [word_list.count(n) for n in word_list]\n",
    "\n",
    "print(\"String:\\n {} \\n\".format(string_words))\n",
    "print(\"List:\\n {} \\n\".format(str(word_list)))\n",
    "print(\"Pairs (Words and Frequencies:\\n {}\".format(str(list(zip(word_list, word_freq)))))\n",
    "#كيف احدد الكلمات الاكثر تكرار  و الاقل وثم اسخدمها مع الكتب#"
   ]
  },
  {
   "cell_type": "raw",
   "id": "24460161",
   "metadata": {},
   "source": [
    "7. Write a Python program to count the number of each character of a given text of a text file. Go to the editor\n"
   ]
  },
  {
   "cell_type": "code",
   "execution_count": null,
   "id": "18dca159",
   "metadata": {},
   "outputs": [],
   "source": [
    "import collections\n",
    "import pprint\n",
    "file_input = input('File Name: ')\n",
    "with open(file_input, 'r') as info:\n",
    "  count = collections.Counter(info.read().upper())\n",
    "  value = pprint.pformat(count)\n",
    "print(value)\n"
   ]
  },
  {
   "cell_type": "raw",
   "id": "afd20b57",
   "metadata": {},
   "source": [
    "Inputs:\n",
    "abc.txt -\n",
    "German Unity Day\n",
    "From Wikipedia, the free encyclopedia\n",
    "The Day of German Unity (German: Tag der DeutschenEinheit) is the national day of Germany, celebrated on 3 October as a public holiday. It commemorates the anniversary of German reunification in 1990, when the goal of a united Germany that originated in the middle of the 19th century, was fulfilled again. Therefore, the name addresses neither the re-union nor the union, but the unity of Germany. The Day of German Unity on 3 October has been the German national holiday since 1990, when the reunification was formally completed."
   ]
  },
  {
   "cell_type": "raw",
   "id": "080e270f",
   "metadata": {},
   "source": [
    "8. Write a Python program to get the top stories from Google news"
   ]
  },
  {
   "cell_type": "code",
   "execution_count": 54,
   "id": "52c19c9f",
   "metadata": {},
   "outputs": [
    {
     "name": "stdout",
     "output_type": "stream",
     "text": [
      "Elon Musk is pulling out his deal to buy Twitter - The Washington Post\n",
      "https://news.google.com/__i/rss/rd/articles/CBMiQ2h0dHBzOi8vd3d3Lndhc2hpbmd0b25wb3N0LmNvbS90ZWNobm9sb2d5LzIwMjIvMDcvMDgvbXVzay1kZWFsLXNlYy_SAQA?oc=5\n",
      "None\n",
      "------------------------------------------------------------\n",
      "Shinzo Abe, former Japanese prime minister, assassinated during campaign speech - CNN\n",
      "https://news.google.com/__i/rss/rd/articles/CBMiVmh0dHBzOi8vd3d3LmNubi5jb20vMjAyMi8wNy8wOC9hc2lhL2phcGFuLXNoaW56by1hYmUtZGllcy1zaG9vdGluZy1pbnRsLWhuay9pbmRleC5odG1s0gFaaHR0cHM6Ly9hbXAuY25uLmNvbS9jbm4vMjAyMi8wNy8wOC9hc2lhL2phcGFuLXNoaW56by1hYmUtZGllcy1zaG9vdGluZy1pbnRsLWhuay9pbmRleC5odG1s?oc=5\n",
      "None\n",
      "------------------------------------------------------------\n",
      "Biden Signs Executive Order on Abortion: What to Know - The New York Times\n",
      "https://news.google.com/__i/rss/rd/articles/CBMiUmh0dHBzOi8vd3d3Lm55dGltZXMuY29tLzIwMjIvMDcvMDgvdXMvcG9saXRpY3MvYmlkZW4tYWJvcnRpb24tZXhlY3V0aXZlLW9yZGVyLmh0bWzSAQA?oc=5\n",
      "None\n",
      "------------------------------------------------------------\n",
      "Dr. Barbara Ferrer reveals why indoor mask mandate would return if LA County enters high transmissio - FOX 11 Los Angeles\n",
      "https://news.google.com/__i/rss/rd/articles/CBMiK2h0dHBzOi8vd3d3LnlvdXR1YmUuY29tL3dhdGNoP3Y9SUFiQWZROUF3UTDSAQA?oc=5\n",
      "None\n",
      "------------------------------------------------------------\n",
      "Trump's ex-White House counsel testifies to Jan. 6 committee - CNN\n",
      "https://news.google.com/__i/rss/rd/articles/CBMiK2h0dHBzOi8vd3d3LnlvdXR1YmUuY29tL3dhdGNoP3Y9OVFydkoxOWJoMGvSAQA?oc=5\n",
      "None\n",
      "------------------------------------------------------------\n",
      "Charges not ruled out for Highland Park suspect's father - New York Post \n",
      "https://news.google.com/__i/rss/rd/articles/CBMiT2h0dHBzOi8vbnlwb3N0LmNvbS8yMDIyLzA3LzA4L2hpZ2hsYW5kLXBhcmstc3VzcGVjdHMtZmF0aGVyLWNvdWxkLWZhY2UtY2hhcmdlcy_SAVNodHRwczovL255cG9zdC5jb20vMjAyMi8wNy8wOC9oaWdobGFuZC1wYXJrLXN1c3BlY3RzLWZhdGhlci1jb3VsZC1mYWNlLWNoYXJnZXMvYW1wLw?oc=5\n",
      "None\n",
      "------------------------------------------------------------\n",
      "US jobs level still below pre-pandemic level 28 months later, despite June job growth - Fox Business\n",
      "https://news.google.com/__i/rss/rd/articles/CBMia2h0dHBzOi8vd3d3LmZveGJ1c2luZXNzLmNvbS9wb2xpdGljcy91cy1qb2JzLWxldmVsLWJlbG93LXByZS1wYW5kZW1pYy1sZXZlbC0yOC1tb250aHMtbGF0ZXItanVuZS1qb2ItZ3Jvd3Ro0gFvaHR0cHM6Ly93d3cuZm94YnVzaW5lc3MuY29tL3BvbGl0aWNzL3VzLWpvYnMtbGV2ZWwtYmVsb3ctcHJlLXBhbmRlbWljLWxldmVsLTI4LW1vbnRocy1sYXRlci1qdW5lLWpvYi1ncm93dGguYW1w?oc=5\n",
      "None\n",
      "------------------------------------------------------------\n",
      "Replacement named for ousted San Francisco DA Chesa Boudin - New York Post \n",
      "https://news.google.com/__i/rss/rd/articles/CBMiXGh0dHBzOi8vbnlwb3N0LmNvbS8yMDIyLzA3LzA4L2Jyb29rZS1qZW5raW5zLXJlcGxhY2luZy1vdXN0ZWQtc2FuLWZyYW5jaXNjby1kYS1jaGVzYS1ib3VkaW4v0gFgaHR0cHM6Ly9ueXBvc3QuY29tLzIwMjIvMDcvMDgvYnJvb2tlLWplbmtpbnMtcmVwbGFjaW5nLW91c3RlZC1zYW4tZnJhbmNpc2NvLWRhLWNoZXNhLWJvdWRpbi9hbXAv?oc=5\n",
      "None\n",
      "------------------------------------------------------------\n",
      "Derek Chauvin sentenced to 21 years in federal prison for violating George Floyd's civil rights - CBS News\n",
      "https://news.google.com/__i/rss/rd/articles/CBMiXWh0dHBzOi8vd3d3LmNic25ld3MuY29tL25ld3MvZGVyZWstY2hhdXZpbi1nZW9yZ2UtZmxveWQtY2l2aWwtcmlnaHRzLTIxLXllYXJzLWZlZGVyYWwtcHJpc29uL9IBYWh0dHBzOi8vd3d3LmNic25ld3MuY29tL2FtcC9uZXdzL2RlcmVrLWNoYXV2aW4tZ2VvcmdlLWZsb3lkLWNpdmlsLXJpZ2h0cy0yMS15ZWFycy1mZWRlcmFsLXByaXNvbi8?oc=5\n",
      "None\n",
      "------------------------------------------------------------\n",
      "Border Patrol agents on horseback used 'unnecessary' force in Del Rio incident but investigation found no evidence they struck migrants with reins, CBP report states - CNN\n",
      "https://news.google.com/__i/rss/rd/articles/CBMiXGh0dHBzOi8vd3d3LmNubi5jb20vMjAyMi8wNy8wOC9wb2xpdGljcy9ib3JkZXItcGF0cm9sLWRlbC1yaW8taG9yc2UtaW52ZXN0aWdhdGlvbi9pbmRleC5odG1s0gFgaHR0cHM6Ly9hbXAuY25uLmNvbS9jbm4vMjAyMi8wNy8wOC9wb2xpdGljcy9ib3JkZXItcGF0cm9sLWRlbC1yaW8taG9yc2UtaW52ZXN0aWdhdGlvbi9pbmRleC5odG1s?oc=5\n",
      "None\n",
      "------------------------------------------------------------\n",
      "Lavrov walks out of G20 talks after denying Russia is causing food crisis - The Guardian\n",
      "https://news.google.com/__i/rss/rd/articles/CBMibmh0dHBzOi8vd3d3LnRoZWd1YXJkaWFuLmNvbS93b3JsZC8yMDIyL2p1bC8wOC9sYXZyb3YtbGVhdmVzLWcyMC10YWxrcy1lYXJseS1kZW55aW5nLXJ1c3NpYS1jYXVzaW5nLWZvb2QtY3Jpc2lz0gFuaHR0cHM6Ly9hbXAudGhlZ3VhcmRpYW4uY29tL3dvcmxkLzIwMjIvanVsLzA4L2xhdnJvdi1sZWF2ZXMtZzIwLXRhbGtzLWVhcmx5LWRlbnlpbmctcnVzc2lhLWNhdXNpbmctZm9vZC1jcmlzaXM?oc=5\n",
      "None\n",
      "------------------------------------------------------------\n",
      "Russia cheers Boris Johnson's demise as the world reacts to Britain's political drama - CNBC\n",
      "https://news.google.com/__i/rss/rd/articles/CBMic2h0dHBzOi8vd3d3LmNuYmMuY29tLzIwMjIvMDcvMDgvcnVzc2lhLWNoZWVycy1ib3Jpcy1qb2huc29ucy1kZW1pc2UtYXMtd29ybGQtcmVhY3RzLXRvLXRoZS11a3MtcG9saXRpY2FsLWRyYW1hLmh0bWzSAXdodHRwczovL3d3dy5jbmJjLmNvbS9hbXAvMjAyMi8wNy8wOC9ydXNzaWEtY2hlZXJzLWJvcmlzLWpvaG5zb25zLWRlbWlzZS1hcy13b3JsZC1yZWFjdHMtdG8tdGhlLXVrcy1wb2xpdGljYWwtZHJhbWEuaHRtbA?oc=5\n",
      "None\n",
      "------------------------------------------------------------\n",
      "José Eduardo dos Santos of Angola dies at 79 - The Washington Post\n",
      "https://news.google.com/__i/rss/rd/articles/CBMiYmh0dHBzOi8vd3d3Lndhc2hpbmd0b25wb3N0LmNvbS9vYml0dWFyaWVzLzIwMjIvMDcvMDgvam9zZS1lZHVhcmRvLWRvcy1zYW50b3MtYW5nb2xhLWRpY3RhdG9yLWRlYWQv0gEA?oc=5\n",
      "None\n",
      "------------------------------------------------------------\n",
      "Putin challenges West to fight Russia on the battlefield: 'Let them try' - The Washington Post\n",
      "https://news.google.com/__i/rss/rd/articles/CBMiVmh0dHBzOi8vd3d3Lndhc2hpbmd0b25wb3N0LmNvbS93b3JsZC8yMDIyLzA3LzA4L3B1dGluLXJ1c3NpYS11a3JhaW5lLXdlc3QtYmF0dGxlZmllbGQv0gEA?oc=5\n",
      "None\n",
      "------------------------------------------------------------\n",
      "Elon Musk reacts to report he had secret twins with Neuralink exec weeks before baby with Grimes - Yahoo News\n",
      "https://news.google.com/__i/rss/rd/articles/CBMiQWh0dHBzOi8vbmV3cy55YWhvby5jb20vZWxvbi1tdXNrLXJlYWN0cy1yZXBvcnQtaGFkLTIyMzAzNDEwMy5odG1s0gFJaHR0cHM6Ly9uZXdzLnlhaG9vLmNvbS9hbXBodG1sL2Vsb24tbXVzay1yZWFjdHMtcmVwb3J0LWhhZC0yMjMwMzQxMDMuaHRtbA?oc=5\n",
      "None\n",
      "------------------------------------------------------------\n",
      "Rogers network outage hits millions of Canadians, drawing outrage - Reuters.com\n",
      "https://news.google.com/__i/rss/rd/articles/CBMie2h0dHBzOi8vd3d3LnJldXRlcnMuY29tL2J1c2luZXNzL21lZGlhLXRlbGVjb20vcm9nZXJzLWNvbW11bmljYXRpb25zLXNlcnZpY2VzLWRvd24tdGhvdXNhbmRzLXVzZXJzLWRvd25kZXRlY3Rvci0yMDIyLTA3LTA4L9IBAA?oc=5\n",
      "None\n",
      "------------------------------------------------------------\n",
      "European stocks close 0.5% higher as investors digest strong U.S. payrolls report - CNBC\n",
      "https://news.google.com/__i/rss/rd/articles/CBMicmh0dHBzOi8vd3d3LmNuYmMuY29tLzIwMjIvMDcvMDgvZXVyb3BlLW1hcmtldHMtb3Blbi10by1jbG9zZS1vbi1jb3Vyc2UtZm9yLXBvc2l0aXZlLXdlZWstYWhlYWQtb2YtdXMtcGF5cm9sbHMuaHRtbNIBdmh0dHBzOi8vd3d3LmNuYmMuY29tL2FtcC8yMDIyLzA3LzA4L2V1cm9wZS1tYXJrZXRzLW9wZW4tdG8tY2xvc2Utb24tY291cnNlLWZvci1wb3NpdGl2ZS13ZWVrLWFoZWFkLW9mLXVzLXBheXJvbGxzLmh0bWw?oc=5\n",
      "None\n",
      "------------------------------------------------------------\n",
      "GameStop Staff Layoffs Are Announced As Chief Financial Officer Leaves - Nintendo Life\n",
      "https://news.google.com/__i/rss/rd/articles/CBMicGh0dHBzOi8vd3d3Lm5pbnRlbmRvbGlmZS5jb20vbmV3cy8yMDIyLzA3L2dhbWVzdG9wLXN0YWZmLWxheW9mZnMtYXJlLWFubm91bmNlZC1hcy1jaGllZi1maW5hbmNpYWwtb2ZmaWNlci1sZWF2ZXPSAQA?oc=5\n",
      "None\n",
      "------------------------------------------------------------\n",
      "MagSafe 3 Charging Cable Now Available in New Colors Matching MacBook Air - MacRumors\n",
      "https://news.google.com/__i/rss/rd/articles/CBMiSmh0dHBzOi8vd3d3Lm1hY3J1bW9ycy5jb20vMjAyMi8wNy8wOC9tYWdzYWZlLTMtY2FibGUtY29sb3JzLW5vdy1hdmFpbGFibGUv0gEA?oc=5\n",
      "None\n",
      "------------------------------------------------------------\n",
      "Apple's New Lockdown Mode for iPhone Fights Hacking, Spyware - CNET\n",
      "https://news.google.com/__i/rss/rd/articles/CBMiXGh0dHBzOi8vd3d3LmNuZXQuY29tL3RlY2gvbW9iaWxlL2FwcGxlcy1uZXctbG9ja2Rvd24tbW9kZS1mb3ItaXBob25lLWZpZ2h0cy1oYWNraW5nLXNweXdhcmUv0gEA?oc=5\n",
      "None\n",
      "------------------------------------------------------------\n",
      "Review: Lenovo’s ThinkPad X1 Yoga Gen 7 looks good but feels warm - Ars Technica\n",
      "https://news.google.com/__i/rss/rd/articles/CBMiaGh0dHBzOi8vYXJzdGVjaG5pY2EuY29tL2dhZGdldHMvMjAyMi8wNy9yZXZpZXctbGVub3Zvcy10aGlua3BhZC14MS15b2dhLWdlbi03LWxvb2tzLWdvb2QtYnV0LWZlZWxzLXdhcm0v0gFuaHR0cHM6Ly9hcnN0ZWNobmljYS5jb20vZ2FkZ2V0cy8yMDIyLzA3L3Jldmlldy1sZW5vdm9zLXRoaW5rcGFkLXgxLXlvZ2EtZ2VuLTctbG9va3MtZ29vZC1idXQtZmVlbHMtd2FybS8_YW1wPTE?oc=5\n",
      "None\n",
      "------------------------------------------------------------\n",
      "Play Store for tablets and Chromebooks gets Material You ahead of bigger redesign - 9to5Google\n",
      "https://news.google.com/__i/rss/rd/articles/CBMiQmh0dHBzOi8vOXRvNWdvb2dsZS5jb20vMjAyMi8wNy8wNy9wbGF5LXN0b3JlLW1hdGVyaWFsLXlvdS10YWJsZXRzL9IBRmh0dHBzOi8vOXRvNWdvb2dsZS5jb20vMjAyMi8wNy8wNy9wbGF5LXN0b3JlLW1hdGVyaWFsLXlvdS10YWJsZXRzL2FtcC8?oc=5\n",
      "None\n",
      "------------------------------------------------------------\n",
      "'Godfather' star James Caan dead: Rob Reiner, Francis Ford Coppola and more pay tribute - New York Post \n",
      "https://news.google.com/__i/rss/rd/articles/CBMiW2h0dHBzOi8vbnlwb3N0LmNvbS8yMDIyLzA3LzA3L3JvYi1yZWluZXItYW5kLW1vcmUtcGF5LXRyaWJ1dGUtdG8tZ29kZmF0aGVyLXN0YXItamFtZXMtY2Fhbi_SAV9odHRwczovL255cG9zdC5jb20vMjAyMi8wNy8wNy9yb2ItcmVpbmVyLWFuZC1tb3JlLXBheS10cmlidXRlLXRvLWdvZGZhdGhlci1zdGFyLWphbWVzLWNhYW4vYW1wLw?oc=5\n",
      "None\n",
      "------------------------------------------------------------\n",
      "'Thor: Love and Thunder' hopes to jolt a rebounding theater industry - CNN\n",
      "https://news.google.com/__i/rss/rd/articles/CBMiVWh0dHBzOi8vd3d3LmNubi5jb20vMjAyMi8wNy8wOC9tZWRpYS90aG9yLWxvdmUtYW5kLXRodW5kZXItYm94LW9mZmljZS15ZWFyL2luZGV4Lmh0bWzSAVlodHRwczovL2FtcC5jbm4uY29tL2Nubi8yMDIyLzA3LzA4L21lZGlhL3Rob3ItbG92ZS1hbmQtdGh1bmRlci1ib3gtb2ZmaWNlLXllYXIvaW5kZXguaHRtbA?oc=5\n",
      "None\n",
      "------------------------------------------------------------\n",
      "Doja Cat CALLS OUT Noah Schnapp for EXPOSING DMs - E! News\n",
      "https://news.google.com/__i/rss/rd/articles/CBMiK2h0dHBzOi8vd3d3LnlvdXR1YmUuY29tL3dhdGNoP3Y9MDVBQTZxY3gwbDjSAQA?oc=5\n",
      "None\n",
      "------------------------------------------------------------\n",
      "‘Captain America 4’ Finds Its Director in Filmmaker Julius Onah (Exclusive) - Hollywood Reporter\n",
      "https://news.google.com/__i/rss/rd/articles/CBMiWmh0dHBzOi8vd3d3LmhvbGx5d29vZHJlcG9ydGVyLmNvbS9tb3ZpZXMvbW92aWUtbmV3cy9jYXB0YWluLWFtZXJpY2EtNC1kaXJlY3Rvci0xMjM1MTc2OTI1L9IBXmh0dHBzOi8vd3d3LmhvbGx5d29vZHJlcG9ydGVyLmNvbS9tb3ZpZXMvbW92aWUtbmV3cy9jYXB0YWluLWFtZXJpY2EtNC1kaXJlY3Rvci0xMjM1MTc2OTI1L2FtcC8?oc=5\n",
      "None\n",
      "------------------------------------------------------------\n",
      "Sources: Damian Lillard closing in on 2-year, $122 million extension with Portland Trail Blazers - Yahoo Sports\n",
      "https://news.google.com/__i/rss/rd/articles/CBMihQFodHRwczovL3Nwb3J0cy55YWhvby5jb20vc291cmNlcy1kYW1pYW4tbGlsbGFyZC1jbG9zaW5nLWluLW9uLTIteWVhci0xMjItbWlsbGlvbi1leHRlbnNpb24td2l0aC1wb3J0bGFuZC10cmFpbC1ibGF6ZXJzLTIxMTMwNDM2MC5odG1s0gGNAWh0dHBzOi8vc3BvcnRzLnlhaG9vLmNvbS9hbXBodG1sL3NvdXJjZXMtZGFtaWFuLWxpbGxhcmQtY2xvc2luZy1pbi1vbi0yLXllYXItMTIyLW1pbGxpb24tZXh0ZW5zaW9uLXdpdGgtcG9ydGxhbmQtdHJhaWwtYmxhemVycy0yMTEzMDQzNjAuaHRtbA?oc=5\n",
      "None\n",
      "------------------------------------------------------------\n",
      "NBA free agency: James Harden to take $15 million pay cut in order to stay with 76ers, per report - CBS Sports\n",
      "https://news.google.com/__i/rss/rd/articles/CBMigQFodHRwczovL3d3dy5jYnNzcG9ydHMuY29tL25iYS9uZXdzL25iYS1mcmVlLWFnZW5jeS1qYW1lcy1oYXJkZW4tYWdyZWVzLXRvLXR3by15ZWFyLWRlYWwtMTUtbWlsbGlvbi1wYXktY3V0LXdpdGgtNzZlcnMtcGVyLXJlcG9ydC_SAYUBaHR0cHM6Ly93d3cuY2Jzc3BvcnRzLmNvbS9uYmEvbmV3cy9uYmEtZnJlZS1hZ2VuY3ktamFtZXMtaGFyZGVuLWFncmVlcy10by10d28teWVhci1kZWFsLTE1LW1pbGxpb24tcGF5LWN1dC13aXRoLTc2ZXJzLXBlci1yZXBvcnQvYW1wLw?oc=5\n",
      "None\n",
      "------------------------------------------------------------\n",
      "Novak Djokovic Defeats Cameron Norrie to Get to Wimbledon Final - The New York Times\n",
      "https://news.google.com/__i/rss/rd/articles/CBMiV2h0dHBzOi8vd3d3Lm55dGltZXMuY29tLzIwMjIvMDcvMDgvc3BvcnRzL3Rlbm5pcy9kam9rb3ZpYy1reXJnaW9zLW5vcnJpZS13aW1ibGVkb24uaHRtbNIBAA?oc=5\n",
      "None\n",
      "------------------------------------------------------------\n",
      "Winners and losers of the 2022 NHL draft - Seattle Kraken, Slovakia, Bruce Boudreau - ESPN\n",
      "https://news.google.com/__i/rss/rd/articles/CBMicWh0dHBzOi8vd3d3LmVzcG4uY29tL25obC9zdG9yeS9fL2lkLzM0MjEzMDgwL3dpbm5lcnMtbG9zZXJzLTIwMjItbmhsLWRyYWZ0LXNlYXR0bGUta3Jha2VuLXNsb3Zha2lhLWJydWNlLWJvdWRyZWF10gF-aHR0cHM6Ly93d3cuZXNwbi5jb20vbmhsL3N0b3J5L18vaWQvMzQyMTMwODAvd2lubmVycy1sb3NlcnMtMjAyMi1uaGwtZHJhZnQtc2VhdHRsZS1rcmFrZW4tc2xvdmFraWEtYnJ1Y2UtYm91ZHJlYXU_cGxhdGZvcm09YW1w?oc=5\n",
      "None\n",
      "------------------------------------------------------------\n",
      "Ready for the Webb Space Telescope's First Full-Color Images on This Week @NASA – July 8, 2022 - NASA\n",
      "https://news.google.com/__i/rss/rd/articles/CBMiK2h0dHBzOi8vd3d3LnlvdXR1YmUuY29tL3dhdGNoP3Y9aWRMLV91V0pDMDDSAQA?oc=5\n",
      "None\n",
      "------------------------------------------------------------\n",
      "Dramatic sampling shows asteroid Bennu is nothing like scientists expected - Space.com\n",
      "https://news.google.com/__i/rss/rd/articles/CBMiS2h0dHBzOi8vd3d3LnNwYWNlLmNvbS9kcmFtYXRpYy1vc2lyaXMtcmV4LXRvdWNoZG93bi1yZXZlYWxzLXN1cnByaXNlcy1iZW5uddIBAA?oc=5\n",
      "None\n",
      "------------------------------------------------------------\n",
      "Newly Discovered Dinosaur Species Shares the T. Rex's Tiny Arms, But Has 'No Direct Relation' - IGN - IGN\n",
      "https://news.google.com/__i/rss/rd/articles/CBMicGh0dHBzOi8vd3d3Lmlnbi5jb20vYXJ0aWNsZXMvbmV3bHktZGlzY292ZXJlZC1kaW5vc2F1ci1zcGVjaWVzLXNoYXJlcy10LXJleC10aW55LWFybXMtYnV0LWhhcy1uby1kaXJlY3QtcmVsYXRpb27SAXZodHRwczovL3d3dy5pZ24uY29tL2FydGljbGVzL25ld2x5LWRpc2NvdmVyZWQtZGlub3NhdXItc3BlY2llcy1zaGFyZXMtdC1yZXgtdGlueS1hcm1zLWJ1dC1oYXMtbm8tZGlyZWN0LXJlbGF0aW9uP2FtcD0x?oc=5\n",
      "None\n",
      "------------------------------------------------------------\n",
      "Huge underground search for mysterious dark matter begins - msnNOW\n",
      "https://news.google.com/__i/rss/rd/articles/CBMieWh0dHBzOi8vd3d3Lm1zbi5jb20vZW4tdXMvbmV3cy90ZWNobm9sb2d5L2h1Z2UtdW5kZXJncm91bmQtc2VhcmNoLWZvci1teXN0ZXJpb3VzLWRhcmstbWF0dGVyLWJlZ2lucy9hci1BQVprUGo3P2xpPUJCbmI3S3rSAQA?oc=5\n",
      "None\n",
      "------------------------------------------------------------\n",
      "The U.S. May Be Losing the Fight Against Monkeypox, Scientists Say - The New York Times\n",
      "https://news.google.com/__i/rss/rd/articles/CBMiSmh0dHBzOi8vd3d3Lm55dGltZXMuY29tLzIwMjIvMDcvMDgvaGVhbHRoL21vbmtleXBveC12YWNjaW5lLXRyZWF0bWVudC5odG1s0gEA?oc=5\n",
      "None\n",
      "------------------------------------------------------------\n",
      "Man likely spread monkeypox at Texas bathhouse through sex with multiple men - New York Post \n",
      "https://news.google.com/__i/rss/rd/articles/CBMiTWh0dHBzOi8vbnlwb3N0LmNvbS8yMDIyLzA3LzA4L21hbi1saWtlbHktc3ByZWFkLW1vbmtleXBveC1hdC10ZXhhcy1iYXRoaG91c2Uv0gFRaHR0cHM6Ly9ueXBvc3QuY29tLzIwMjIvMDcvMDgvbWFuLWxpa2VseS1zcHJlYWQtbW9ua2V5cG94LWF0LXRleGFzLWJhdGhob3VzZS9hbXAv?oc=5\n",
      "None\n",
      "------------------------------------------------------------\n",
      "More US children becoming obese at younger ages - The Hill\n",
      "https://news.google.com/__i/rss/rd/articles/CBMicmh0dHBzOi8vdGhlaGlsbC5jb20vY2hhbmdpbmctYW1lcmljYS93ZWxsLWJlaW5nL2xvbmdldml0eS8zNTUwMTU2LW1vcmUtdXMtY2hpbGRyZW4tYmVjb21pbmctb2Jlc2UtYXQteW91bmdlci1hZ2VzL9IBdmh0dHBzOi8vdGhlaGlsbC5jb20vY2hhbmdpbmctYW1lcmljYS93ZWxsLWJlaW5nL2xvbmdldml0eS8zNTUwMTU2LW1vcmUtdXMtY2hpbGRyZW4tYmVjb21pbmctb2Jlc2UtYXQteW91bmdlci1hZ2VzL2FtcC8?oc=5\n",
      "None\n",
      "------------------------------------------------------------\n",
      "DHEC: Asian longhorned tick infestation found on York County cattle farm - WCNC\n",
      "https://news.google.com/__i/rss/rd/articles/CBMiK2h0dHBzOi8vd3d3LnlvdXR1YmUuY29tL3dhdGNoP3Y9T0xVVlBJSDhuV2fSAQA?oc=5\n",
      "None\n",
      "------------------------------------------------------------\n"
     ]
    }
   ],
   "source": [
    "import bs4\n",
    "from bs4 import BeautifulSoup as soup\n",
    "from urllib.request import urlopen\n",
    "news_url =\"https://news.google.com/news/rss\"\n",
    "Client=urlopen(news_url)\n",
    "xml_page=Client.read()\n",
    "Client.close()\n",
    "\n",
    "soup_page=soup(xml_page,\"xml\")\n",
    "new_list = soup_page.findAll(\"item\")\n",
    "for news in new_list:\n",
    "    print(news.title.text)\n",
    "    print(news.link.text)\n",
    "    print(news.pubDate.txet)\n",
    "    print(\"-\"*60)\n",
    "    #سويها مع مواقع اخرى#"
   ]
  },
  {
   "cell_type": "raw",
   "id": "b053a276",
   "metadata": {},
   "source": [
    "18. Write a Python program to find the median among three given numbers"
   ]
  },
  {
   "cell_type": "code",
   "execution_count": null,
   "id": "0a3e0b8f",
   "metadata": {},
   "outputs": [],
   "source": [
    "x = input(\"Input the first number\")\n",
    "y = input(\"Input the second number\")\n",
    "z = input(\"Input the third number\")\n",
    "print(\"Median of the above three numbers -\")\n",
    "\n",
    "if y < x and x < z:\n",
    "    print(x)\n",
    "elif z < x and x < y:\n",
    "    print(x)\n",
    "    \n",
    "elif z < y and y < x:\n",
    "    print(y)\n",
    "elif x < y and y < z:\n",
    "    print(y)\n",
    "    \n",
    "elif y < z and z < x:\n",
    "    print(z)    \n",
    "elif x < z and z < y:\n",
    "    print(z)"
   ]
  },
  {
   "cell_type": "code",
   "execution_count": null,
   "id": "719cc003",
   "metadata": {},
   "outputs": [],
   "source": []
  },
  {
   "cell_type": "code",
   "execution_count": null,
   "id": "b006e34b",
   "metadata": {},
   "outputs": [],
   "source": []
  },
  {
   "cell_type": "code",
   "execution_count": null,
   "id": "01cdd342",
   "metadata": {},
   "outputs": [],
   "source": []
  },
  {
   "cell_type": "code",
   "execution_count": null,
   "id": "953b4461",
   "metadata": {},
   "outputs": [],
   "source": []
  },
  {
   "cell_type": "code",
   "execution_count": null,
   "id": "14a47637",
   "metadata": {},
   "outputs": [],
   "source": []
  }
 ],
 "metadata": {
  "kernelspec": {
   "display_name": "Python 3",
   "language": "python",
   "name": "python3"
  },
  "language_info": {
   "codemirror_mode": {
    "name": "ipython",
    "version": 3
   },
   "file_extension": ".py",
   "mimetype": "text/x-python",
   "name": "python",
   "nbconvert_exporter": "python",
   "pygments_lexer": "ipython3",
   "version": "3.8.8"
  }
 },
 "nbformat": 4,
 "nbformat_minor": 5
}
