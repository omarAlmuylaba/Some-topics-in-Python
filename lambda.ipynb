{
 "cells": [
  {
   "cell_type": "code",
   "execution_count": 1,
   "id": "ae6e99f0",
   "metadata": {},
   "outputs": [
    {
     "name": "stdout",
     "output_type": "stream",
     "text": [
      "{3: 4, 4: 2, 5: 3, 8: 2, 0: 2, 1: 1, 2: 2}\n"
     ]
    }
   ],
   "source": [
    "w=[3, 4, 5, 8, 0, 3, 8, 5, 0, 3, 1, 5, 2, 3, 4, 2]\n",
    "\n",
    "s=lambda d:{i:d.count(i) for i in w}\n",
    "print(s(w))"
   ]
  },
  {
   "cell_type": "code",
   "execution_count": 3,
   "id": "fe0b9978",
   "metadata": {},
   "outputs": [
    {
     "name": "stdout",
     "output_type": "stream",
     "text": [
      "[25, 30, 5, 20, 40]\n"
     ]
    }
   ],
   "source": [
    "new= [5 , 6 ,1 ,4 ,8]\n",
    "las = list(map(lambda n:n*5,new))\n",
    "print(las)"
   ]
  },
  {
   "cell_type": "code",
   "execution_count": null,
   "id": "1522376a",
   "metadata": {},
   "outputs": [],
   "source": [
    "lst21=[1,25,26,100,7,8,10]\n",
    "\n",
    "even_nums = list(filter(lambda x: x%2 == 0 and x > 21, lst21))\n",
    "\n",
    "print(even_nums)"
   ]
  },
  {
   "cell_type": "code",
   "execution_count": 4,
   "id": "85877bfb",
   "metadata": {},
   "outputs": [
    {
     "name": "stdout",
     "output_type": "stream",
     "text": [
      "[2, 4, 6, 8]\n"
     ]
    }
   ],
   "source": [
    "new = [1,2,3,4,5,6,7,8]\n",
    "lam = list(filter(lambda n: n%2==0,new))\n",
    "print(lam)"
   ]
  },
  {
   "cell_type": "code",
   "execution_count": 5,
   "id": "11c6d9e3",
   "metadata": {},
   "outputs": [
    {
     "name": "stdout",
     "output_type": "stream",
     "text": [
      "[1, 9, 25, 49]\n"
     ]
    }
   ],
   "source": [
    "lams = list(map(lambda n:n*n, filter(lambda n:n%2==1,new)))\n",
    "print(lams)                        #filter(lambda x:x%2!=0, nums"
   ]
  },
  {
   "cell_type": "code",
   "execution_count": 6,
   "id": "595ff00b",
   "metadata": {},
   "outputs": [
    {
     "name": "stdout",
     "output_type": "stream",
     "text": [
      "5.0\n"
     ]
    }
   ],
   "source": [
    "avr = lambda x ,c ,b :(x+c+b)/3\n",
    "print(avr(5,5,5))"
   ]
  },
  {
   "cell_type": "code",
   "execution_count": 7,
   "id": "f54e046d",
   "metadata": {},
   "outputs": [
    {
     "name": "stdout",
     "output_type": "stream",
     "text": [
      "35\n"
     ]
    }
   ],
   "source": [
    "def myFun1(a,b):\n",
    "    return a+b+10\n",
    "\n",
    "x = lambda a, b : a+b+10\n",
    "print(x(5,20))\n",
    "\n"
   ]
  },
  {
   "cell_type": "code",
   "execution_count": 1,
   "id": "681eb28b",
   "metadata": {},
   "outputs": [
    {
     "data": {
      "text/plain": [
       "'Full name: Guido Van Rossum'"
      ]
     },
     "execution_count": 1,
     "metadata": {},
     "output_type": "execute_result"
    }
   ],
   "source": [
    "full_name = lambda first, last: f'Full name: {first.title()} {last.title()}'\n",
    "full_name('guido', 'van rossum')\n",
    "'Full name: Guido Van Rossum'"
   ]
  },
  {
   "cell_type": "code",
   "execution_count": 25,
   "id": "fe2f8252",
   "metadata": {},
   "outputs": [
    {
     "data": {
      "text/plain": [
       "'Full name: Omar  Almuylaba'"
      ]
     },
     "execution_count": 25,
     "metadata": {},
     "output_type": "execute_result"
    }
   ],
   "source": [
    "full_name = lambda first, last: f'Full name: {first.title()} {last.title()}'\n",
    "full_name('omar', ' almuylaba')\n"
   ]
  },
  {
   "cell_type": "code",
   "execution_count": 26,
   "id": "a1db79a4",
   "metadata": {},
   "outputs": [
    {
     "name": "stdout",
     "output_type": "stream",
     "text": [
      "['geeg', 'keek', 'aa']\n"
     ]
    }
   ],
   "source": [
    "# Python Program to find palindromes in\n",
    "# a list of strings.\n",
    "\n",
    "my_list = [\"geeks\", \"geeg\", \"keek\", \"practice\", \"aa\"]\n",
    "\n",
    "# use anonymous function to filter palindromes.\n",
    "# Please refer below article for details of reversed\n",
    "# https://www.geeksforgeeks.org/reverse-string-python-5-different-ways/\n",
    "result = list(filter(lambda x: (x == \"\".join(reversed(x))), my_list))\n",
    "\n",
    "# printing the result\n",
    "print(result)\n"
   ]
  },
  {
   "cell_type": "code",
   "execution_count": null,
   "id": "ea12df41",
   "metadata": {},
   "outputs": [],
   "source": [
    "contains_a = lambda word: \"a\" in word\n",
    "print(contains_a(\"banana\"))\n",
    "print(contains_a(\"apple\"))\n",
    "print(contains_a(\"cherry\"))"
   ]
  },
  {
   "cell_type": "code",
   "execution_count": 27,
   "id": "66fc7d30",
   "metadata": {},
   "outputs": [
    {
     "name": "stdout",
     "output_type": "stream",
     "text": [
      "False\n",
      "True\n"
     ]
    }
   ],
   "source": [
    "long_string = lambda word: len(word) > 12\n",
    "\n",
    "print(long_string(\"short\"))\n",
    "print(long_string(\"photosynthesis\"))\n"
   ]
  },
  {
   "cell_type": "code",
   "execution_count": 28,
   "id": "b3a66cce",
   "metadata": {},
   "outputs": [
    {
     "name": "stdout",
     "output_type": "stream",
     "text": [
      "True\n",
      "False\n"
     ]
    }
   ],
   "source": [
    "#Write your lambda function here\n",
    "ends_in_a = lambda word: word[-1] == \"a\"\n",
    "\n",
    "print(ends_in_a(\"data\"))\n",
    "print(ends_in_a(\"aardvark\"))\n"
   ]
  }
 ],
 "metadata": {
  "kernelspec": {
   "display_name": "Python 3",
   "language": "python",
   "name": "python3"
  },
  "language_info": {
   "codemirror_mode": {
    "name": "ipython",
    "version": 3
   },
   "file_extension": ".py",
   "mimetype": "text/x-python",
   "name": "python",
   "nbconvert_exporter": "python",
   "pygments_lexer": "ipython3",
   "version": "3.8.8"
  }
 },
 "nbformat": 4,
 "nbformat_minor": 5
}
