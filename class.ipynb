{
 "cells": [
  {
   "cell_type": "code",
   "execution_count": null,
   "id": "e480097c",
   "metadata": {},
   "outputs": [],
   "source": [
    "#Write a shape class that contains\n",
    "\n",
    "class Shape:\n",
    "    def __init__(self, length, width):\n",
    "        self.l = length\n",
    "        self.w = width\n",
    "        print(\"New shape has been created...\")"
   ]
  },
  {
   "cell_type": "code",
   "execution_count": null,
   "id": "ea95377f",
   "metadata": {},
   "outputs": [],
   "source": [
    "#Write another class  which is inherited from the  class\n",
    "class Rectangle(Shape):\n",
    "    def __init__(self, rid, l, w):\n",
    "        self.rid = rid\n",
    "        super().__init__(l, w)\n",
    "        print(\"New Rectangle has been created...\")\n",
    "        \n",
    "    def addDrug(self):\n",
    "        \n",
    "        return self.l * self.w\n",
    "    \n",
    "    def buyDrug(self):\n",
    "        \n",
    "    def pricedrug(self):\n",
    "        "
   ]
  },
  {
   "cell_type": "code",
   "execution_count": null,
   "id": "115a5f52",
   "metadata": {},
   "outputs": [],
   "source": [
    "rect1 = Rectangle(100, 10, 20)"
   ]
  },
  {
   "cell_type": "code",
   "execution_count": null,
   "id": "2331eee8",
   "metadata": {},
   "outputs": [],
   "source": [
    "rect2 = Rectangle(200, 15, 10)"
   ]
  },
  {
   "cell_type": "code",
   "execution_count": null,
   "id": "bc2c91e6",
   "metadata": {},
   "outputs": [],
   "source": [
    "print(rect1.calcArea())"
   ]
  },
  {
   "cell_type": "code",
   "execution_count": null,
   "id": "488c1741",
   "metadata": {},
   "outputs": [],
   "source": [
    "print(rect2.calcArea())"
   ]
  },
  {
   "cell_type": "code",
   "execution_count": null,
   "id": "67f30c13",
   "metadata": {},
   "outputs": [],
   "source": [
    "rects = [] \n",
    "for i in range(5):\n",
    "    rect = Rectangle(i+10, 5+i, 20+i)\n",
    "    rects.append(rect)"
   ]
  },
  {
   "cell_type": "code",
   "execution_count": null,
   "id": "33a12958",
   "metadata": {},
   "outputs": [],
   "source": [
    "for n in rects:\n",
    "    n.displayRec()"
   ]
  },
  {
   "cell_type": "code",
   "execution_count": null,
   "id": "991ec2b9",
   "metadata": {},
   "outputs": [],
   "source": [
    "for n in rects:\n",
    "    print(n.calcArea())"
   ]
  },
  {
   "cell_type": "markdown",
   "id": "e490a589",
   "metadata": {},
   "source": [
    "* anther exaple"
   ]
  },
  {
   "cell_type": "markdown",
   "id": "d66e212e",
   "metadata": {},
   "source": [
    " ***to put contain of a class in list"
   ]
  },
  {
   "cell_type": "code",
   "execution_count": null,
   "id": "b8cd4809",
   "metadata": {},
   "outputs": [],
   "source": [
    "cars = []\n",
    "cars.append(toyota)\n",
    "cars.append(ford)\n",
    "cars.append(mazda)\n",
    "for i in cars:\n",
    "    print(i.printCar())"
   ]
  },
  {
   "cell_type": "markdown",
   "id": "05c37655",
   "metadata": {},
   "source": [
    "**to sort a class "
   ]
  },
  {
   "cell_type": "code",
   "execution_count": null,
   "id": "5592f985",
   "metadata": {},
   "outputs": [],
   "source": [
    "cars.sort(key=lambda car:car.odometer)\n",
    "for i in cars:\n",
    "    print(i.printCar())\n",
    "    print(i.odometer)"
   ]
  },
  {
   "cell_type": "markdown",
   "id": "c6ea6753",
   "metadata": {},
   "source": [
    "***to change a value of object"
   ]
  },
  {
   "cell_type": "code",
   "execution_count": null,
   "id": "ec4c266b",
   "metadata": {},
   "outputs": [],
   "source": [
    "omar.stmajor = \"MIS\"\n",
    "omar.getInf()"
   ]
  },
  {
   "cell_type": "markdown",
   "id": "3f2874fc",
   "metadata": {},
   "source": [
    "***to display info about all object in class"
   ]
  },
  {
   "cell_type": "code",
   "execution_count": null,
   "id": "98e47155",
   "metadata": {},
   "outputs": [],
   "source": [
    "for x in st_list:\n",
    "    x.getInf()"
   ]
  }
 ],
 "metadata": {
  "kernelspec": {
   "display_name": "Python 3",
   "language": "python",
   "name": "python3"
  },
  "language_info": {
   "codemirror_mode": {
    "name": "ipython",
    "version": 3
   },
   "file_extension": ".py",
   "mimetype": "text/x-python",
   "name": "python",
   "nbconvert_exporter": "python",
   "pygments_lexer": "ipython3",
   "version": "3.8.8"
  }
 },
 "nbformat": 4,
 "nbformat_minor": 5
}
